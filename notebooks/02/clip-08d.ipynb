{
 "cells": [
  {
   "outputs": [],
   "cell_type": "markdown",
   "source": [
    "# Estimate Binomial draw probabilility"
   ],
   "metadata": {}
  },
  {
   "outputs": [],
   "cell_type": "code",
   "source": [
    "using DynamicHMCModels"
   ],
   "metadata": {},
   "execution_count": 1
  },
  {
   "outputs": [],
   "cell_type": "markdown",
   "source": [
    "Define a structure to hold the data."
   ],
   "metadata": {}
  },
  {
   "outputs": [],
   "cell_type": "code",
   "source": [
    "struct BernoulliProblem\n",
    "    \"Total number of draws in the data.\"\n",
    "    n::Int\n",
    "    \"Number of draws `==1` in the data\"\n",
    "    s::Vector{Int}\n",
    "end;"
   ],
   "metadata": {},
   "execution_count": 2
  },
  {
   "outputs": [],
   "cell_type": "markdown",
   "source": [
    "Make the type callable with the parameters *as a single argument*."
   ],
   "metadata": {}
  },
  {
   "outputs": [],
   "cell_type": "code",
   "source": [
    "function (problem::BernoulliProblem)((α, )::NamedTuple{(:α, )})\n",
    "    @unpack n, s = problem        # extract the data\n",
    "    loglikelihood(Binomial(n, α), s)\n",
    "end"
   ],
   "metadata": {},
   "execution_count": 3
  },
  {
   "outputs": [],
   "cell_type": "markdown",
   "source": [
    "Create the data and complete setting up the problem."
   ],
   "metadata": {}
  },
  {
   "outputs": [
    {
     "output_type": "execute_result",
     "data": {
      "text/plain": "-1.4020427180880297"
     },
     "metadata": {},
     "execution_count": 4
    }
   ],
   "cell_type": "code",
   "source": [
    "obs = rand(Binomial(9, 2/3), 1)\n",
    "p = BernoulliProblem(9, obs)\n",
    "p((α = 0.5, ))"
   ],
   "metadata": {},
   "execution_count": 4
  },
  {
   "outputs": [],
   "cell_type": "markdown",
   "source": [
    "Write a function to return properly dimensioned transformation."
   ],
   "metadata": {}
  },
  {
   "outputs": [],
   "cell_type": "code",
   "source": [
    "problem_transformation(p::BernoulliProblem) =\n",
    "    as((α = as𝕀, ),  )\n",
    "# Use a flat priors (the default, omitted) for α\n",
    "P = TransformedLogDensity(problem_transformation(p), p)\n",
    "∇P = LogDensityRejectErrors(ADgradient(:ForwardDiff, P));"
   ],
   "metadata": {},
   "execution_count": 5
  },
  {
   "outputs": [],
   "cell_type": "markdown",
   "source": [
    "Sample"
   ],
   "metadata": {}
  },
  {
   "outputs": [
    {
     "name": "stdout",
     "output_type": "stream",
     "text": [
      "MCMC, adapting ϵ (75 steps)\n",
      "0.0011 s/step ...done\n",
      "MCMC, adapting ϵ (25 steps)\n",
      "6.6e-6 s/step ...done\n",
      "MCMC, adapting ϵ (50 steps)\n",
      "0.0023 s/step ...done\n",
      "MCMC, adapting ϵ (100 steps)\n",
      "0.00011 s/step ...done\n",
      "MCMC, adapting ϵ (200 steps)\n",
      "3.8e-5 s/step ...done\n",
      "MCMC, adapting ϵ (400 steps)\n",
      "6.6e-6 s/step ...done\n",
      "MCMC, adapting ϵ (50 steps)\n",
      "8.3e-6 s/step ...done\n",
      "MCMC (1000 steps)\n",
      "6.8e-6 s/step ...done\n"
     ]
    },
    {
     "output_type": "execute_result",
     "data": {
      "text/plain": "(NUTS_Transition{Array{Float64,1},Float64}[NUTS_Transition{Array{Float64,1},Float64}([-0.392354], -3.08442, 1, AdjacentTurn, 0.999288, 3), NUTS_Transition{Array{Float64,1},Float64}([0.0550203], -2.9579, 1, AdjacentTurn, 0.981495, 3), NUTS_Transition{Array{Float64,1},Float64}([0.161337], -2.91172, 1, DoubledTurn, 0.978167, 1), NUTS_Transition{Array{Float64,1},Float64}([0.240918], -3.01444, 1, DoubledTurn, 0.978598, 1), NUTS_Transition{Array{Float64,1},Float64}([0.141264], -2.98112, 1, DoubledTurn, 1.0, 1), NUTS_Transition{Array{Float64,1},Float64}([0.162928], -2.93921, 1, DoubledTurn, 0.994852, 1), NUTS_Transition{Array{Float64,1},Float64}([1.38846], -6.27734, 1, AdjacentTurn, 0.490507, 3), NUTS_Transition{Array{Float64,1},Float64}([1.59187], -7.20011, 1, DoubledTurn, 0.880366, 1), NUTS_Transition{Array{Float64,1},Float64}([1.538], -7.42601, 1, DoubledTurn, 1.0, 1), NUTS_Transition{Array{Float64,1},Float64}([0.937787], -6.17141, 1, DoubledTurn, 1.0, 1)  …  NUTS_Transition{Array{Float64,1},Float64}([0.214551], -3.33185, 1, AdjacentTurn, 0.949205, 3), NUTS_Transition{Array{Float64,1},Float64}([0.347608], -3.15387, 1, DoubledTurn, 0.957688, 1), NUTS_Transition{Array{Float64,1},Float64}([0.34368], -3.22254, 2, DoubledTurn, 1.0, 3), NUTS_Transition{Array{Float64,1},Float64}([-0.713558], -4.10582, 2, DoubledTurn, 0.894666, 3), NUTS_Transition{Array{Float64,1},Float64}([-1.07732], -3.77786, 1, DoubledTurn, 0.86587, 1), NUTS_Transition{Array{Float64,1},Float64}([-0.597841], -3.59637, 1, AdjacentTurn, 0.996131, 3), NUTS_Transition{Array{Float64,1},Float64}([-0.409209], -3.16355, 2, DoubledTurn, 0.978376, 3), NUTS_Transition{Array{Float64,1},Float64}([-1.05009], -4.1145, 2, DoubledTurn, 0.843369, 3), NUTS_Transition{Array{Float64,1},Float64}([-1.50181], -4.90282, 1, DoubledTurn, 0.806419, 1), NUTS_Transition{Array{Float64,1},Float64}([-1.18384], -4.81712, 1, DoubledTurn, 1.0, 1)], NUTS sampler in 1 dimensions\n  stepsize (ϵ) ≈ 0.857\n  maximum depth = 10\n  Gaussian kinetic energy, √diag(M⁻¹): [0.719484]\n)"
     },
     "metadata": {},
     "execution_count": 6
    }
   ],
   "cell_type": "code",
   "source": [
    "chain, NUTS_tuned = NUTS_init_tune_mcmc(∇P, 1000)"
   ],
   "metadata": {},
   "execution_count": 6
  },
  {
   "outputs": [],
   "cell_type": "markdown",
   "source": [
    "To get the posterior for ``α`` use `get_position` and then transform back."
   ],
   "metadata": {}
  },
  {
   "outputs": [],
   "cell_type": "code",
   "source": [
    "posterior = TransformVariables.transform.(Ref(problem_transformation(p)), get_position.(chain));"
   ],
   "metadata": {},
   "execution_count": 7
  },
  {
   "outputs": [],
   "cell_type": "markdown",
   "source": [
    "Extract the parameter."
   ],
   "metadata": {}
  },
  {
   "outputs": [],
   "cell_type": "code",
   "source": [
    "posterior_α = first.(posterior);"
   ],
   "metadata": {},
   "execution_count": 8
  },
  {
   "outputs": [],
   "cell_type": "markdown",
   "source": [
    "check the effective sample size"
   ],
   "metadata": {}
  },
  {
   "outputs": [
    {
     "output_type": "execute_result",
     "data": {
      "text/plain": "333.1589803962446"
     },
     "metadata": {},
     "execution_count": 9
    }
   ],
   "cell_type": "code",
   "source": [
    "ess_α = effective_sample_size(posterior_α)"
   ],
   "metadata": {},
   "execution_count": 9
  },
  {
   "outputs": [],
   "cell_type": "markdown",
   "source": [
    "NUTS-specific statistics"
   ],
   "metadata": {}
  },
  {
   "outputs": [
    {
     "output_type": "execute_result",
     "data": {
      "text/plain": "Hamiltonian Monte Carlo sample of length 1000\n  acceptance rate mean: 0.93, min/25%/median/75%/max: 0.23 0.91 0.97 1.0 1.0\n  termination: AdjacentTurn => 34% DoubledTurn => 66%\n  depth: 1 => 62% 2 => 38%\n"
     },
     "metadata": {},
     "execution_count": 10
    }
   ],
   "cell_type": "code",
   "source": [
    "NUTS_statistics(chain)"
   ],
   "metadata": {},
   "execution_count": 10
  },
  {
   "outputs": [],
   "cell_type": "markdown",
   "source": [
    "check the mean"
   ],
   "metadata": {}
  },
  {
   "outputs": [
    {
     "output_type": "execute_result",
     "data": {
      "text/plain": "0.4452020626251314"
     },
     "metadata": {},
     "execution_count": 11
    }
   ],
   "cell_type": "code",
   "source": [
    "mean(posterior_α)"
   ],
   "metadata": {},
   "execution_count": 11
  },
  {
   "outputs": [],
   "cell_type": "markdown",
   "source": [
    "*This notebook was generated using [Literate.jl](https://github.com/fredrikekre/Literate.jl).*"
   ],
   "metadata": {}
  }
 ],
 "nbformat_minor": 3,
 "metadata": {
  "language_info": {
   "file_extension": ".jl",
   "mimetype": "application/julia",
   "name": "julia",
   "version": "1.2.0-DEV.270"
  },
  "kernelspec": {
   "name": "julia-1.2",
   "display_name": "Julia 1.2.0-DEV.270",
   "language": "julia"
  }
 },
 "nbformat": 4
}
