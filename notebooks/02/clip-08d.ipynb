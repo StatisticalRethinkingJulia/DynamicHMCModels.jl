{
 "cells": [
  {
   "outputs": [],
   "cell_type": "markdown",
   "source": [
    "# Estimate Binomial draw probabilility"
   ],
   "metadata": {}
  },
  {
   "outputs": [],
   "cell_type": "code",
   "source": [
    "using DynamicHMCModels"
   ],
   "metadata": {},
   "execution_count": 1
  },
  {
   "outputs": [],
   "cell_type": "markdown",
   "source": [
    "Define a structure to hold the data."
   ],
   "metadata": {}
  },
  {
   "outputs": [],
   "cell_type": "code",
   "source": [
    "struct BernoulliProblem\n",
    "    \"Total number of draws in the data.\"\n",
    "    n::Int\n",
    "    \"Number of draws `==1` in the data\"\n",
    "    s::Vector{Int}\n",
    "end;"
   ],
   "metadata": {},
   "execution_count": 2
  },
  {
   "outputs": [],
   "cell_type": "markdown",
   "source": [
    "Make the type callable with the parameters *as a single argument*."
   ],
   "metadata": {}
  },
  {
   "outputs": [],
   "cell_type": "code",
   "source": [
    "function (problem::BernoulliProblem)((α, )::NamedTuple{(:α, )})\n",
    "    @unpack n, s = problem        # extract the data\n",
    "    loglikelihood(Binomial(n, α), s)\n",
    "end"
   ],
   "metadata": {},
   "execution_count": 3
  },
  {
   "outputs": [],
   "cell_type": "markdown",
   "source": [
    "Create the data and complete setting up the problem."
   ],
   "metadata": {}
  },
  {
   "outputs": [
    {
     "output_type": "execute_result",
     "data": {
      "text/plain": "-1.8075078261961934"
     },
     "metadata": {},
     "execution_count": 4
    }
   ],
   "cell_type": "code",
   "source": [
    "obs = rand(Binomial(9, 2/3), 1)\n",
    "p = BernoulliProblem(9, obs)\n",
    "p((α = 0.5, ))"
   ],
   "metadata": {},
   "execution_count": 4
  },
  {
   "outputs": [],
   "cell_type": "markdown",
   "source": [
    "Write a function to return properly dimensioned transformation."
   ],
   "metadata": {}
  },
  {
   "outputs": [],
   "cell_type": "code",
   "source": [
    "problem_transformation(p::BernoulliProblem) =\n",
    "    as((α = as𝕀, ),  )\n",
    "# Use a flat priors (the default, omitted) for α\n",
    "P = TransformedLogDensity(problem_transformation(p), p)\n",
    "∇P = LogDensityRejectErrors(ADgradient(:ForwardDiff, P));"
   ],
   "metadata": {},
   "execution_count": 5
  },
  {
   "outputs": [],
   "cell_type": "markdown",
   "source": [
    "Sample"
   ],
   "metadata": {}
  },
  {
   "outputs": [
    {
     "name": "stdout",
     "output_type": "stream",
     "text": [
      "MCMC, adapting ϵ (75 steps)\n",
      "0.0011 s/step ...done\n",
      "MCMC, adapting ϵ (25 steps)\n",
      "0.00067 s/step ...done\n",
      "MCMC, adapting ϵ (50 steps)\n",
      "0.0025 s/step ...done\n",
      "MCMC, adapting ϵ (100 steps)\n",
      "1.4e-5 s/step ...done\n",
      "MCMC, adapting ϵ (200 steps)\n",
      "7.2e-6 s/step ...done\n",
      "MCMC, adapting ϵ (400 steps)\n",
      "7.9e-6 s/step ...done\n",
      "MCMC, adapting ϵ (50 steps)\n",
      "1.2e-5 s/step ...done\n",
      "MCMC (1000 steps)\n",
      "6.7e-6 s/step ...done\n"
     ]
    },
    {
     "output_type": "execute_result",
     "data": {
      "text/plain": "(NUTS_Transition{Array{Float64,1},Float64}[NUTS_Transition{Array{Float64,1},Float64}([0.723234], -3.52527, 2, DoubledTurn, 0.990816, 3), NUTS_Transition{Array{Float64,1},Float64}([0.230835], -2.92209, 2, DoubledTurn, 0.990441, 3), NUTS_Transition{Array{Float64,1},Float64}([0.354867], -3.1531, 2, DoubledTurn, 0.965864, 3), NUTS_Transition{Array{Float64,1},Float64}([1.57619], -4.66376, 1, AdjacentTurn, 0.679152, 3), NUTS_Transition{Array{Float64,1},Float64}([1.49542], -4.07015, 1, DoubledTurn, 1.0, 1), NUTS_Transition{Array{Float64,1},Float64}([0.707533], -3.77052, 2, DoubledTurn, 0.996181, 3), NUTS_Transition{Array{Float64,1},Float64}([1.00343], -3.02555, 1, AdjacentTurn, 0.95859, 3), NUTS_Transition{Array{Float64,1},Float64}([0.350429], -3.18228, 1, AdjacentTurn, 0.975989, 3), NUTS_Transition{Array{Float64,1},Float64}([0.332937], -2.8597, 1, DoubledTurn, 0.997217, 1), NUTS_Transition{Array{Float64,1},Float64}([0.339928], -2.86136, 2, DoubledTurn, 1.0, 3)  …  NUTS_Transition{Array{Float64,1},Float64}([0.745569], -2.8761, 1, DoubledTurn, 1.0, 1), NUTS_Transition{Array{Float64,1},Float64}([0.745569], -3.68923, 1, AdjacentTurn, 0.811683, 3), NUTS_Transition{Array{Float64,1},Float64}([0.488797], -3.10949, 2, DoubledTurn, 0.956309, 3), NUTS_Transition{Array{Float64,1},Float64}([0.339946], -2.9027, 2, DoubledTurn, 0.98155, 3), NUTS_Transition{Array{Float64,1},Float64}([2.00219], -5.01617, 2, DoubledTurn, 0.678805, 3), NUTS_Transition{Array{Float64,1},Float64}([1.61601], -4.87316, 1, DoubledTurn, 1.0, 1), NUTS_Transition{Array{Float64,1},Float64}([1.67215], -4.35926, 1, DoubledTurn, 0.980697, 1), NUTS_Transition{Array{Float64,1},Float64}([0.903053], -3.9842, 1, AdjacentTurn, 0.988683, 3), NUTS_Transition{Array{Float64,1},Float64}([0.406255], -2.89491, 2, DoubledTurn, 1.0, 3), NUTS_Transition{Array{Float64,1},Float64}([0.241376], -2.9118, 1, DoubledTurn, 0.971947, 1)], NUTS sampler in 1 dimensions\n  stepsize (ϵ) ≈ 1.03\n  maximum depth = 10\n  Gaussian kinetic energy, √diag(M⁻¹): [0.625559]\n)"
     },
     "metadata": {},
     "execution_count": 6
    }
   ],
   "cell_type": "code",
   "source": [
    "chain, NUTS_tuned = NUTS_init_tune_mcmc(∇P, 1000)"
   ],
   "metadata": {},
   "execution_count": 6
  },
  {
   "outputs": [],
   "cell_type": "markdown",
   "source": [
    "To get the posterior for ``α`` use `get_position` and then transform back."
   ],
   "metadata": {}
  },
  {
   "outputs": [],
   "cell_type": "code",
   "source": [
    "posterior = TransformVariables.transform.(Ref(problem_transformation(p)), get_position.(chain));"
   ],
   "metadata": {},
   "execution_count": 7
  },
  {
   "outputs": [],
   "cell_type": "markdown",
   "source": [
    "Extract the parameter."
   ],
   "metadata": {}
  },
  {
   "outputs": [],
   "cell_type": "code",
   "source": [
    "posterior_α = first.(posterior);"
   ],
   "metadata": {},
   "execution_count": 8
  },
  {
   "outputs": [],
   "cell_type": "markdown",
   "source": [
    "check the effective sample size"
   ],
   "metadata": {}
  },
  {
   "outputs": [
    {
     "output_type": "execute_result",
     "data": {
      "text/plain": "401.79418388192596"
     },
     "metadata": {},
     "execution_count": 9
    }
   ],
   "cell_type": "code",
   "source": [
    "ess_α = effective_sample_size(posterior_α)"
   ],
   "metadata": {},
   "execution_count": 9
  },
  {
   "outputs": [],
   "cell_type": "markdown",
   "source": [
    "NUTS-specific statistics"
   ],
   "metadata": {}
  },
  {
   "outputs": [
    {
     "output_type": "execute_result",
     "data": {
      "text/plain": "Hamiltonian Monte Carlo sample of length 1000\n  acceptance rate mean: 0.92, min/25%/median/75%/max: 0.24 0.89 0.97 1.0 1.0\n  termination: AdjacentTurn => 36% DoubledTurn => 64%\n  depth: 1 => 66% 2 => 34%\n"
     },
     "metadata": {},
     "execution_count": 10
    }
   ],
   "cell_type": "code",
   "source": [
    "NUTS_statistics(chain)"
   ],
   "metadata": {},
   "execution_count": 10
  },
  {
   "outputs": [],
   "cell_type": "markdown",
   "source": [
    "check the mean"
   ],
   "metadata": {}
  },
  {
   "outputs": [
    {
     "output_type": "execute_result",
     "data": {
      "text/plain": "0.6359443515023615"
     },
     "metadata": {},
     "execution_count": 11
    }
   ],
   "cell_type": "code",
   "source": [
    "mean(posterior_α)"
   ],
   "metadata": {},
   "execution_count": 11
  },
  {
   "outputs": [],
   "cell_type": "markdown",
   "source": [
    "*This notebook was generated using [Literate.jl](https://github.com/fredrikekre/Literate.jl).*"
   ],
   "metadata": {}
  }
 ],
 "nbformat_minor": 3,
 "metadata": {
  "language_info": {
   "file_extension": ".jl",
   "mimetype": "application/julia",
   "name": "julia",
   "version": "1.2.0-DEV.270"
  },
  "kernelspec": {
   "name": "julia-1.2",
   "display_name": "Julia 1.2.0-DEV.270",
   "language": "julia"
  }
 },
 "nbformat": 4
}
