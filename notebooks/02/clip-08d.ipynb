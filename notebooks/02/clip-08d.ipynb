{
 "cells": [
  {
   "outputs": [],
   "cell_type": "markdown",
   "source": [
    "# Estimate Binomial draw probabilility"
   ],
   "metadata": {}
  },
  {
   "outputs": [],
   "cell_type": "code",
   "source": [
    "using SRDynamicHMC"
   ],
   "metadata": {},
   "execution_count": 1
  },
  {
   "outputs": [],
   "cell_type": "markdown",
   "source": [
    "Define a structure to hold the data."
   ],
   "metadata": {}
  },
  {
   "outputs": [],
   "cell_type": "code",
   "source": [
    "struct BernoulliProblem\n",
    "    \"Total number of draws in the data.\"\n",
    "    n::Int\n",
    "    \"Number of draws `==1` in the data\"\n",
    "    s::Vector{Int}\n",
    "end;"
   ],
   "metadata": {},
   "execution_count": 2
  },
  {
   "outputs": [],
   "cell_type": "markdown",
   "source": [
    "Make the type callable with the parameters *as a single argument*."
   ],
   "metadata": {}
  },
  {
   "outputs": [],
   "cell_type": "code",
   "source": [
    "function (problem::BernoulliProblem)((α, )::NamedTuple{(:α, )})\n",
    "    @unpack n, s = problem        # extract the data\n",
    "    loglikelihood(Binomial(n, α), s)\n",
    "end"
   ],
   "metadata": {},
   "execution_count": 3
  },
  {
   "outputs": [],
   "cell_type": "markdown",
   "source": [
    "Create the data and complete setting up the problem."
   ],
   "metadata": {}
  },
  {
   "outputs": [
    {
     "output_type": "execute_result",
     "data": {
      "text/plain": "-2.6548056865833978"
     },
     "metadata": {},
     "execution_count": 4
    }
   ],
   "cell_type": "code",
   "source": [
    "obs = rand(Binomial(9, 2/3), 1)\n",
    "p = BernoulliProblem(9, obs)\n",
    "p((α = 0.5, ))"
   ],
   "metadata": {},
   "execution_count": 4
  },
  {
   "outputs": [],
   "cell_type": "markdown",
   "source": [
    "Write a function to return properly dimensioned transformation."
   ],
   "metadata": {}
  },
  {
   "outputs": [],
   "cell_type": "code",
   "source": [
    "problem_transformation(p::BernoulliProblem) =\n",
    "    as((α = as𝕀, ),  )\n",
    "# Use a flat priors (the default, omitted) for α\n",
    "P = TransformedLogDensity(problem_transformation(p), p)\n",
    "∇P = LogDensityRejectErrors(ADgradient(:ForwardDiff, P));"
   ],
   "metadata": {},
   "execution_count": 5
  },
  {
   "outputs": [],
   "cell_type": "markdown",
   "source": [
    "Sample"
   ],
   "metadata": {}
  },
  {
   "outputs": [
    {
     "name": "stdout",
     "output_type": "stream",
     "text": [
      "MCMC, adapting ϵ (75 steps)\n",
      "0.0012 s/step ...done\n",
      "MCMC, adapting ϵ (25 steps)\n",
      "6.5e-6 s/step ...done\n",
      "MCMC, adapting ϵ (50 steps)\n",
      "0.0024 s/step ...done\n",
      "MCMC, adapting ϵ (100 steps)\n",
      "7.6e-6 s/step ...done\n",
      "MCMC, adapting ϵ (200 steps)\n",
      "7.6e-6 s/step ...done\n",
      "MCMC, adapting ϵ (400 steps)\n",
      "9.5e-6 s/step ...done\n",
      "MCMC, adapting ϵ (50 steps)\n",
      "1.1e-5 s/step ...done\n",
      "MCMC (1000 steps)\n",
      "6.6e-6 s/step ...done\n"
     ]
    },
    {
     "output_type": "execute_result",
     "data": {
      "text/plain": "(NUTS_Transition{Array{Float64,1},Float64}[NUTS_Transition{Array{Float64,1},Float64}([0.552877], -5.713, 2, DoubledTurn, 0.648339, 3), NUTS_Transition{Array{Float64,1},Float64}([0.659323], -3.06611, 2, DoubledTurn, 1.0, 3), NUTS_Transition{Array{Float64,1},Float64}([0.836795], -3.16046, 2, DoubledTurn, 0.967635, 3), NUTS_Transition{Array{Float64,1},Float64}([1.91229], -6.4469, 2, DoubledTurn, 0.468474, 3), NUTS_Transition{Array{Float64,1},Float64}([-0.0256905], -5.82093, 1, AdjacentTurn, 0.820905, 3), NUTS_Transition{Array{Float64,1},Float64}([0.670406], -3.74544, 1, AdjacentTurn, 1.0, 3), NUTS_Transition{Array{Float64,1},Float64}([0.294183], -3.42611, 1, DoubledTurn, 0.866748, 1), NUTS_Transition{Array{Float64,1},Float64}([0.327323], -3.55702, 1, DoubledTurn, 1.0, 1), NUTS_Transition{Array{Float64,1},Float64}([0.767162], -3.23097, 1, AdjacentTurn, 1.0, 3), NUTS_Transition{Array{Float64,1},Float64}([0.700398], -2.96015, 1, DoubledTurn, 0.988773, 1)  …  NUTS_Transition{Array{Float64,1},Float64}([0.877456], -3.11506, 1, AdjacentTurn, 1.0, 3), NUTS_Transition{Array{Float64,1},Float64}([0.830095], -2.94158, 2, DoubledTurn, 0.98819, 3), NUTS_Transition{Array{Float64,1},Float64}([1.44343], -3.08367, 2, DoubledTurn, 0.972448, 3), NUTS_Transition{Array{Float64,1},Float64}([0.219712], -3.56219, 2, DoubledTurn, 0.960952, 3), NUTS_Transition{Array{Float64,1},Float64}([1.16317], -3.62638, 1, AdjacentTurn, 0.985817, 3), NUTS_Transition{Array{Float64,1},Float64}([1.19644], -2.91701, 1, DoubledTurn, 0.996635, 1), NUTS_Transition{Array{Float64,1},Float64}([1.23314], -3.03704, 2, DoubledTurn, 0.986424, 3), NUTS_Transition{Array{Float64,1},Float64}([1.14936], -3.82655, 2, DoubledTurn, 0.885463, 3), NUTS_Transition{Array{Float64,1},Float64}([1.09712], -3.60788, 2, DoubledTurn, 0.889493, 3), NUTS_Transition{Array{Float64,1},Float64}([0.777532], -2.90847, 2, DoubledTurn, 0.997143, 3)], NUTS sampler in 1 dimensions\n  stepsize (ϵ) ≈ 0.969\n  maximum depth = 10\n  Gaussian kinetic energy, √diag(M⁻¹): [0.725611]\n)"
     },
     "metadata": {},
     "execution_count": 6
    }
   ],
   "cell_type": "code",
   "source": [
    "chain, NUTS_tuned = NUTS_init_tune_mcmc(∇P, 1000)"
   ],
   "metadata": {},
   "execution_count": 6
  },
  {
   "outputs": [],
   "cell_type": "markdown",
   "source": [
    "To get the posterior for ``α`` use `get_position` and then transform back."
   ],
   "metadata": {}
  },
  {
   "outputs": [],
   "cell_type": "code",
   "source": [
    "posterior = TransformVariables.transform.(Ref(problem_transformation(p)), get_position.(chain));"
   ],
   "metadata": {},
   "execution_count": 7
  },
  {
   "outputs": [],
   "cell_type": "markdown",
   "source": [
    "Extract the parameter."
   ],
   "metadata": {}
  },
  {
   "outputs": [],
   "cell_type": "code",
   "source": [
    "posterior_α = first.(posterior);"
   ],
   "metadata": {},
   "execution_count": 8
  },
  {
   "outputs": [],
   "cell_type": "markdown",
   "source": [
    "check the effective sample size"
   ],
   "metadata": {}
  },
  {
   "outputs": [
    {
     "output_type": "execute_result",
     "data": {
      "text/plain": "362.85859910827355"
     },
     "metadata": {},
     "execution_count": 9
    }
   ],
   "cell_type": "code",
   "source": [
    "ess_α = effective_sample_size(posterior_α)"
   ],
   "metadata": {},
   "execution_count": 9
  },
  {
   "outputs": [],
   "cell_type": "markdown",
   "source": [
    "NUTS-specific statistics"
   ],
   "metadata": {}
  },
  {
   "outputs": [
    {
     "output_type": "execute_result",
     "data": {
      "text/plain": "Hamiltonian Monte Carlo sample of length 1000\n  acceptance rate mean: 0.92, min/25%/median/75%/max: 0.19 0.89 0.97 1.0 1.0\n  termination: AdjacentTurn => 34% DoubledTurn => 66%\n  depth: 1 => 64% 2 => 36% 3 => 0%\n"
     },
     "metadata": {},
     "execution_count": 10
    }
   ],
   "cell_type": "code",
   "source": [
    "NUTS_statistics(chain)"
   ],
   "metadata": {},
   "execution_count": 10
  },
  {
   "outputs": [],
   "cell_type": "markdown",
   "source": [
    "check the mean"
   ],
   "metadata": {}
  },
  {
   "outputs": [
    {
     "output_type": "execute_result",
     "data": {
      "text/plain": "0.7316171626811596"
     },
     "metadata": {},
     "execution_count": 11
    }
   ],
   "cell_type": "code",
   "source": [
    "mean(posterior_α)"
   ],
   "metadata": {},
   "execution_count": 11
  },
  {
   "outputs": [],
   "cell_type": "markdown",
   "source": [
    "*This notebook was generated using [Literate.jl](https://github.com/fredrikekre/Literate.jl).*"
   ],
   "metadata": {}
  }
 ],
 "nbformat_minor": 3,
 "metadata": {
  "language_info": {
   "file_extension": ".jl",
   "mimetype": "application/julia",
   "name": "julia",
   "version": "1.2.0-DEV.270"
  },
  "kernelspec": {
   "name": "julia-1.2",
   "display_name": "Julia 1.2.0-DEV.270",
   "language": "julia"
  }
 },
 "nbformat": 4
}
