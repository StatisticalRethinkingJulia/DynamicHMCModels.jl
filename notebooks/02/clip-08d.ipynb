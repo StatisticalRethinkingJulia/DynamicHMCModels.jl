{
 "cells": [
  {
   "outputs": [],
   "cell_type": "markdown",
   "source": [
    "# Estimate Binomial draw probabilility"
   ],
   "metadata": {}
  },
  {
   "outputs": [],
   "cell_type": "code",
   "source": [
    "using SRDynamicHMC"
   ],
   "metadata": {},
   "execution_count": 1
  },
  {
   "outputs": [],
   "cell_type": "markdown",
   "source": [
    "Define a structure to hold the data."
   ],
   "metadata": {}
  },
  {
   "outputs": [],
   "cell_type": "code",
   "source": [
    "struct BernoulliProblem\n",
    "    \"Total number of draws in the data.\"\n",
    "    n::Int\n",
    "    \"Number of draws `==1` in the data\"\n",
    "    s::Vector{Int}\n",
    "end;"
   ],
   "metadata": {},
   "execution_count": 2
  },
  {
   "outputs": [],
   "cell_type": "markdown",
   "source": [
    "Make the type callable with the parameters *as a single argument*."
   ],
   "metadata": {}
  },
  {
   "outputs": [],
   "cell_type": "code",
   "source": [
    "function (problem::BernoulliProblem)((α, )::NamedTuple{(:α, )})\n",
    "    @unpack n, s = problem        # extract the data\n",
    "    loglikelihood(Binomial(n, α), s)\n",
    "end"
   ],
   "metadata": {},
   "execution_count": 3
  },
  {
   "outputs": [],
   "cell_type": "markdown",
   "source": [
    "Create the data and complete setting up the problem."
   ],
   "metadata": {}
  },
  {
   "outputs": [
    {
     "output_type": "execute_result",
     "data": {
      "text/plain": "-4.041100047703289"
     },
     "metadata": {},
     "execution_count": 4
    }
   ],
   "cell_type": "code",
   "source": [
    "obs = rand(Binomial(9, 2/3), 1)\n",
    "p = BernoulliProblem(9, obs)\n",
    "p((α = 0.5, ))"
   ],
   "metadata": {},
   "execution_count": 4
  },
  {
   "outputs": [],
   "cell_type": "markdown",
   "source": [
    "Write a function to return properly dimensioned transformation."
   ],
   "metadata": {}
  },
  {
   "outputs": [],
   "cell_type": "code",
   "source": [
    "problem_transformation(p::BernoulliProblem) =\n",
    "    as((α = as𝕀, ),  )\n",
    "# Use a flat priors (the default, omitted) for α\n",
    "P = TransformedLogDensity(problem_transformation(p), p)\n",
    "∇P = LogDensityRejectErrors(ADgradient(:ForwardDiff, P));"
   ],
   "metadata": {},
   "execution_count": 5
  },
  {
   "outputs": [],
   "cell_type": "markdown",
   "source": [
    "Sample"
   ],
   "metadata": {}
  },
  {
   "outputs": [
    {
     "name": "stdout",
     "output_type": "stream",
     "text": [
      "MCMC, adapting ϵ (75 steps)\n",
      "0.0013 s/step ...done\n",
      "MCMC, adapting ϵ (25 steps)\n",
      "1.1e-5 s/step ...done\n",
      "MCMC, adapting ϵ (50 steps)\n",
      "0.0025 s/step ...done\n",
      "MCMC, adapting ϵ (100 steps)\n",
      "8.9e-6 s/step ...done\n",
      "MCMC, adapting ϵ (200 steps)\n",
      "8.0e-6 s/step ...done\n",
      "MCMC, adapting ϵ (400 steps)\n",
      "7.9e-6 s/step ...done\n",
      "MCMC, adapting ϵ (50 steps)\n",
      "1.0e-5 s/step ...done\n",
      "MCMC (1000 steps)\n",
      "6.7e-6 s/step ...done\n"
     ]
    },
    {
     "output_type": "execute_result",
     "data": {
      "text/plain": "(NUTS_Transition{Array{Float64,1},Float64}[NUTS_Transition{Array{Float64,1},Float64}([2.86732], -4.92578, 1, DoubledTurn, 1.0, 1), NUTS_Transition{Array{Float64,1},Float64}([3.16645], -4.62687, 2, DoubledTurn, 0.987731, 3), NUTS_Transition{Array{Float64,1},Float64}([2.93305], -4.62349, 1, DoubledTurn, 1.0, 1), NUTS_Transition{Array{Float64,1},Float64}([1.31305], -3.94207, 2, DoubledTurn, 1.0, 3), NUTS_Transition{Array{Float64,1},Float64}([0.557012], -3.90411, 1, AdjacentTurn, 0.809965, 3), NUTS_Transition{Array{Float64,1},Float64}([0.411088], -4.53864, 1, DoubledTurn, 0.869907, 1), NUTS_Transition{Array{Float64,1},Float64}([0.976492], -3.88075, 1, DoubledTurn, 1.0, 1), NUTS_Transition{Array{Float64,1},Float64}([0.976492], -4.63824, 1, DoubledTurn, 0.384041, 1), NUTS_Transition{Array{Float64,1},Float64}([1.86239], -3.49184, 1, AdjacentTurn, 0.955795, 3), NUTS_Transition{Array{Float64,1},Float64}([1.85006], -3.13387, 1, DoubledTurn, 1.0, 1)  …  NUTS_Transition{Array{Float64,1},Float64}([2.42451], -3.81275, 1, DoubledTurn, 1.0, 1), NUTS_Transition{Array{Float64,1},Float64}([2.63098], -3.86464, 1, DoubledTurn, 0.969097, 1), NUTS_Transition{Array{Float64,1},Float64}([-0.0922726], -7.35619, 2, DoubledTurn, 1.0, 3), NUTS_Transition{Array{Float64,1},Float64}([0.722351], -4.95933, 1, DoubledTurn, 1.0, 1), NUTS_Transition{Array{Float64,1},Float64}([2.37474], -4.78025, 1, AdjacentTurn, 0.705968, 3), NUTS_Transition{Array{Float64,1},Float64}([1.46395], -3.43522, 2, DoubledTurn, 1.0, 3), NUTS_Transition{Array{Float64,1},Float64}([1.58124], -3.02739, 1, AdjacentTurn, 0.998644, 3), NUTS_Transition{Array{Float64,1},Float64}([1.42839], -3.08498, 2, DoubledTurn, 0.989441, 3), NUTS_Transition{Array{Float64,1},Float64}([1.52701], -3.02426, 1, AdjacentTurn, 0.999755, 3), NUTS_Transition{Array{Float64,1},Float64}([1.89612], -3.67566, 2, DoubledTurn, 0.880863, 3)], NUTS sampler in 1 dimensions\n  stepsize (ϵ) ≈ 0.975\n  maximum depth = 10\n  Gaussian kinetic energy, √diag(M⁻¹): [0.840358]\n)"
     },
     "metadata": {},
     "execution_count": 6
    }
   ],
   "cell_type": "code",
   "source": [
    "chain, NUTS_tuned = NUTS_init_tune_mcmc(∇P, 1000)"
   ],
   "metadata": {},
   "execution_count": 6
  },
  {
   "outputs": [],
   "cell_type": "markdown",
   "source": [
    "To get the posterior for ``α`` use `get_position` and then transform back."
   ],
   "metadata": {}
  },
  {
   "outputs": [],
   "cell_type": "code",
   "source": [
    "posterior = TransformVariables.transform.(Ref(problem_transformation(p)), get_position.(chain));"
   ],
   "metadata": {},
   "execution_count": 7
  },
  {
   "outputs": [],
   "cell_type": "markdown",
   "source": [
    "Extract the parameter."
   ],
   "metadata": {}
  },
  {
   "outputs": [],
   "cell_type": "code",
   "source": [
    "posterior_α = first.(posterior);"
   ],
   "metadata": {},
   "execution_count": 8
  },
  {
   "outputs": [],
   "cell_type": "markdown",
   "source": [
    "check the effective sample size"
   ],
   "metadata": {}
  },
  {
   "outputs": [
    {
     "output_type": "execute_result",
     "data": {
      "text/plain": "433.7125631531574"
     },
     "metadata": {},
     "execution_count": 9
    }
   ],
   "cell_type": "code",
   "source": [
    "ess_α = effective_sample_size(posterior_α)"
   ],
   "metadata": {},
   "execution_count": 9
  },
  {
   "outputs": [],
   "cell_type": "markdown",
   "source": [
    "NUTS-specific statistics"
   ],
   "metadata": {}
  },
  {
   "outputs": [
    {
     "output_type": "execute_result",
     "data": {
      "text/plain": "Hamiltonian Monte Carlo sample of length 1000\n  acceptance rate mean: 0.91, min/25%/median/75%/max: 0.03 0.89 0.97 1.0 1.0\n  termination: AdjacentTurn => 35% DoubledTurn => 65%\n  depth: 1 => 66% 2 => 34% 3 => 0%\n"
     },
     "metadata": {},
     "execution_count": 10
    }
   ],
   "cell_type": "code",
   "source": [
    "NUTS_statistics(chain)"
   ],
   "metadata": {},
   "execution_count": 10
  },
  {
   "outputs": [],
   "cell_type": "markdown",
   "source": [
    "check the mean"
   ],
   "metadata": {}
  },
  {
   "outputs": [
    {
     "output_type": "execute_result",
     "data": {
      "text/plain": "0.8189866261221316"
     },
     "metadata": {},
     "execution_count": 11
    }
   ],
   "cell_type": "code",
   "source": [
    "mean(posterior_α)"
   ],
   "metadata": {},
   "execution_count": 11
  },
  {
   "outputs": [],
   "cell_type": "markdown",
   "source": [
    "*This notebook was generated using [Literate.jl](https://github.com/fredrikekre/Literate.jl).*"
   ],
   "metadata": {}
  }
 ],
 "nbformat_minor": 3,
 "metadata": {
  "language_info": {
   "file_extension": ".jl",
   "mimetype": "application/julia",
   "name": "julia",
   "version": "1.2.0-DEV.264"
  },
  "kernelspec": {
   "name": "julia-1.2",
   "display_name": "Julia 1.2.0-DEV.264",
   "language": "julia"
  }
 },
 "nbformat": 4
}
