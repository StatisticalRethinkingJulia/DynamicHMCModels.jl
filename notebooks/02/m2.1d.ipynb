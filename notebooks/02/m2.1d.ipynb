{
 "cells": [
  {
   "outputs": [],
   "cell_type": "markdown",
   "source": [
    "# Estimate Binomial draw probabilility"
   ],
   "metadata": {}
  },
  {
   "outputs": [],
   "cell_type": "code",
   "source": [
    "using DynamicHMCModels"
   ],
   "metadata": {},
   "execution_count": 1
  },
  {
   "outputs": [],
   "cell_type": "markdown",
   "source": [
    "Define a structure to hold the data."
   ],
   "metadata": {}
  },
  {
   "outputs": [],
   "cell_type": "code",
   "source": [
    "struct BernoulliProblem\n",
    "    \"Total number of draws in the data.\"\n",
    "    n::Int\n",
    "    \"Number of draws `==1` in the data\"\n",
    "    s::Vector{Int}\n",
    "end;"
   ],
   "metadata": {},
   "execution_count": 2
  },
  {
   "outputs": [],
   "cell_type": "markdown",
   "source": [
    "Make the type callable with the parameters *as a single argument*."
   ],
   "metadata": {}
  },
  {
   "outputs": [],
   "cell_type": "code",
   "source": [
    "function (problem::BernoulliProblem)((α, )::NamedTuple{(:α, )})\n",
    "    @unpack n, s = problem        # extract the data\n",
    "    loglikelihood(Binomial(n, α), s)\n",
    "end"
   ],
   "metadata": {},
   "execution_count": 3
  },
  {
   "outputs": [],
   "cell_type": "markdown",
   "source": [
    "Create the data and complete setting up the problem."
   ],
   "metadata": {}
  },
  {
   "outputs": [
    {
     "output_type": "execute_result",
     "data": {
      "text/plain": "-2.6548056865833978"
     },
     "metadata": {},
     "execution_count": 4
    }
   ],
   "cell_type": "code",
   "source": [
    "obs = rand(Binomial(9, 2/3), 1)\n",
    "p = BernoulliProblem(9, obs)\n",
    "p((α = 0.5, ))"
   ],
   "metadata": {},
   "execution_count": 4
  },
  {
   "outputs": [],
   "cell_type": "markdown",
   "source": [
    "Write a function to return properly dimensioned transformation."
   ],
   "metadata": {}
  },
  {
   "outputs": [
    {
     "output_type": "execute_result",
     "data": {
      "text/plain": "problem_transformation (generic function with 1 method)"
     },
     "metadata": {},
     "execution_count": 5
    }
   ],
   "cell_type": "code",
   "source": [
    "problem_transformation(p::BernoulliProblem) =\n",
    "    as((α = as𝕀, ),  )"
   ],
   "metadata": {},
   "execution_count": 5
  },
  {
   "outputs": [],
   "cell_type": "markdown",
   "source": [
    "Use a flat priors (the default, omitted) for α"
   ],
   "metadata": {}
  },
  {
   "outputs": [],
   "cell_type": "code",
   "source": [
    "P = TransformedLogDensity(problem_transformation(p), p)\n",
    "∇P = ADgradient(:ForwardDiff, P);\n",
    "\n",
    "#import Zygote\n",
    "#∇P = ADgradient(:Zygote, P);"
   ],
   "metadata": {},
   "execution_count": 6
  },
  {
   "outputs": [],
   "cell_type": "markdown",
   "source": [
    "Sample"
   ],
   "metadata": {}
  },
  {
   "outputs": [
    {
     "name": "stdout",
     "output_type": "stream",
     "text": [
      "MCMC, adapting ϵ (75 steps)\n",
      "3.2e-5 s/step ...done\n",
      "MCMC, adapting ϵ (25 steps)\n",
      "3.2e-5 s/step ...done\n",
      "MCMC, adapting ϵ (50 steps)\n",
      "3.5e-5 s/step ...done\n",
      "MCMC, adapting ϵ (100 steps)\n",
      "3.2e-5 s/step ...done\n",
      "MCMC, adapting ϵ (200 steps)\n",
      "2.6e-5 s/step ...done\n",
      "MCMC, adapting ϵ (400 steps)\n",
      "2.7e-5 s/step ...done\n",
      "MCMC, adapting ϵ (50 steps)\n",
      "3.5e-5 s/step ...done\n",
      "MCMC (1000 steps)\n",
      "5.5e-5 s/step ...done\n"
     ]
    },
    {
     "output_type": "execute_result",
     "data": {
      "text/plain": "(NUTS_Transition{Array{Float64,1},Float64}[NUTS_Transition{Array{Float64,1},Float64}([1.0328655247033827], -3.2374385234471186, 1, DynamicHMC.AdjacentTurn, 0.9875355398706155, 3), NUTS_Transition{Array{Float64,1},Float64}([0.887552808224404], -2.872930953640701, 2, DynamicHMC.DoubledTurn, 0.9990108145348179, 3), NUTS_Transition{Array{Float64,1},Float64}([1.4908224999609556], -3.240441707529592, 2, DynamicHMC.DoubledTurn, 0.9160725538494452, 3), NUTS_Transition{Array{Float64,1},Float64}([1.4797851669566797], -3.6887746008342885, 2, DynamicHMC.DoubledTurn, 0.9452034819163977, 3), NUTS_Transition{Array{Float64,1},Float64}([0.923771958044846], -3.155302281015916, 2, DynamicHMC.DoubledTurn, 0.9758107224010629, 3), NUTS_Transition{Array{Float64,1},Float64}([1.3655683012809976], -3.094929852695037, 2, DynamicHMC.DoubledTurn, 0.9472331084426999, 3), NUTS_Transition{Array{Float64,1},Float64}([1.353715149291812], -3.534793313547187, 2, DynamicHMC.DoubledTurn, 0.9441643681033716, 3), NUTS_Transition{Array{Float64,1},Float64}([1.02248556047495], -3.069885226987296, 2, DynamicHMC.DoubledTurn, 0.9882376013134871, 3), NUTS_Transition{Array{Float64,1},Float64}([1.0310871159044692], -2.8652152809482927, 1, DynamicHMC.DoubledTurn, 0.9997118555055898, 1), NUTS_Transition{Array{Float64,1},Float64}([0.7406150501131403], -3.000845236104737, 2, DynamicHMC.DoubledTurn, 0.9695047582807704, 3)  …  NUTS_Transition{Array{Float64,1},Float64}([0.2526663452686382], -3.5188144789962243, 1, DynamicHMC.AdjacentTurn, 0.8347905223989165, 3), NUTS_Transition{Array{Float64,1},Float64}([0.9695448651916634], -3.277338200437187, 1, DynamicHMC.AdjacentTurn, 1.0, 3), NUTS_Transition{Array{Float64,1},Float64}([0.773954040051789], -3.2042929558824014, 2, DynamicHMC.DoubledTurn, 0.9199058663504317, 3), NUTS_Transition{Array{Float64,1},Float64}([1.6279939775865895], -3.334554203099351, 2, DynamicHMC.DoubledTurn, 0.9252704785331156, 3), NUTS_Transition{Array{Float64,1},Float64}([1.0281793837090694], -3.1803310858210434, 1, DynamicHMC.AdjacentTurn, 0.990456787832093, 3), NUTS_Transition{Array{Float64,1},Float64}([1.0117989895786095], -2.8641187306102136, 1, DynamicHMC.DoubledTurn, 1.0, 1), NUTS_Transition{Array{Float64,1},Float64}([0.3256525174362038], -3.396742235786908, 1, DynamicHMC.AdjacentTurn, 0.866012074653787, 3), NUTS_Transition{Array{Float64,1},Float64}([1.2434106104350027], -3.376196172854925, 1, DynamicHMC.AdjacentTurn, 0.9880826500425505, 3), NUTS_Transition{Array{Float64,1},Float64}([1.0601852563867125], -3.0231403198293747, 2, DynamicHMC.DoubledTurn, 0.9867556002495262, 3), NUTS_Transition{Array{Float64,1},Float64}([1.4035135633732243], -3.2051372035558625, 2, DynamicHMC.DoubledTurn, 0.9379114237364566, 3)], NUTS sampler in 1 dimensions\n  stepsize (ϵ) ≈ 1.08\n  maximum depth = 10\n  Gaussian kinetic energy, √diag(M⁻¹): [0.7373723714809397]\n)"
     },
     "metadata": {},
     "execution_count": 7
    }
   ],
   "cell_type": "code",
   "source": [
    "chain, NUTS_tuned = NUTS_init_tune_mcmc(∇P, 1000)"
   ],
   "metadata": {},
   "execution_count": 7
  },
  {
   "outputs": [],
   "cell_type": "markdown",
   "source": [
    "To get the posterior for ``α`` use `get_position` and then transform back."
   ],
   "metadata": {}
  },
  {
   "outputs": [],
   "cell_type": "code",
   "source": [
    "posterior = TransformVariables.transform.(Ref(problem_transformation(p)), get_position.(chain));"
   ],
   "metadata": {},
   "execution_count": 8
  },
  {
   "outputs": [],
   "cell_type": "markdown",
   "source": [
    "Extract the parameter."
   ],
   "metadata": {}
  },
  {
   "outputs": [],
   "cell_type": "code",
   "source": [
    "posterior_α = first.(posterior);"
   ],
   "metadata": {},
   "execution_count": 9
  },
  {
   "outputs": [],
   "cell_type": "markdown",
   "source": [
    "check the effective sample size"
   ],
   "metadata": {}
  },
  {
   "outputs": [
    {
     "output_type": "execute_result",
     "data": {
      "text/plain": "334.688636159288"
     },
     "metadata": {},
     "execution_count": 10
    }
   ],
   "cell_type": "code",
   "source": [
    "ess_α = effective_sample_size(posterior_α)"
   ],
   "metadata": {},
   "execution_count": 10
  },
  {
   "outputs": [],
   "cell_type": "markdown",
   "source": [
    "NUTS-specific statistics"
   ],
   "metadata": {}
  },
  {
   "outputs": [
    {
     "output_type": "execute_result",
     "data": {
      "text/plain": "Hamiltonian Monte Carlo sample of length 1000\n  acceptance rate mean: 0.89, min/25%/median/75%/max: 0.03 0.86 0.97 1.0 1.0\n  termination: AdjacentTurn => 24% DoubledTurn => 76%\n  depth: 1 => 61% 2 => 39%\n"
     },
     "metadata": {},
     "execution_count": 11
    }
   ],
   "cell_type": "code",
   "source": [
    "NUTS_statistics(chain)"
   ],
   "metadata": {},
   "execution_count": 11
  },
  {
   "outputs": [],
   "cell_type": "markdown",
   "source": [
    "check the mean"
   ],
   "metadata": {}
  },
  {
   "outputs": [
    {
     "output_type": "execute_result",
     "data": {
      "text/plain": "0.7333630947128722"
     },
     "metadata": {},
     "execution_count": 12
    }
   ],
   "cell_type": "code",
   "source": [
    "mean(posterior_α)"
   ],
   "metadata": {},
   "execution_count": 12
  },
  {
   "outputs": [],
   "cell_type": "markdown",
   "source": [
    "*This notebook was generated using [Literate.jl](https://github.com/fredrikekre/Literate.jl).*"
   ],
   "metadata": {}
  }
 ],
 "nbformat_minor": 3,
 "metadata": {
  "language_info": {
   "file_extension": ".jl",
   "mimetype": "application/julia",
   "name": "julia",
   "version": "1.3.0-alpha.8"
  },
  "kernelspec": {
   "name": "julia-1.3",
   "display_name": "Julia 1.3.0-alpha.8",
   "language": "julia"
  }
 },
 "nbformat": 4
}
