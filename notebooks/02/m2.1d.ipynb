{
 "cells": [
  {
   "outputs": [],
   "cell_type": "markdown",
   "source": [
    "# Estimate Binomial draw probabilility"
   ],
   "metadata": {}
  },
  {
   "outputs": [],
   "cell_type": "code",
   "source": [
    "using DynamicHMCModels"
   ],
   "metadata": {},
   "execution_count": 1
  },
  {
   "outputs": [],
   "cell_type": "markdown",
   "source": [
    "Define a structure to hold the data."
   ],
   "metadata": {}
  },
  {
   "outputs": [],
   "cell_type": "code",
   "source": [
    "struct BernoulliProblem\n",
    "    \"Total number of draws in the data.\"\n",
    "    n::Int\n",
    "    \"Number of draws `==1` in the data\"\n",
    "    s::Vector{Int}\n",
    "end;"
   ],
   "metadata": {},
   "execution_count": 2
  },
  {
   "outputs": [],
   "cell_type": "markdown",
   "source": [
    "Make the type callable with the parameters *as a single argument*."
   ],
   "metadata": {}
  },
  {
   "outputs": [],
   "cell_type": "code",
   "source": [
    "function (problem::BernoulliProblem)((α, )::NamedTuple{(:α, )})\n",
    "    @unpack n, s = problem        # extract the data\n",
    "    loglikelihood(Binomial(n, α), s)\n",
    "end"
   ],
   "metadata": {},
   "execution_count": 3
  },
  {
   "outputs": [],
   "cell_type": "markdown",
   "source": [
    "Create the data and complete setting up the problem."
   ],
   "metadata": {}
  },
  {
   "outputs": [
    {
     "output_type": "execute_result",
     "data": {
      "text/plain": "-2.6548056865833978"
     },
     "metadata": {},
     "execution_count": 4
    }
   ],
   "cell_type": "code",
   "source": [
    "obs = rand(Binomial(9, 2/3), 1)\n",
    "p = BernoulliProblem(9, obs)\n",
    "p((α = 0.5, ))"
   ],
   "metadata": {},
   "execution_count": 4
  },
  {
   "outputs": [],
   "cell_type": "markdown",
   "source": [
    "Write a function to return properly dimensioned transformation."
   ],
   "metadata": {}
  },
  {
   "outputs": [],
   "cell_type": "code",
   "source": [
    "problem_transformation(p::BernoulliProblem) =\n",
    "    as((α = as𝕀, ),  )\n",
    "# Use a flat priors (the default, omitted) for α\n",
    "P = TransformedLogDensity(problem_transformation(p), p)\n",
    "∇P = LogDensityRejectErrors(ADgradient(:ForwardDiff, P));"
   ],
   "metadata": {},
   "execution_count": 5
  },
  {
   "outputs": [],
   "cell_type": "markdown",
   "source": [
    "Sample"
   ],
   "metadata": {}
  },
  {
   "outputs": [
    {
     "name": "stdout",
     "output_type": "stream",
     "text": [
      "MCMC, adapting ϵ (75 steps)\n",
      "7.6e-6 s/step ...done\n",
      "MCMC, adapting ϵ (25 steps)\n",
      "8.7e-6 s/step ...done\n",
      "MCMC, adapting ϵ (50 steps)\n",
      "1.3e-5 s/step ...done\n",
      "MCMC, adapting ϵ (100 steps)\n",
      "0.00012 s/step ...done\n",
      "MCMC, adapting ϵ (200 steps)\n",
      "8.9e-6 s/step ...done\n",
      "MCMC, adapting ϵ (400 steps)\n",
      "8.9e-6 s/step ...done\n",
      "MCMC, adapting ϵ (50 steps)\n",
      "1.2e-5 s/step ...done\n",
      "MCMC (1000 steps)\n",
      "8.0e-6 s/step ...done\n"
     ]
    },
    {
     "output_type": "execute_result",
     "data": {
      "text/plain": "(NUTS_Transition{Array{Float64,1},Float64}[NUTS_Transition{Array{Float64,1},Float64}([0.1563411571569555], -6.513262432360197, 1, DynamicHMC.AdjacentTurn, 0.8422478223366457, 3), NUTS_Transition{Array{Float64,1},Float64}([0.19429491085529002], -3.851791414988219, 1, DynamicHMC.DoubledTurn, 1.0, 1), NUTS_Transition{Array{Float64,1},Float64}([0.3707861344162595], -3.588615028383155, 2, DynamicHMC.DoubledTurn, 1.0, 3), NUTS_Transition{Array{Float64,1},Float64}([-0.04182734045767772], -4.172119179185882, 1, DynamicHMC.DoubledTurn, 0.7837326161064258, 1), NUTS_Transition{Array{Float64,1},Float64}([0.43717741764688206], -3.8862619317216995, 2, DynamicHMC.DoubledTurn, 1.0, 3), NUTS_Transition{Array{Float64,1},Float64}([1.4082042233452254], -3.787750771671522, 1, DynamicHMC.AdjacentTurn, 0.90603200129354, 3), NUTS_Transition{Array{Float64,1},Float64}([-0.026013663068965187], -4.130728880680315, 2, DynamicHMC.DoubledTurn, 0.931662765870536, 3), NUTS_Transition{Array{Float64,1},Float64}([-0.8776599721139169], -7.292811789099656, 1, DynamicHMC.DoubledTurn, 0.4122966791026426, 1), NUTS_Transition{Array{Float64,1},Float64}([3.330792188371154], -9.009011792194062, 2, DynamicHMC.AdjacentTurn, 0.975414287309242, 7), NUTS_Transition{Array{Float64,1},Float64}([3.2678059144883136], -7.07558580649301, 1, DynamicHMC.DoubledTurn, 1.0, 1)  …  NUTS_Transition{Array{Float64,1},Float64}([-0.03460787732964998], -4.34449433714943, 1, DynamicHMC.DoubledTurn, 0.9161576277452134, 1), NUTS_Transition{Array{Float64,1},Float64}([-0.03460787732964998], -6.563433298967336, 1, DynamicHMC.DoubledTurn, 0.39236501732269885, 1), NUTS_Transition{Array{Float64,1},Float64}([1.0449140838536102], -4.164381679940289, 1, DynamicHMC.AdjacentTurn, 0.9946820429346491, 3), NUTS_Transition{Array{Float64,1},Float64}([0.4512567593143566], -3.245595686835324, 2, DynamicHMC.DoubledTurn, 0.9578035879324841, 3), NUTS_Transition{Array{Float64,1},Float64}([1.1842323559652972], -3.392433967150028, 1, DynamicHMC.AdjacentTurn, 0.966208720708405, 3), NUTS_Transition{Array{Float64,1},Float64}([0.8226667492820927], -3.322952282834774, 2, DynamicHMC.DoubledTurn, 0.9495330409347144, 3), NUTS_Transition{Array{Float64,1},Float64}([0.8958778534494001], -2.913481424592704, 2, DynamicHMC.DoubledTurn, 0.997038592777496, 3), NUTS_Transition{Array{Float64,1},Float64}([1.453626953563202], -3.2429058074158914, 1, DynamicHMC.AdjacentTurn, 0.9346931088147082, 3), NUTS_Transition{Array{Float64,1},Float64}([0.5300810355781357], -3.0979002799161317, 2, DynamicHMC.AdjacentTurn, 0.9986588571525559, 7), NUTS_Transition{Array{Float64,1},Float64}([1.3218047304815275], -3.4736552228393527, 1, DynamicHMC.AdjacentTurn, 0.9414946491191499, 3)], NUTS sampler in 1 dimensions\n  stepsize (ϵ) ≈ 1.01\n  maximum depth = 10\n  Gaussian kinetic energy, √diag(M⁻¹): [0.6457182848899495]\n)"
     },
     "metadata": {},
     "execution_count": 6
    }
   ],
   "cell_type": "code",
   "source": [
    "chain, NUTS_tuned = NUTS_init_tune_mcmc(∇P, 1000)"
   ],
   "metadata": {},
   "execution_count": 6
  },
  {
   "outputs": [],
   "cell_type": "markdown",
   "source": [
    "To get the posterior for ``α`` use `get_position` and then transform back."
   ],
   "metadata": {}
  },
  {
   "outputs": [],
   "cell_type": "code",
   "source": [
    "posterior = TransformVariables.transform.(Ref(problem_transformation(p)), get_position.(chain));"
   ],
   "metadata": {},
   "execution_count": 7
  },
  {
   "outputs": [],
   "cell_type": "markdown",
   "source": [
    "Extract the parameter."
   ],
   "metadata": {}
  },
  {
   "outputs": [],
   "cell_type": "code",
   "source": [
    "posterior_α = first.(posterior);"
   ],
   "metadata": {},
   "execution_count": 8
  },
  {
   "outputs": [],
   "cell_type": "markdown",
   "source": [
    "check the effective sample size"
   ],
   "metadata": {}
  },
  {
   "outputs": [
    {
     "output_type": "execute_result",
     "data": {
      "text/plain": "424.50444693702724"
     },
     "metadata": {},
     "execution_count": 9
    }
   ],
   "cell_type": "code",
   "source": [
    "ess_α = effective_sample_size(posterior_α)"
   ],
   "metadata": {},
   "execution_count": 9
  },
  {
   "outputs": [],
   "cell_type": "markdown",
   "source": [
    "NUTS-specific statistics"
   ],
   "metadata": {}
  },
  {
   "outputs": [
    {
     "output_type": "execute_result",
     "data": {
      "text/plain": "Hamiltonian Monte Carlo sample of length 1000\n  acceptance rate mean: 0.93, min/25%/median/75%/max: 0.31 0.91 0.97 1.0 1.0\n  termination: AdjacentTurn => 39% DoubledTurn => 61%\n  depth: 1 => 59% 2 => 40% 3 => 1%\n"
     },
     "metadata": {},
     "execution_count": 10
    }
   ],
   "cell_type": "code",
   "source": [
    "NUTS_statistics(chain)"
   ],
   "metadata": {},
   "execution_count": 10
  },
  {
   "outputs": [],
   "cell_type": "markdown",
   "source": [
    "check the mean"
   ],
   "metadata": {}
  },
  {
   "outputs": [
    {
     "output_type": "execute_result",
     "data": {
      "text/plain": "0.7277474229158036"
     },
     "metadata": {},
     "execution_count": 11
    }
   ],
   "cell_type": "code",
   "source": [
    "mean(posterior_α)"
   ],
   "metadata": {},
   "execution_count": 11
  },
  {
   "outputs": [],
   "cell_type": "markdown",
   "source": [
    "*This notebook was generated using [Literate.jl](https://github.com/fredrikekre/Literate.jl).*"
   ],
   "metadata": {}
  }
 ],
 "nbformat_minor": 3,
 "metadata": {
  "language_info": {
   "file_extension": ".jl",
   "mimetype": "application/julia",
   "name": "julia",
   "version": "1.2.0-DEV.447"
  },
  "kernelspec": {
   "name": "julia-1.2",
   "display_name": "Julia 1.2.0-DEV.447",
   "language": "julia"
  }
 },
 "nbformat": 4
}
