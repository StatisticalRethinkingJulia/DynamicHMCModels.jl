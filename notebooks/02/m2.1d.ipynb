{
 "cells": [
  {
   "outputs": [],
   "cell_type": "markdown",
   "source": [
    "# Estimate Binomial draw probabilility"
   ],
   "metadata": {}
  },
  {
   "outputs": [],
   "cell_type": "code",
   "source": [
    "using DynamicHMCModels"
   ],
   "metadata": {},
   "execution_count": 1
  },
  {
   "outputs": [],
   "cell_type": "markdown",
   "source": [
    "Define a structure to hold the data."
   ],
   "metadata": {}
  },
  {
   "outputs": [],
   "cell_type": "code",
   "source": [
    "struct BernoulliProblem\n",
    "    \"Total number of draws in the data.\"\n",
    "    n::Int\n",
    "    \"Number of draws `==1` in the data\"\n",
    "    s::Vector{Int}\n",
    "end;"
   ],
   "metadata": {},
   "execution_count": 2
  },
  {
   "outputs": [],
   "cell_type": "markdown",
   "source": [
    "Make the type callable with the parameters *as a single argument*."
   ],
   "metadata": {}
  },
  {
   "outputs": [],
   "cell_type": "code",
   "source": [
    "function (problem::BernoulliProblem)((α, )::NamedTuple{(:α, )})\n",
    "    @unpack n, s = problem        # extract the data\n",
    "    loglikelihood(Binomial(n, α), s)\n",
    "end"
   ],
   "metadata": {},
   "execution_count": 3
  },
  {
   "outputs": [],
   "cell_type": "markdown",
   "source": [
    "Create the data and complete setting up the problem."
   ],
   "metadata": {}
  },
  {
   "outputs": [
    {
     "output_type": "execute_result",
     "data": {
      "text/plain": "-2.6548056865833978"
     },
     "metadata": {},
     "execution_count": 4
    }
   ],
   "cell_type": "code",
   "source": [
    "obs = rand(Binomial(9, 2/3), 1)\n",
    "p = BernoulliProblem(9, obs)\n",
    "p((α = 0.5, ))"
   ],
   "metadata": {},
   "execution_count": 4
  },
  {
   "outputs": [],
   "cell_type": "markdown",
   "source": [
    "Write a function to return properly dimensioned transformation."
   ],
   "metadata": {}
  },
  {
   "outputs": [],
   "cell_type": "code",
   "source": [
    "problem_transformation(p::BernoulliProblem) =\n",
    "    as((α = as𝕀, ),  )\n",
    "# Use a flat priors (the default, omitted) for α\n",
    "P = TransformedLogDensity(problem_transformation(p), p)\n",
    "∇P = LogDensityRejectErrors(ADgradient(:ForwardDiff, P));"
   ],
   "metadata": {},
   "execution_count": 5
  },
  {
   "outputs": [],
   "cell_type": "markdown",
   "source": [
    "Sample"
   ],
   "metadata": {}
  },
  {
   "outputs": [
    {
     "name": "stdout",
     "output_type": "stream",
     "text": [
      "MCMC, adapting ϵ (75 steps)\n",
      "1.4e-5 s/step ...done\n",
      "MCMC, adapting ϵ (25 steps)\n",
      "1.2e-5 s/step ...done\n",
      "MCMC, adapting ϵ (50 steps)\n",
      "1.6e-5 s/step ...done\n",
      "MCMC, adapting ϵ (100 steps)\n",
      "1.8e-5 s/step ...done\n",
      "MCMC, adapting ϵ (200 steps)\n",
      "1.7e-5 s/step ...done\n",
      "MCMC, adapting ϵ (400 steps)\n",
      "1.7e-5 s/step ...done\n",
      "MCMC, adapting ϵ (50 steps)\n",
      "1.4e-5 s/step ...done\n",
      "MCMC (1000 steps)\n",
      "3.3e-5 s/step ...done\n"
     ]
    },
    {
     "output_type": "execute_result",
     "data": {
      "text/plain": "(NUTS_Transition{Array{Float64,1},Float64}[NUTS_Transition{Array{Float64,1},Float64}([-0.19382717397516994], -4.716916021027982, 1, DynamicHMC.DoubledTurn, 0.5, 2), NUTS_Transition{Array{Float64,1},Float64}([-0.2450237162030019], -4.976412868723488, 2, DynamicHMC.DoubledTurn, 0.7443464434820126, 4), NUTS_Transition{Array{Float64,1},Float64}([0.293905614608316], -6.342118275480957, 1, DynamicHMC.AdjacentTurn, 0.7209087240941228, 4), NUTS_Transition{Array{Float64,1},Float64}([0.7912462007265633], -3.6336457118874037, 2, DynamicHMC.AdjacentTurn, 0.830594009237764, 6), NUTS_Transition{Array{Float64,1},Float64}([2.202976890841579], -4.447496930489268, 3, DynamicHMC.AdjacentTurn, 0.8699755258412372, 10), NUTS_Transition{Array{Float64,1},Float64}([-0.017709938234090783], -4.982933797593993, 3, DynamicHMC.AdjacentTurn, 0.8934493657092467, 10), NUTS_Transition{Array{Float64,1},Float64}([0.2922361782701877], -4.519423968016369, 1, DynamicHMC.AdjacentTurn, 0.7417036150618147, 4), NUTS_Transition{Array{Float64,1},Float64}([1.0307220141767994], -4.141503857239493, 2, DynamicHMC.AdjacentTurn, 0.8649612977771296, 8), NUTS_Transition{Array{Float64,1},Float64}([1.6184553051616792], -3.73258353872885, 2, DynamicHMC.AdjacentTurn, 0.8607651918959061, 8), NUTS_Transition{Array{Float64,1},Float64}([1.7543491492993346], -3.510501722593071, 1, DynamicHMC.AdjacentTurn, 0.7464951625996226, 4)  …  NUTS_Transition{Array{Float64,1},Float64}([1.0116895435394477], -2.8645016539377837, 3, DynamicHMC.DoubledTurn, 0.8749614764838878, 8), NUTS_Transition{Array{Float64,1},Float64}([1.0672189021638703], -2.891007715445162, 2, DynamicHMC.AdjacentTurn, 0.8329132755399172, 6), NUTS_Transition{Array{Float64,1},Float64}([1.1732103718396], -2.9754060429749627, 2, DynamicHMC.AdjacentTurn, 0.8317356819992469, 6), NUTS_Transition{Array{Float64,1},Float64}([0.7862230626890027], -3.1771946414565555, 2, DynamicHMC.AdjacentTurn, 0.8712746257959021, 8), NUTS_Transition{Array{Float64,1},Float64}([0.8525698045485199], -2.9273727388458957, 1, DynamicHMC.AdjacentTurn, 0.7496158473355394, 4), NUTS_Transition{Array{Float64,1},Float64}([1.2369766082592912], -3.0154681270596235, 3, DynamicHMC.AdjacentTurn, 0.8975462149231033, 10), NUTS_Transition{Array{Float64,1},Float64}([1.9719895524396778], -4.4337668989631815, 3, DynamicHMC.AdjacentTurn, 0.876815660712899, 10), NUTS_Transition{Array{Float64,1},Float64}([1.7630645119386368], -3.972988810509431, 1, DynamicHMC.AdjacentTurn, 0.7483272923198575, 4), NUTS_Transition{Array{Float64,1},Float64}([1.843226548672469], -3.5830493203470644, 3, DynamicHMC.DoubledTurn, 0.8743964207757882, 8), NUTS_Transition{Array{Float64,1},Float64}([1.8836459654715192], -3.6245174849094823, 2, DynamicHMC.DoubledTurn, 0.7497059493811326, 4)], NUTS sampler in 1 dimensions\n  stepsize (ϵ) ≈ 0.348\n  maximum depth = 10\n  Gaussian kinetic energy, √diag(M⁻¹): [0.7004628429189795]\n)"
     },
     "metadata": {},
     "execution_count": 6
    }
   ],
   "cell_type": "code",
   "source": [
    "chain, NUTS_tuned = NUTS_init_tune_mcmc(∇P, 1000)"
   ],
   "metadata": {},
   "execution_count": 6
  },
  {
   "outputs": [],
   "cell_type": "markdown",
   "source": [
    "To get the posterior for ``α`` use `get_position` and then transform back."
   ],
   "metadata": {}
  },
  {
   "outputs": [],
   "cell_type": "code",
   "source": [
    "posterior = TransformVariables.transform.(Ref(problem_transformation(p)), get_position.(chain));"
   ],
   "metadata": {},
   "execution_count": 7
  },
  {
   "outputs": [],
   "cell_type": "markdown",
   "source": [
    "Extract the parameter."
   ],
   "metadata": {}
  },
  {
   "outputs": [],
   "cell_type": "code",
   "source": [
    "posterior_α = first.(posterior);"
   ],
   "metadata": {},
   "execution_count": 8
  },
  {
   "outputs": [],
   "cell_type": "markdown",
   "source": [
    "check the effective sample size"
   ],
   "metadata": {}
  },
  {
   "outputs": [
    {
     "output_type": "execute_result",
     "data": {
      "text/plain": "287.0542772652134"
     },
     "metadata": {},
     "execution_count": 9
    }
   ],
   "cell_type": "code",
   "source": [
    "ess_α = effective_sample_size(posterior_α)"
   ],
   "metadata": {},
   "execution_count": 9
  },
  {
   "outputs": [],
   "cell_type": "markdown",
   "source": [
    "NUTS-specific statistics"
   ],
   "metadata": {}
  },
  {
   "outputs": [
    {
     "output_type": "execute_result",
     "data": {
      "text/plain": "Hamiltonian Monte Carlo sample of length 1000\n  acceptance rate mean: 0.8, min/25%/median/75%/max: 0.49 0.75 0.86 0.87 0.94\n  termination: AdjacentTurn => 56% DoubledTurn => 44%\n  depth: 1 => 24% 2 => 43% 3 => 22% 4 => 11%\n"
     },
     "metadata": {},
     "execution_count": 10
    }
   ],
   "cell_type": "code",
   "source": [
    "NUTS_statistics(chain)"
   ],
   "metadata": {},
   "execution_count": 10
  },
  {
   "outputs": [],
   "cell_type": "markdown",
   "source": [
    "check the mean"
   ],
   "metadata": {}
  },
  {
   "outputs": [
    {
     "output_type": "execute_result",
     "data": {
      "text/plain": "0.7208820297411053"
     },
     "metadata": {},
     "execution_count": 11
    }
   ],
   "cell_type": "code",
   "source": [
    "mean(posterior_α)"
   ],
   "metadata": {},
   "execution_count": 11
  },
  {
   "outputs": [],
   "cell_type": "markdown",
   "source": [
    "*This notebook was generated using [Literate.jl](https://github.com/fredrikekre/Literate.jl).*"
   ],
   "metadata": {}
  }
 ],
 "nbformat_minor": 3,
 "metadata": {
  "language_info": {
   "file_extension": ".jl",
   "mimetype": "application/julia",
   "name": "julia",
   "version": "1.2.0-DEV.450"
  },
  "kernelspec": {
   "name": "julia-1.2",
   "display_name": "Julia 1.2.0-DEV.450",
   "language": "julia"
  }
 },
 "nbformat": 4
}
