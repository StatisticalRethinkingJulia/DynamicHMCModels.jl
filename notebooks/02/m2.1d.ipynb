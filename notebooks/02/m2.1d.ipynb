{
 "cells": [
  {
   "outputs": [],
   "cell_type": "markdown",
   "source": [
    "# Estimate Binomial draw probabilility"
   ],
   "metadata": {}
  },
  {
   "outputs": [],
   "cell_type": "code",
   "source": [
    "using DynamicHMCModels"
   ],
   "metadata": {},
   "execution_count": 1
  },
  {
   "outputs": [],
   "cell_type": "markdown",
   "source": [
    "Define a structure to hold the data."
   ],
   "metadata": {}
  },
  {
   "outputs": [],
   "cell_type": "code",
   "source": [
    "struct BernoulliProblem\n",
    "    \"Total number of draws in the data.\"\n",
    "    n::Int\n",
    "    \"Number of draws `==1` in the data\"\n",
    "    s::Vector{Int}\n",
    "end;"
   ],
   "metadata": {},
   "execution_count": 2
  },
  {
   "outputs": [],
   "cell_type": "markdown",
   "source": [
    "Make the type callable with the parameters *as a single argument*."
   ],
   "metadata": {}
  },
  {
   "outputs": [],
   "cell_type": "code",
   "source": [
    "function (problem::BernoulliProblem)((α, )::NamedTuple{(:α, )})\n",
    "    @unpack n, s = problem        # extract the data\n",
    "    loglikelihood(Binomial(n, α), s)\n",
    "end"
   ],
   "metadata": {},
   "execution_count": 3
  },
  {
   "outputs": [],
   "cell_type": "markdown",
   "source": [
    "Create the data and complete setting up the problem."
   ],
   "metadata": {}
  },
  {
   "outputs": [
    {
     "output_type": "execute_result",
     "data": {
      "text/plain": "-1.4020427180880297"
     },
     "metadata": {},
     "execution_count": 4
    }
   ],
   "cell_type": "code",
   "source": [
    "obs = rand(Binomial(9, 2/3), 1)\n",
    "p = BernoulliProblem(9, obs)\n",
    "p((α = 0.5, ))"
   ],
   "metadata": {},
   "execution_count": 4
  },
  {
   "outputs": [],
   "cell_type": "markdown",
   "source": [
    "Write a function to return properly dimensioned transformation."
   ],
   "metadata": {}
  },
  {
   "outputs": [],
   "cell_type": "code",
   "source": [
    "problem_transformation(p::BernoulliProblem) =\n",
    "    as((α = as𝕀, ),  )\n",
    "# Use a flat priors (the default, omitted) for α\n",
    "P = TransformedLogDensity(problem_transformation(p), p)\n",
    "∇P = LogDensityRejectErrors(ADgradient(:ForwardDiff, P));"
   ],
   "metadata": {},
   "execution_count": 5
  },
  {
   "outputs": [],
   "cell_type": "markdown",
   "source": [
    "Sample"
   ],
   "metadata": {}
  },
  {
   "outputs": [
    {
     "name": "stdout",
     "output_type": "stream",
     "text": [
      "MCMC, adapting ϵ (75 steps)\n",
      "0.0011 s/step ...done\n",
      "MCMC, adapting ϵ (25 steps)\n",
      "7.2e-6 s/step ...done\n",
      "MCMC, adapting ϵ (50 steps)\n",
      "0.002 s/step ...done\n",
      "MCMC, adapting ϵ (100 steps)\n",
      "6.3e-5 s/step ...done\n",
      "MCMC, adapting ϵ (200 steps)\n",
      "7.1e-6 s/step ...done\n",
      "MCMC, adapting ϵ (400 steps)\n",
      "6.8e-6 s/step ...done\n",
      "MCMC, adapting ϵ (50 steps)\n",
      "8.1e-6 s/step ...done\n",
      "MCMC (1000 steps)\n",
      "5.8e-6 s/step ...done\n"
     ]
    },
    {
     "output_type": "execute_result",
     "data": {
      "text/plain": "(NUTS_Transition{Array{Float64,1},Float64}[NUTS_Transition{Array{Float64,1},Float64}([0.00679348], -2.80667, 2, DoubledTurn, 0.990907, 3), NUTS_Transition{Array{Float64,1},Float64}([-0.173617], -2.77899, 1, AdjacentTurn, 1.0, 3), NUTS_Transition{Array{Float64,1},Float64}([-0.158468], -2.74697, 2, DoubledTurn, 0.999102, 3), NUTS_Transition{Array{Float64,1},Float64}([0.0255109], -3.02296, 2, DoubledTurn, 0.938027, 3), NUTS_Transition{Array{Float64,1},Float64}([-0.742001], -3.34038, 1, AdjacentTurn, 0.894586, 3), NUTS_Transition{Array{Float64,1},Float64}([-0.348045], -3.04184, 1, AdjacentTurn, 1.0, 3), NUTS_Transition{Array{Float64,1},Float64}([-0.583669], -2.9588, 1, DoubledTurn, 0.945354, 1), NUTS_Transition{Array{Float64,1},Float64}([-0.190969], -6.45981, 2, DoubledTurn, 0.502803, 3), NUTS_Transition{Array{Float64,1},Float64}([-0.808583], -3.31517, 1, AdjacentTurn, 0.866549, 3), NUTS_Transition{Array{Float64,1},Float64}([-0.808583], -3.67801, 1, DoubledTurn, 0.881609, 1)  …  NUTS_Transition{Array{Float64,1},Float64}([0.47485], -3.33562, 1, DoubledTurn, 0.8549, 1), NUTS_Transition{Array{Float64,1},Float64}([1.13505], -5.05949, 1, DoubledTurn, 0.610206, 1), NUTS_Transition{Array{Float64,1},Float64}([0.222488], -4.41467, 1, AdjacentTurn, 1.0, 3), NUTS_Transition{Array{Float64,1},Float64}([0.0177527], -2.91555, 1, DoubledTurn, 1.0, 1), NUTS_Transition{Array{Float64,1},Float64}([-1.98211], -7.7985, 1, AdjacentTurn, 0.257987, 3), NUTS_Transition{Array{Float64,1},Float64}([0.408184], -5.66254, 2, DoubledTurn, 1.0, 3), NUTS_Transition{Array{Float64,1},Float64}([0.408184], -3.89343, 1, DoubledTurn, 0.762161, 1), NUTS_Transition{Array{Float64,1},Float64}([-0.223617], -3.12604, 1, AdjacentTurn, 0.998361, 3), NUTS_Transition{Array{Float64,1},Float64}([-0.523484], -2.90616, 1, AdjacentTurn, 0.960434, 3), NUTS_Transition{Array{Float64,1},Float64}([0.766726], -4.45293, 1, AdjacentTurn, 0.719133, 3)], NUTS sampler in 1 dimensions\n  stepsize (ϵ) ≈ 1.12\n  maximum depth = 10\n  Gaussian kinetic energy, √diag(M⁻¹): [0.617689]\n)"
     },
     "metadata": {},
     "execution_count": 6
    }
   ],
   "cell_type": "code",
   "source": [
    "chain, NUTS_tuned = NUTS_init_tune_mcmc(∇P, 1000)"
   ],
   "metadata": {},
   "execution_count": 6
  },
  {
   "outputs": [],
   "cell_type": "markdown",
   "source": [
    "To get the posterior for ``α`` use `get_position` and then transform back."
   ],
   "metadata": {}
  },
  {
   "outputs": [],
   "cell_type": "code",
   "source": [
    "posterior = TransformVariables.transform.(Ref(problem_transformation(p)), get_position.(chain));"
   ],
   "metadata": {},
   "execution_count": 7
  },
  {
   "outputs": [],
   "cell_type": "markdown",
   "source": [
    "Extract the parameter."
   ],
   "metadata": {}
  },
  {
   "outputs": [],
   "cell_type": "code",
   "source": [
    "posterior_α = first.(posterior);"
   ],
   "metadata": {},
   "execution_count": 8
  },
  {
   "outputs": [],
   "cell_type": "markdown",
   "source": [
    "check the effective sample size"
   ],
   "metadata": {}
  },
  {
   "outputs": [
    {
     "output_type": "execute_result",
     "data": {
      "text/plain": "410.4101929643759"
     },
     "metadata": {},
     "execution_count": 9
    }
   ],
   "cell_type": "code",
   "source": [
    "ess_α = effective_sample_size(posterior_α)"
   ],
   "metadata": {},
   "execution_count": 9
  },
  {
   "outputs": [],
   "cell_type": "markdown",
   "source": [
    "NUTS-specific statistics"
   ],
   "metadata": {}
  },
  {
   "outputs": [
    {
     "output_type": "execute_result",
     "data": {
      "text/plain": "Hamiltonian Monte Carlo sample of length 1000\n  acceptance rate mean: 0.89, min/25%/median/75%/max: 0.12 0.84 0.96 1.0 1.0\n  termination: AdjacentTurn => 28% DoubledTurn => 72%\n  depth: 1 => 62% 2 => 38%\n"
     },
     "metadata": {},
     "execution_count": 10
    }
   ],
   "cell_type": "code",
   "source": [
    "NUTS_statistics(chain)"
   ],
   "metadata": {},
   "execution_count": 10
  },
  {
   "outputs": [],
   "cell_type": "markdown",
   "source": [
    "check the mean"
   ],
   "metadata": {}
  },
  {
   "outputs": [
    {
     "output_type": "execute_result",
     "data": {
      "text/plain": "0.452177630062822"
     },
     "metadata": {},
     "execution_count": 11
    }
   ],
   "cell_type": "code",
   "source": [
    "mean(posterior_α)"
   ],
   "metadata": {},
   "execution_count": 11
  },
  {
   "outputs": [],
   "cell_type": "markdown",
   "source": [
    "*This notebook was generated using [Literate.jl](https://github.com/fredrikekre/Literate.jl).*"
   ],
   "metadata": {}
  }
 ],
 "nbformat_minor": 3,
 "metadata": {
  "language_info": {
   "file_extension": ".jl",
   "mimetype": "application/julia",
   "name": "julia",
   "version": "1.1.0"
  },
  "kernelspec": {
   "name": "julia-1.1",
   "display_name": "Julia 1.1.0",
   "language": "julia"
  }
 },
 "nbformat": 4
}
