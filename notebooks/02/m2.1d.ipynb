{
 "cells": [
  {
   "outputs": [],
   "cell_type": "markdown",
   "source": [
    "# Estimate Binomial draw probabilility"
   ],
   "metadata": {}
  },
  {
   "outputs": [],
   "cell_type": "code",
   "source": [
    "using DynamicHMCModels"
   ],
   "metadata": {},
   "execution_count": 1
  },
  {
   "outputs": [],
   "cell_type": "markdown",
   "source": [
    "Define a structure to hold the data."
   ],
   "metadata": {}
  },
  {
   "outputs": [],
   "cell_type": "code",
   "source": [
    "struct BernoulliProblem\n",
    "    \"Total number of draws in the data.\"\n",
    "    n::Int\n",
    "    \"Number of draws `==1` in the data\"\n",
    "    s::Vector{Int}\n",
    "end;"
   ],
   "metadata": {},
   "execution_count": 2
  },
  {
   "outputs": [],
   "cell_type": "markdown",
   "source": [
    "Make the type callable with the parameters *as a single argument*."
   ],
   "metadata": {}
  },
  {
   "outputs": [],
   "cell_type": "code",
   "source": [
    "function (problem::BernoulliProblem)((α, )::NamedTuple{(:α, )})\n",
    "    @unpack n, s = problem        # extract the data\n",
    "    loglikelihood(Binomial(n, α), s)\n",
    "end"
   ],
   "metadata": {},
   "execution_count": 3
  },
  {
   "outputs": [],
   "cell_type": "markdown",
   "source": [
    "Create the data and complete setting up the problem."
   ],
   "metadata": {}
  },
  {
   "outputs": [
    {
     "output_type": "execute_result",
     "data": {
      "text/plain": "-1.4020427180880297"
     },
     "metadata": {},
     "execution_count": 4
    }
   ],
   "cell_type": "code",
   "source": [
    "obs = rand(Binomial(9, 2/3), 1)\n",
    "p = BernoulliProblem(9, obs)\n",
    "p((α = 0.5, ))"
   ],
   "metadata": {},
   "execution_count": 4
  },
  {
   "outputs": [],
   "cell_type": "markdown",
   "source": [
    "Write a function to return properly dimensioned transformation."
   ],
   "metadata": {}
  },
  {
   "outputs": [
    {
     "output_type": "execute_result",
     "data": {
      "text/plain": "problem_transformation (generic function with 1 method)"
     },
     "metadata": {},
     "execution_count": 5
    }
   ],
   "cell_type": "code",
   "source": [
    "problem_transformation(p::BernoulliProblem) =\n",
    "    as((α = as𝕀, ),  )"
   ],
   "metadata": {},
   "execution_count": 5
  },
  {
   "outputs": [],
   "cell_type": "markdown",
   "source": [
    "Use a flat priors (the default, omitted) for α"
   ],
   "metadata": {}
  },
  {
   "outputs": [],
   "cell_type": "code",
   "source": [
    "P = TransformedLogDensity(problem_transformation(p), p)\n",
    "∇P = LogDensityRejectErrors(ADgradient(:ForwardDiff, P));"
   ],
   "metadata": {},
   "execution_count": 6
  },
  {
   "outputs": [],
   "cell_type": "markdown",
   "source": [
    "Sample"
   ],
   "metadata": {}
  },
  {
   "outputs": [
    {
     "name": "stdout",
     "output_type": "stream",
     "text": [
      "MCMC, adapting ϵ (75 steps)\n",
      "3.1e-5 s/step ...done\n",
      "MCMC, adapting ϵ (25 steps)\n",
      "4.0e-5 s/step ...done\n",
      "MCMC, adapting ϵ (50 steps)\n",
      "3.6e-5 s/step ...done\n",
      "MCMC, adapting ϵ (100 steps)\n",
      "3.5e-5 s/step ...done\n",
      "MCMC, adapting ϵ (200 steps)\n",
      "2.9e-5 s/step ...done\n",
      "MCMC, adapting ϵ (400 steps)\n",
      "3.2e-5 s/step ...done\n",
      "MCMC, adapting ϵ (50 steps)\n",
      "4.0e-5 s/step ...done\n",
      "MCMC (1000 steps)\n",
      "2.9e-5 s/step ...done\n"
     ]
    },
    {
     "output_type": "execute_result",
     "data": {
      "text/plain": "(NUTS_Transition{Array{Float64,1},Float64}[NUTS_Transition{Array{Float64,1},Float64}([0.49147520986245274], -2.9790724121904377, 2, DynamicHMC.DoubledTurn, 0.9579148706861392, 3), NUTS_Transition{Array{Float64,1},Float64}([0.7821672702144686], -3.2231931459540153, 1, DynamicHMC.DoubledTurn, 0.9033589455203096, 1), NUTS_Transition{Array{Float64,1},Float64}([1.4390088619285764], -4.700143576479869, 1, DynamicHMC.DoubledTurn, 0.6891903970150741, 1), NUTS_Transition{Array{Float64,1},Float64}([0.711029806772328], -4.293120489707723, 1, DynamicHMC.AdjacentTurn, 1.0, 3), NUTS_Transition{Array{Float64,1},Float64}([1.2943339569363306], -4.300926698659309, 1, DynamicHMC.DoubledTurn, 0.7330433910571466, 1), NUTS_Transition{Array{Float64,1},Float64}([0.6549074563995683], -5.144456000047516, 2, DynamicHMC.DoubledTurn, 0.9193133070007939, 3), NUTS_Transition{Array{Float64,1},Float64}([1.181895734366327], -5.232907215687822, 2, DynamicHMC.DoubledTurn, 0.7471228265981934, 3), NUTS_Transition{Array{Float64,1},Float64}([0.6747930642636558], -3.7644069954109645, 1, DynamicHMC.DoubledTurn, 1.0, 1), NUTS_Transition{Array{Float64,1},Float64}([0.4021922348168702], -2.988761959815249, 1, DynamicHMC.DoubledTurn, 1.0, 1), NUTS_Transition{Array{Float64,1},Float64}([-0.5086080914207718], -3.5559951018708564, 2, DynamicHMC.DoubledTurn, 0.8944588802176826, 3)  …  NUTS_Transition{Array{Float64,1},Float64}([-0.0867628835631683], -3.857839943175351, 2, DynamicHMC.DoubledTurn, 0.8853416741309279, 3), NUTS_Transition{Array{Float64,1},Float64}([0.15718217998542566], -2.9143604411642654, 2, DynamicHMC.DoubledTurn, 0.986513736961335, 3), NUTS_Transition{Array{Float64,1},Float64}([-0.5724600799946973], -3.5888216355740035, 1, DynamicHMC.AdjacentTurn, 0.8050063044680513, 3), NUTS_Transition{Array{Float64,1},Float64}([0.11426951725867862], -3.3200560475177663, 1, DynamicHMC.AdjacentTurn, 1.0, 3), NUTS_Transition{Array{Float64,1},Float64}([-0.019778402695356745], -2.896885576083213, 2, DynamicHMC.DoubledTurn, 0.9680254676661072, 3), NUTS_Transition{Array{Float64,1},Float64}([0.044717519748473225], -2.7936386572832643, 1, DynamicHMC.DoubledTurn, 1.0, 1), NUTS_Transition{Array{Float64,1},Float64}([-0.15033705679154552], -2.8949008542849897, 1, DynamicHMC.DoubledTurn, 0.96044073711377, 1), NUTS_Transition{Array{Float64,1},Float64}([0.022826846482585372], -2.8587630820987737, 1, DynamicHMC.DoubledTurn, 1.0, 1), NUTS_Transition{Array{Float64,1},Float64}([-0.1495577034136226], -2.8955725854306826, 1, DynamicHMC.DoubledTurn, 0.9634176610919073, 1), NUTS_Transition{Array{Float64,1},Float64}([-0.6263996272232897], -3.6333844901181678, 1, DynamicHMC.DoubledTurn, 0.7940659192091852, 1)], NUTS sampler in 1 dimensions\n  stepsize (ϵ) ≈ 0.96\n  maximum depth = 10\n  Gaussian kinetic energy, √diag(M⁻¹): [0.7119057884168153]\n)"
     },
     "metadata": {},
     "execution_count": 7
    }
   ],
   "cell_type": "code",
   "source": [
    "chain, NUTS_tuned = NUTS_init_tune_mcmc(∇P, 1000)"
   ],
   "metadata": {},
   "execution_count": 7
  },
  {
   "outputs": [],
   "cell_type": "markdown",
   "source": [
    "To get the posterior for ``α`` use `get_position` and then transform back."
   ],
   "metadata": {}
  },
  {
   "outputs": [],
   "cell_type": "code",
   "source": [
    "posterior = TransformVariables.transform.(Ref(problem_transformation(p)), get_position.(chain));"
   ],
   "metadata": {},
   "execution_count": 8
  },
  {
   "outputs": [],
   "cell_type": "markdown",
   "source": [
    "Extract the parameter."
   ],
   "metadata": {}
  },
  {
   "outputs": [],
   "cell_type": "code",
   "source": [
    "posterior_α = first.(posterior);"
   ],
   "metadata": {},
   "execution_count": 9
  },
  {
   "outputs": [],
   "cell_type": "markdown",
   "source": [
    "check the effective sample size"
   ],
   "metadata": {}
  },
  {
   "outputs": [
    {
     "output_type": "execute_result",
     "data": {
      "text/plain": "377.3502855000167"
     },
     "metadata": {},
     "execution_count": 10
    }
   ],
   "cell_type": "code",
   "source": [
    "ess_α = effective_sample_size(posterior_α)"
   ],
   "metadata": {},
   "execution_count": 10
  },
  {
   "outputs": [],
   "cell_type": "markdown",
   "source": [
    "NUTS-specific statistics"
   ],
   "metadata": {}
  },
  {
   "outputs": [
    {
     "output_type": "execute_result",
     "data": {
      "text/plain": "Hamiltonian Monte Carlo sample of length 1000\n  acceptance rate mean: 0.91, min/25%/median/75%/max: 0.1 0.88 0.97 1.0 1.0\n  termination: AdjacentTurn => 27% DoubledTurn => 73%\n  depth: 1 => 58% 2 => 42%\n"
     },
     "metadata": {},
     "execution_count": 11
    }
   ],
   "cell_type": "code",
   "source": [
    "NUTS_statistics(chain)"
   ],
   "metadata": {},
   "execution_count": 11
  },
  {
   "outputs": [],
   "cell_type": "markdown",
   "source": [
    "check the mean"
   ],
   "metadata": {}
  },
  {
   "outputs": [
    {
     "output_type": "execute_result",
     "data": {
      "text/plain": "0.5450459122230754"
     },
     "metadata": {},
     "execution_count": 12
    }
   ],
   "cell_type": "code",
   "source": [
    "mean(posterior_α)"
   ],
   "metadata": {},
   "execution_count": 12
  },
  {
   "outputs": [],
   "cell_type": "markdown",
   "source": [
    "*This notebook was generated using [Literate.jl](https://github.com/fredrikekre/Literate.jl).*"
   ],
   "metadata": {}
  }
 ],
 "nbformat_minor": 3,
 "metadata": {
  "language_info": {
   "file_extension": ".jl",
   "mimetype": "application/julia",
   "name": "julia",
   "version": "1.3.0-DEV.568"
  },
  "kernelspec": {
   "name": "julia-1.3",
   "display_name": "Julia 1.3.0-DEV.568",
   "language": "julia"
  }
 },
 "nbformat": 4
}
