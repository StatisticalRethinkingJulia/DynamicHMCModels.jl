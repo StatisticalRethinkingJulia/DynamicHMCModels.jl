{
 "cells": [
  {
   "outputs": [],
   "cell_type": "markdown",
   "source": [
    "# Estimate Binomial draw probabilility"
   ],
   "metadata": {}
  },
  {
   "outputs": [],
   "cell_type": "code",
   "source": [
    "using DynamicHMCModels"
   ],
   "metadata": {},
   "execution_count": 1
  },
  {
   "outputs": [],
   "cell_type": "markdown",
   "source": [
    "Define a structure to hold the data."
   ],
   "metadata": {}
  },
  {
   "outputs": [],
   "cell_type": "code",
   "source": [
    "struct BernoulliProblem\n",
    "    \"Total number of draws in the data.\"\n",
    "    n::Int\n",
    "    \"Number of draws `==1` in the data\"\n",
    "    s::Vector{Int}\n",
    "end;"
   ],
   "metadata": {},
   "execution_count": 2
  },
  {
   "outputs": [],
   "cell_type": "markdown",
   "source": [
    "Make the type callable with the parameters *as a single argument*."
   ],
   "metadata": {}
  },
  {
   "outputs": [],
   "cell_type": "code",
   "source": [
    "function (problem::BernoulliProblem)((α, )::NamedTuple{(:α, )})\n",
    "    @unpack n, s = problem        # extract the data\n",
    "    loglikelihood(Binomial(n, α), s)\n",
    "end"
   ],
   "metadata": {},
   "execution_count": 3
  },
  {
   "outputs": [],
   "cell_type": "markdown",
   "source": [
    "Create the data and complete setting up the problem."
   ],
   "metadata": {}
  },
  {
   "outputs": [
    {
     "output_type": "execute_result",
     "data": {
      "text/plain": "-4.041100047703289"
     },
     "metadata": {},
     "execution_count": 4
    }
   ],
   "cell_type": "code",
   "source": [
    "obs = rand(Binomial(9, 2/3), 1)\n",
    "p = BernoulliProblem(9, obs)\n",
    "p((α = 0.5, ))"
   ],
   "metadata": {},
   "execution_count": 4
  },
  {
   "outputs": [],
   "cell_type": "markdown",
   "source": [
    "Write a function to return properly dimensioned transformation."
   ],
   "metadata": {}
  },
  {
   "outputs": [],
   "cell_type": "code",
   "source": [
    "problem_transformation(p::BernoulliProblem) =\n",
    "    as((α = as𝕀, ),  )\n",
    "# Use a flat priors (the default, omitted) for α\n",
    "P = TransformedLogDensity(problem_transformation(p), p)\n",
    "∇P = LogDensityRejectErrors(ADgradient(:ForwardDiff, P));"
   ],
   "metadata": {},
   "execution_count": 5
  },
  {
   "outputs": [],
   "cell_type": "markdown",
   "source": [
    "Sample"
   ],
   "metadata": {}
  },
  {
   "outputs": [
    {
     "name": "stdout",
     "output_type": "stream",
     "text": [
      "MCMC, adapting ϵ (75 steps)\n",
      "0.0013 s/step ...done\n",
      "MCMC, adapting ϵ (25 steps)\n",
      "1.7e-5 s/step ...done\n",
      "MCMC, adapting ϵ (50 steps)\n",
      "0.0025 s/step ...done\n",
      "MCMC, adapting ϵ (100 steps)\n",
      "8.9e-6 s/step ...done\n",
      "MCMC, adapting ϵ (200 steps)\n",
      "4.3e-5 s/step ...done\n",
      "MCMC, adapting ϵ (400 steps)\n",
      "7.6e-6 s/step ...done\n",
      "MCMC, adapting ϵ (50 steps)\n",
      "9.4e-6 s/step ...done\n",
      "MCMC (1000 steps)\n",
      "6.4e-6 s/step ...done\n"
     ]
    },
    {
     "output_type": "execute_result",
     "data": {
      "text/plain": "(NUTS_Transition{Array{Float64,1},Float64}[NUTS_Transition{Array{Float64,1},Float64}([1.39607], -3.13652, 2, DoubledTurn, 0.956733, 3), NUTS_Transition{Array{Float64,1},Float64}([0.812781], -3.46896, 1, DoubledTurn, 0.817852, 1), NUTS_Transition{Array{Float64,1},Float64}([1.70656], -3.3517, 1, AdjacentTurn, 1.0, 3), NUTS_Transition{Array{Float64,1},Float64}([1.76507], -3.07928, 1, DoubledTurn, 0.993297, 1), NUTS_Transition{Array{Float64,1},Float64}([3.62022], -5.55881, 2, DoubledTurn, 0.651238, 3), NUTS_Transition{Array{Float64,1},Float64}([3.15916], -6.34256, 2, DoubledTurn, 0.980942, 3), NUTS_Transition{Array{Float64,1},Float64}([3.21866], -4.91616, 1, DoubledTurn, 0.990967, 1), NUTS_Transition{Array{Float64,1},Float64}([3.87514], -5.79467, 1, DoubledTurn, 0.91885, 1), NUTS_Transition{Array{Float64,1},Float64}([3.92311], -6.19456, 1, DoubledTurn, 0.995745, 1), NUTS_Transition{Array{Float64,1},Float64}([2.27835], -5.82438, 2, DoubledTurn, 0.999684, 3)  …  NUTS_Transition{Array{Float64,1},Float64}([1.21459], -3.14101, 2, DoubledTurn, 0.985815, 3), NUTS_Transition{Array{Float64,1},Float64}([0.677611], -3.71086, 1, DoubledTurn, 0.744725, 1), NUTS_Transition{Array{Float64,1},Float64}([1.3194], -3.38302, 1, DoubledTurn, 1.0, 1), NUTS_Transition{Array{Float64,1},Float64}([1.92706], -4.5624, 2, DoubledTurn, 0.523686, 3), NUTS_Transition{Array{Float64,1},Float64}([2.1882], -3.36083, 1, DoubledTurn, 0.949804, 1), NUTS_Transition{Array{Float64,1},Float64}([1.01174], -3.30952, 2, DoubledTurn, 1.0, 3), NUTS_Transition{Array{Float64,1},Float64}([0.817344], -3.56638, 1, DoubledTurn, 0.890047, 1), NUTS_Transition{Array{Float64,1},Float64}([0.786442], -3.72469, 1, DoubledTurn, 0.976491, 1), NUTS_Transition{Array{Float64,1},Float64}([0.222097], -5.04651, 1, DoubledTurn, 0.485706, 1), NUTS_Transition{Array{Float64,1},Float64}([0.828568], -4.2605, 1, DoubledTurn, 1.0, 1)], NUTS sampler in 1 dimensions\n  stepsize (ϵ) ≈ 1.21\n  maximum depth = 10\n  Gaussian kinetic energy, √diag(M⁻¹): [0.796996]\n)"
     },
     "metadata": {},
     "execution_count": 6
    }
   ],
   "cell_type": "code",
   "source": [
    "chain, NUTS_tuned = NUTS_init_tune_mcmc(∇P, 1000)"
   ],
   "metadata": {},
   "execution_count": 6
  },
  {
   "outputs": [],
   "cell_type": "markdown",
   "source": [
    "To get the posterior for ``α`` use `get_position` and then transform back."
   ],
   "metadata": {}
  },
  {
   "outputs": [],
   "cell_type": "code",
   "source": [
    "posterior = TransformVariables.transform.(Ref(problem_transformation(p)), get_position.(chain));"
   ],
   "metadata": {},
   "execution_count": 7
  },
  {
   "outputs": [],
   "cell_type": "markdown",
   "source": [
    "Extract the parameter."
   ],
   "metadata": {}
  },
  {
   "outputs": [],
   "cell_type": "code",
   "source": [
    "posterior_α = first.(posterior);"
   ],
   "metadata": {},
   "execution_count": 8
  },
  {
   "outputs": [],
   "cell_type": "markdown",
   "source": [
    "check the effective sample size"
   ],
   "metadata": {}
  },
  {
   "outputs": [
    {
     "output_type": "execute_result",
     "data": {
      "text/plain": "338.7967148254395"
     },
     "metadata": {},
     "execution_count": 9
    }
   ],
   "cell_type": "code",
   "source": [
    "ess_α = effective_sample_size(posterior_α)"
   ],
   "metadata": {},
   "execution_count": 9
  },
  {
   "outputs": [],
   "cell_type": "markdown",
   "source": [
    "NUTS-specific statistics"
   ],
   "metadata": {}
  },
  {
   "outputs": [
    {
     "output_type": "execute_result",
     "data": {
      "text/plain": "Hamiltonian Monte Carlo sample of length 1000\n  acceptance rate mean: 0.86, min/25%/median/75%/max: 0.0 0.83 0.96 1.0 1.0\n  termination: AdjacentTurn => 20% DoubledTurn => 80%\n  depth: 1 => 60% 2 => 40%\n"
     },
     "metadata": {},
     "execution_count": 10
    }
   ],
   "cell_type": "code",
   "source": [
    "NUTS_statistics(chain)"
   ],
   "metadata": {},
   "execution_count": 10
  },
  {
   "outputs": [],
   "cell_type": "markdown",
   "source": [
    "check the mean"
   ],
   "metadata": {}
  },
  {
   "outputs": [
    {
     "output_type": "execute_result",
     "data": {
      "text/plain": "0.8184584953479987"
     },
     "metadata": {},
     "execution_count": 11
    }
   ],
   "cell_type": "code",
   "source": [
    "mean(posterior_α)"
   ],
   "metadata": {},
   "execution_count": 11
  },
  {
   "outputs": [],
   "cell_type": "markdown",
   "source": [
    "*This notebook was generated using [Literate.jl](https://github.com/fredrikekre/Literate.jl).*"
   ],
   "metadata": {}
  }
 ],
 "nbformat_minor": 3,
 "metadata": {
  "language_info": {
   "file_extension": ".jl",
   "mimetype": "application/julia",
   "name": "julia",
   "version": "1.2.0-DEV.283"
  },
  "kernelspec": {
   "name": "julia-1.2",
   "display_name": "Julia 1.2.0-DEV.283",
   "language": "julia"
  }
 },
 "nbformat": 4
}
