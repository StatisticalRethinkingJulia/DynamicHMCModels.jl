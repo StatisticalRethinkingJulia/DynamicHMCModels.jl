{
 "cells": [
  {
   "outputs": [],
   "cell_type": "markdown",
   "source": [
    "# Estimate Binomial draw probabilility"
   ],
   "metadata": {}
  },
  {
   "outputs": [],
   "cell_type": "code",
   "source": [
    "using DynamicHMCModels"
   ],
   "metadata": {},
   "execution_count": 1
  },
  {
   "outputs": [],
   "cell_type": "markdown",
   "source": [
    "Define a structure to hold the data."
   ],
   "metadata": {}
  },
  {
   "outputs": [],
   "cell_type": "code",
   "source": [
    "struct BernoulliProblem\n",
    "    \"Total number of draws in the data.\"\n",
    "    n::Int\n",
    "    \"Number of draws `==1` in the data\"\n",
    "    s::Vector{Int}\n",
    "end;"
   ],
   "metadata": {},
   "execution_count": 2
  },
  {
   "outputs": [],
   "cell_type": "markdown",
   "source": [
    "Make the type callable with the parameters *as a single argument*."
   ],
   "metadata": {}
  },
  {
   "outputs": [],
   "cell_type": "code",
   "source": [
    "function (problem::BernoulliProblem)((α, )::NamedTuple{(:α, )})\n",
    "    @unpack n, s = problem        # extract the data\n",
    "    loglikelihood(Binomial(n, α), s)\n",
    "end"
   ],
   "metadata": {},
   "execution_count": 3
  },
  {
   "outputs": [],
   "cell_type": "markdown",
   "source": [
    "Create the data and complete setting up the problem."
   ],
   "metadata": {}
  },
  {
   "outputs": [
    {
     "output_type": "execute_result",
     "data": {
      "text/plain": "-2.6548056865833978"
     },
     "metadata": {},
     "execution_count": 4
    }
   ],
   "cell_type": "code",
   "source": [
    "obs = rand(Binomial(9, 2/3), 1)\n",
    "p = BernoulliProblem(9, obs)\n",
    "p((α = 0.5, ))"
   ],
   "metadata": {},
   "execution_count": 4
  },
  {
   "outputs": [],
   "cell_type": "markdown",
   "source": [
    "Write a function to return properly dimensioned transformation."
   ],
   "metadata": {}
  },
  {
   "outputs": [],
   "cell_type": "code",
   "source": [
    "problem_transformation(p::BernoulliProblem) =\n",
    "    as((α = as𝕀, ),  )\n",
    "# Use a flat priors (the default, omitted) for α\n",
    "P = TransformedLogDensity(problem_transformation(p), p)\n",
    "∇P = LogDensityRejectErrors(ADgradient(:ForwardDiff, P));"
   ],
   "metadata": {},
   "execution_count": 5
  },
  {
   "outputs": [],
   "cell_type": "markdown",
   "source": [
    "Sample"
   ],
   "metadata": {}
  },
  {
   "outputs": [
    {
     "name": "stdout",
     "output_type": "stream",
     "text": [
      "MCMC, adapting ϵ (75 steps)\n",
      "0.0014 s/step ...done\n",
      "MCMC, adapting ϵ (25 steps)\n",
      "9.7e-6 s/step ...done\n",
      "MCMC, adapting ϵ (50 steps)\n",
      "0.0025 s/step ...done\n",
      "MCMC, adapting ϵ (100 steps)\n",
      "1.0e-5 s/step ...done\n",
      "MCMC, adapting ϵ (200 steps)\n",
      "9.1e-6 s/step ...done\n",
      "MCMC, adapting ϵ (400 steps)\n",
      "7.1e-6 s/step ...done\n",
      "MCMC, adapting ϵ (50 steps)\n",
      "1.0e-5 s/step ...done\n",
      "MCMC (1000 steps)\n",
      "1.7e-5 s/step ...done\n"
     ]
    },
    {
     "output_type": "execute_result",
     "data": {
      "text/plain": "(NUTS_Transition{Array{Float64,1},Float64}[NUTS_Transition{Array{Float64,1},Float64}([1.5398], -3.17689, 1, DoubledTurn, 0.961654, 1), NUTS_Transition{Array{Float64,1},Float64}([1.60264], -3.29407, 1, DoubledTurn, 0.98637, 1), NUTS_Transition{Array{Float64,1},Float64}([2.32971], -4.47452, 1, AdjacentTurn, 0.855739, 3), NUTS_Transition{Array{Float64,1},Float64}([2.09169], -4.44339, 2, DoubledTurn, 1.0, 3), NUTS_Transition{Array{Float64,1},Float64}([1.5596], -4.29099, 2, DoubledTurn, 0.981106, 3), NUTS_Transition{Array{Float64,1},Float64}([0.32772], -4.05034, 1, AdjacentTurn, 0.906731, 3), NUTS_Transition{Array{Float64,1},Float64}([0.706856], -3.2353, 1, DoubledTurn, 1.0, 1), NUTS_Transition{Array{Float64,1},Float64}([0.821846], -3.1253, 2, DoubledTurn, 0.965629, 3), NUTS_Transition{Array{Float64,1},Float64}([0.366699], -3.31416, 1, AdjacentTurn, 0.905129, 3), NUTS_Transition{Array{Float64,1},Float64}([0.818333], -3.1857, 1, AdjacentTurn, 1.0, 3)  …  NUTS_Transition{Array{Float64,1},Float64}([1.0807], -2.93799, 1, AdjacentTurn, 0.995913, 3), NUTS_Transition{Array{Float64,1},Float64}([1.73895], -3.51399, 1, AdjacentTurn, 0.881375, 3), NUTS_Transition{Array{Float64,1},Float64}([1.26158], -3.54079, 2, DoubledTurn, 0.987732, 3), NUTS_Transition{Array{Float64,1},Float64}([1.26158], -3.79152, 1, AdjacentTurn, 0.837223, 3), NUTS_Transition{Array{Float64,1},Float64}([0.908206], -2.92958, 2, DoubledTurn, 1.0, 3), NUTS_Transition{Array{Float64,1},Float64}([1.14964], -2.98029, 2, DoubledTurn, 0.979599, 3), NUTS_Transition{Array{Float64,1},Float64}([0.954994], -2.88926, 2, DoubledTurn, 1.0, 3), NUTS_Transition{Array{Float64,1},Float64}([1.09332], -2.95405, 2, DoubledTurn, 0.983389, 3), NUTS_Transition{Array{Float64,1},Float64}([0.779502], -2.94667, 1, AdjacentTurn, 0.988457, 3), NUTS_Transition{Array{Float64,1},Float64}([-0.49725], -5.71711, 1, AdjacentTurn, 0.51424, 3)], NUTS sampler in 1 dimensions\n  stepsize (ϵ) ≈ 0.955\n  maximum depth = 10\n  Gaussian kinetic energy, √diag(M⁻¹): [0.742393]\n)"
     },
     "metadata": {},
     "execution_count": 6
    }
   ],
   "cell_type": "code",
   "source": [
    "chain, NUTS_tuned = NUTS_init_tune_mcmc(∇P, 1000)"
   ],
   "metadata": {},
   "execution_count": 6
  },
  {
   "outputs": [],
   "cell_type": "markdown",
   "source": [
    "To get the posterior for ``α`` use `get_position` and then transform back."
   ],
   "metadata": {}
  },
  {
   "outputs": [],
   "cell_type": "code",
   "source": [
    "posterior = TransformVariables.transform.(Ref(problem_transformation(p)), get_position.(chain));"
   ],
   "metadata": {},
   "execution_count": 7
  },
  {
   "outputs": [],
   "cell_type": "markdown",
   "source": [
    "Extract the parameter."
   ],
   "metadata": {}
  },
  {
   "outputs": [],
   "cell_type": "code",
   "source": [
    "posterior_α = first.(posterior);"
   ],
   "metadata": {},
   "execution_count": 8
  },
  {
   "outputs": [],
   "cell_type": "markdown",
   "source": [
    "check the effective sample size"
   ],
   "metadata": {}
  },
  {
   "outputs": [
    {
     "output_type": "execute_result",
     "data": {
      "text/plain": "280.9843009131624"
     },
     "metadata": {},
     "execution_count": 9
    }
   ],
   "cell_type": "code",
   "source": [
    "ess_α = effective_sample_size(posterior_α)"
   ],
   "metadata": {},
   "execution_count": 9
  },
  {
   "outputs": [],
   "cell_type": "markdown",
   "source": [
    "NUTS-specific statistics"
   ],
   "metadata": {}
  },
  {
   "outputs": [
    {
     "output_type": "execute_result",
     "data": {
      "text/plain": "Hamiltonian Monte Carlo sample of length 1000\n  acceptance rate mean: 0.92, min/25%/median/75%/max: 0.15 0.89 0.97 1.0 1.0\n  termination: AdjacentTurn => 34% DoubledTurn => 66%\n  depth: 1 => 65% 2 => 35%\n"
     },
     "metadata": {},
     "execution_count": 10
    }
   ],
   "cell_type": "code",
   "source": [
    "NUTS_statistics(chain)"
   ],
   "metadata": {},
   "execution_count": 10
  },
  {
   "outputs": [],
   "cell_type": "markdown",
   "source": [
    "check the mean"
   ],
   "metadata": {}
  },
  {
   "outputs": [
    {
     "output_type": "execute_result",
     "data": {
      "text/plain": "0.7214116805684743"
     },
     "metadata": {},
     "execution_count": 11
    }
   ],
   "cell_type": "code",
   "source": [
    "mean(posterior_α)"
   ],
   "metadata": {},
   "execution_count": 11
  },
  {
   "outputs": [],
   "cell_type": "markdown",
   "source": [
    "*This notebook was generated using [Literate.jl](https://github.com/fredrikekre/Literate.jl).*"
   ],
   "metadata": {}
  }
 ],
 "nbformat_minor": 3,
 "metadata": {
  "language_info": {
   "file_extension": ".jl",
   "mimetype": "application/julia",
   "name": "julia",
   "version": "1.1.0"
  },
  "kernelspec": {
   "name": "julia-1.1",
   "display_name": "Julia 1.1.0",
   "language": "julia"
  }
 },
 "nbformat": 4
}
