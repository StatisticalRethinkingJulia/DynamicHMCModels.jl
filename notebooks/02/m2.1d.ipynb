{
 "cells": [
  {
   "outputs": [],
   "cell_type": "markdown",
   "source": [
    "# Estimate Binomial draw probabilility"
   ],
   "metadata": {}
  },
  {
   "outputs": [],
   "cell_type": "code",
   "source": [
    "using DynamicHMCModels"
   ],
   "metadata": {},
   "execution_count": 1
  },
  {
   "outputs": [],
   "cell_type": "markdown",
   "source": [
    "Define a structure to hold the data."
   ],
   "metadata": {}
  },
  {
   "outputs": [],
   "cell_type": "code",
   "source": [
    "struct BernoulliProblem\n",
    "    \"Total number of draws in the data.\"\n",
    "    n::Int\n",
    "    \"Number of draws `==1` in the data\"\n",
    "    s::Vector{Int}\n",
    "end;"
   ],
   "metadata": {},
   "execution_count": 2
  },
  {
   "outputs": [],
   "cell_type": "markdown",
   "source": [
    "Make the type callable with the parameters *as a single argument*."
   ],
   "metadata": {}
  },
  {
   "outputs": [],
   "cell_type": "code",
   "source": [
    "function (problem::BernoulliProblem)((α, )::NamedTuple{(:α, )})\n",
    "    @unpack n, s = problem        # extract the data\n",
    "    loglikelihood(Binomial(n, α), s)\n",
    "end"
   ],
   "metadata": {},
   "execution_count": 3
  },
  {
   "outputs": [],
   "cell_type": "markdown",
   "source": [
    "Create the data and complete setting up the problem."
   ],
   "metadata": {}
  },
  {
   "outputs": [
    {
     "output_type": "execute_result",
     "data": {
      "text/plain": "-1.8075078261961934"
     },
     "metadata": {},
     "execution_count": 4
    }
   ],
   "cell_type": "code",
   "source": [
    "obs = rand(Binomial(9, 2/3), 1)\n",
    "p = BernoulliProblem(9, obs)\n",
    "p((α = 0.5, ))"
   ],
   "metadata": {},
   "execution_count": 4
  },
  {
   "outputs": [],
   "cell_type": "markdown",
   "source": [
    "Write a function to return properly dimensioned transformation."
   ],
   "metadata": {}
  },
  {
   "outputs": [],
   "cell_type": "code",
   "source": [
    "problem_transformation(p::BernoulliProblem) =\n",
    "    as((α = as𝕀, ),  )\n",
    "# Use a flat priors (the default, omitted) for α\n",
    "P = TransformedLogDensity(problem_transformation(p), p)\n",
    "∇P = LogDensityRejectErrors(ADgradient(:ForwardDiff, P));"
   ],
   "metadata": {},
   "execution_count": 5
  },
  {
   "outputs": [],
   "cell_type": "markdown",
   "source": [
    "Sample"
   ],
   "metadata": {}
  },
  {
   "outputs": [
    {
     "name": "stdout",
     "output_type": "stream",
     "text": [
      "MCMC, adapting ϵ (75 steps)\n",
      "7.9e-6 s/step ...done\n",
      "MCMC, adapting ϵ (25 steps)\n",
      "1.2e-5 s/step ...done\n",
      "MCMC, adapting ϵ (50 steps)\n",
      "1.0e-5 s/step ...done\n",
      "MCMC, adapting ϵ (100 steps)\n",
      "8.3e-6 s/step ...done\n",
      "MCMC, adapting ϵ (200 steps)\n",
      "6.8e-6 s/step ...done\n",
      "MCMC, adapting ϵ (400 steps)\n",
      "6.8e-6 s/step ...done\n",
      "MCMC, adapting ϵ (50 steps)\n",
      "9.6e-6 s/step ...done\n",
      "MCMC (1000 steps)\n",
      "6.8e-6 s/step ...done\n"
     ]
    },
    {
     "output_type": "execute_result",
     "data": {
      "text/plain": "(NUTS_Transition{Array{Float64,1},Float64}[NUTS_Transition{Array{Float64,1},Float64}([1.7890217240979678], -6.4898469273717225, 1, DynamicHMC.AdjacentTurn, 0.7978422850088526, 3), NUTS_Transition{Array{Float64,1},Float64}([1.6995487779646523], -4.640188950581506, 1, DynamicHMC.DoubledTurn, 1.0, 1), NUTS_Transition{Array{Float64,1},Float64}([-0.003424497605984067], -3.9276905351623363, 2, DynamicHMC.DoubledTurn, 1.0, 3), NUTS_Transition{Array{Float64,1},Float64}([-0.003424497605984067], -4.595495685300759, 1, DynamicHMC.DoubledTurn, 0.5219140940669984, 1), NUTS_Transition{Array{Float64,1},Float64}([0.3855982652026098], -3.7850173923394825, 2, DynamicHMC.DoubledTurn, 0.8841316144303697, 3), NUTS_Transition{Array{Float64,1},Float64}([1.51691313530551], -4.2619862888092905, 2, DynamicHMC.DoubledTurn, 0.7743000050362602, 3), NUTS_Transition{Array{Float64,1},Float64}([0.6498927128360852], -3.6801173614861744, 1, DynamicHMC.AdjacentTurn, 0.9917188180623412, 3), NUTS_Transition{Array{Float64,1},Float64}([0.8289603102363806], -2.8698810617729467, 1, DynamicHMC.AdjacentTurn, 0.9823218303499766, 3), NUTS_Transition{Array{Float64,1},Float64}([0.5035591815515712], -2.872472814486446, 1, DynamicHMC.AdjacentTurn, 0.9960749410572225, 3), NUTS_Transition{Array{Float64,1},Float64}([-0.12317531153770489], -3.4368396576436013, 1, DynamicHMC.AdjacentTurn, 0.8479494654220234, 3)  …  NUTS_Transition{Array{Float64,1},Float64}([0.6032451578798265], -2.793686770009181, 1, DynamicHMC.AdjacentTurn, 1.0, 3), NUTS_Transition{Array{Float64,1},Float64}([-0.24277992452749453], -3.7534270126895968, 1, DynamicHMC.AdjacentTurn, 0.7887176066791359, 3), NUTS_Transition{Array{Float64,1},Float64}([0.6931644371514338], -3.82752144574698, 2, DynamicHMC.DoubledTurn, 0.968603560864337, 3), NUTS_Transition{Array{Float64,1},Float64}([1.750378288114488], -4.734566333609905, 2, DynamicHMC.DoubledTurn, 0.7560260992165211, 3), NUTS_Transition{Array{Float64,1},Float64}([1.2113906277083557], -4.114375416519946, 2, DynamicHMC.DoubledTurn, 1.0, 3), NUTS_Transition{Array{Float64,1},Float64}([0.8737337405376593], -3.183664687356605, 2, DynamicHMC.DoubledTurn, 1.0, 3), NUTS_Transition{Array{Float64,1},Float64}([0.7914153353568877], -2.8961796696912936, 1, DynamicHMC.DoubledTurn, 1.0, 1), NUTS_Transition{Array{Float64,1},Float64}([0.6754699711712788], -2.832307286580915, 1, DynamicHMC.DoubledTurn, 1.0, 1), NUTS_Transition{Array{Float64,1},Float64}([0.6754699711712788], -3.9861616200290646, 1, DynamicHMC.AdjacentTurn, 0.695098247171098, 3), NUTS_Transition{Array{Float64,1},Float64}([0.5328833779567963], -2.828988119940733, 2, DynamicHMC.DoubledTurn, 0.9943857715075913, 3)], NUTS sampler in 1 dimensions\n  stepsize (ϵ) ≈ 1.03\n  maximum depth = 10\n  Gaussian kinetic energy, √diag(M⁻¹): [0.669278159049264]\n)"
     },
     "metadata": {},
     "execution_count": 6
    }
   ],
   "cell_type": "code",
   "source": [
    "chain, NUTS_tuned = NUTS_init_tune_mcmc(∇P, 1000)"
   ],
   "metadata": {},
   "execution_count": 6
  },
  {
   "outputs": [],
   "cell_type": "markdown",
   "source": [
    "To get the posterior for ``α`` use `get_position` and then transform back."
   ],
   "metadata": {}
  },
  {
   "outputs": [],
   "cell_type": "code",
   "source": [
    "posterior = TransformVariables.transform.(Ref(problem_transformation(p)), get_position.(chain));"
   ],
   "metadata": {},
   "execution_count": 7
  },
  {
   "outputs": [],
   "cell_type": "markdown",
   "source": [
    "Extract the parameter."
   ],
   "metadata": {}
  },
  {
   "outputs": [],
   "cell_type": "code",
   "source": [
    "posterior_α = first.(posterior);"
   ],
   "metadata": {},
   "execution_count": 8
  },
  {
   "outputs": [],
   "cell_type": "markdown",
   "source": [
    "check the effective sample size"
   ],
   "metadata": {}
  },
  {
   "outputs": [
    {
     "output_type": "execute_result",
     "data": {
      "text/plain": "405.04947300508036"
     },
     "metadata": {},
     "execution_count": 9
    }
   ],
   "cell_type": "code",
   "source": [
    "ess_α = effective_sample_size(posterior_α)"
   ],
   "metadata": {},
   "execution_count": 9
  },
  {
   "outputs": [],
   "cell_type": "markdown",
   "source": [
    "NUTS-specific statistics"
   ],
   "metadata": {}
  },
  {
   "outputs": [
    {
     "output_type": "execute_result",
     "data": {
      "text/plain": "Hamiltonian Monte Carlo sample of length 1000\n  acceptance rate mean: 0.91, min/25%/median/75%/max: 0.1 0.86 0.97 1.0 1.0\n  termination: AdjacentTurn => 30% DoubledTurn => 70%\n  depth: 1 => 63% 2 => 37%\n"
     },
     "metadata": {},
     "execution_count": 10
    }
   ],
   "cell_type": "code",
   "source": [
    "NUTS_statistics(chain)"
   ],
   "metadata": {},
   "execution_count": 10
  },
  {
   "outputs": [],
   "cell_type": "markdown",
   "source": [
    "check the mean"
   ],
   "metadata": {}
  },
  {
   "outputs": [
    {
     "output_type": "execute_result",
     "data": {
      "text/plain": "0.6300391272485314"
     },
     "metadata": {},
     "execution_count": 11
    }
   ],
   "cell_type": "code",
   "source": [
    "mean(posterior_α)"
   ],
   "metadata": {},
   "execution_count": 11
  },
  {
   "outputs": [],
   "cell_type": "markdown",
   "source": [
    "*This notebook was generated using [Literate.jl](https://github.com/fredrikekre/Literate.jl).*"
   ],
   "metadata": {}
  }
 ],
 "nbformat_minor": 3,
 "metadata": {
  "language_info": {
   "file_extension": ".jl",
   "mimetype": "application/julia",
   "name": "julia",
   "version": "1.2.0-DEV.446"
  },
  "kernelspec": {
   "name": "julia-1.2",
   "display_name": "Julia 1.2.0-DEV.446",
   "language": "julia"
  }
 },
 "nbformat": 4
}
