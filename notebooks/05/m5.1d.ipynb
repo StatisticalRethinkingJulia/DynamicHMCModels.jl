{
 "cells": [
  {
   "outputs": [],
   "cell_type": "markdown",
   "source": [
    "# Linear regression"
   ],
   "metadata": {}
  },
  {
   "outputs": [],
   "cell_type": "code",
   "source": [
    "using DynamicHMCModels\n",
    "\n",
    "ProjDir = rel_path_d(\"..\", \"scripts\", \"05\")\n",
    "cd(ProjDir)"
   ],
   "metadata": {},
   "execution_count": 1
  },
  {
   "outputs": [],
   "cell_type": "markdown",
   "source": [
    "Import the dataset."
   ],
   "metadata": {}
  },
  {
   "outputs": [],
   "cell_type": "markdown",
   "source": [
    "### snippet 5.1"
   ],
   "metadata": {}
  },
  {
   "outputs": [],
   "cell_type": "code",
   "source": [
    "wd = CSV.read(rel_path(\"..\", \"data\", \"WaffleDivorce.csv\"), delim=';')\n",
    "df = convert(DataFrame, wd);\n",
    "mean_ma = mean(df[!, :MedianAgeMarriage])\n",
    "df[!, :MedianAgeMarriage_s] = convert(Vector{Float64},\n",
    "  (df[!, :MedianAgeMarriage]) .- mean_ma)/std(df[!, :MedianAgeMarriage]);"
   ],
   "metadata": {},
   "execution_count": 2
  },
  {
   "outputs": [],
   "cell_type": "markdown",
   "source": [
    "Show the first six rows of the dataset."
   ],
   "metadata": {}
  },
  {
   "outputs": [
    {
     "output_type": "execute_result",
     "data": {
      "text/plain": "6×14 DataFrame. Omitted printing of 9 columns\n│ Row │ Location   │ Loc    │ Population │ MedianAgeMarriage │ Marriage │\n│     │ \u001b[90mString\u001b[39m     │ \u001b[90mString\u001b[39m │ \u001b[90mFloat64\u001b[39m    │ \u001b[90mFloat64\u001b[39m           │ \u001b[90mFloat64\u001b[39m  │\n├─────┼────────────┼────────┼────────────┼───────────────────┼──────────┤\n│ 1   │ Alabama    │ AL     │ 4.78       │ 25.3              │ 20.2     │\n│ 2   │ Alaska     │ AK     │ 0.71       │ 25.2              │ 26.0     │\n│ 3   │ Arizona    │ AZ     │ 6.33       │ 25.8              │ 20.3     │\n│ 4   │ Arkansas   │ AR     │ 2.92       │ 24.3              │ 26.4     │\n│ 5   │ California │ CA     │ 37.25      │ 26.8              │ 19.1     │\n│ 6   │ Colorado   │ CO     │ 5.03       │ 25.7              │ 23.5     │",
      "text/html": [
       "<table class=\"data-frame\"><thead><tr><th></th><th>Location</th><th>Loc</th><th>Population</th><th>MedianAgeMarriage</th><th>Marriage</th><th>Marriage SE</th><th>Divorce</th></tr><tr><th></th><th>String</th><th>String</th><th>Float64</th><th>Float64</th><th>Float64</th><th>Float64</th><th>Float64</th></tr></thead><tbody><p>6 rows × 14 columns (omitted printing of 7 columns)</p><tr><th>1</th><td>Alabama</td><td>AL</td><td>4.78</td><td>25.3</td><td>20.2</td><td>1.27</td><td>12.7</td></tr><tr><th>2</th><td>Alaska</td><td>AK</td><td>0.71</td><td>25.2</td><td>26.0</td><td>2.93</td><td>12.5</td></tr><tr><th>3</th><td>Arizona</td><td>AZ</td><td>6.33</td><td>25.8</td><td>20.3</td><td>0.98</td><td>10.8</td></tr><tr><th>4</th><td>Arkansas</td><td>AR</td><td>2.92</td><td>24.3</td><td>26.4</td><td>1.7</td><td>13.5</td></tr><tr><th>5</th><td>California</td><td>CA</td><td>37.25</td><td>26.8</td><td>19.1</td><td>0.39</td><td>8.0</td></tr><tr><th>6</th><td>Colorado</td><td>CO</td><td>5.03</td><td>25.7</td><td>23.5</td><td>1.24</td><td>11.6</td></tr></tbody></table>"
      ]
     },
     "metadata": {},
     "execution_count": 3
    }
   ],
   "cell_type": "code",
   "source": [
    "first(df, 6)"
   ],
   "metadata": {},
   "execution_count": 3
  },
  {
   "outputs": [],
   "cell_type": "markdown",
   "source": [
    "Model ``y ∼ Normal(y - Xβ, σ)``. Flat prior for `β`, half-T for `σ`."
   ],
   "metadata": {}
  },
  {
   "outputs": [],
   "cell_type": "code",
   "source": [
    "struct WaffleDivorceProblem{TY <: AbstractVector, TX <: AbstractMatrix}\n",
    "    \"Observations.\"\n",
    "    y::TY\n",
    "    \"Covariates\"\n",
    "    X::TX\n",
    "end"
   ],
   "metadata": {},
   "execution_count": 4
  },
  {
   "outputs": [],
   "cell_type": "markdown",
   "source": [
    "Make the type callable with the parameters *as a single argument*."
   ],
   "metadata": {}
  },
  {
   "outputs": [],
   "cell_type": "code",
   "source": [
    "function (problem::WaffleDivorceProblem)(θ)\n",
    "    @unpack y, X, = problem   # extract the data\n",
    "    @unpack β, σ = θ            # works on the named tuple too\n",
    "    ll = 0.0\n",
    "    ll += logpdf(Normal(10, 10), X[1]) # a = X[1]\n",
    "    ll += logpdf(Normal(0, 1), X[2]) # b1 = X[2]\n",
    "    ll += logpdf(TDist(1.0), σ)\n",
    "    ll += loglikelihood(Normal(0, σ), y .- X*β)\n",
    "    ll\n",
    "end"
   ],
   "metadata": {},
   "execution_count": 5
  },
  {
   "outputs": [],
   "cell_type": "markdown",
   "source": [
    "Instantiate the model with data and inits."
   ],
   "metadata": {}
  },
  {
   "outputs": [
    {
     "output_type": "execute_result",
     "data": {
      "text/plain": "-2225.6614871340917"
     },
     "metadata": {},
     "execution_count": 6
    }
   ],
   "cell_type": "code",
   "source": [
    "N = size(df, 1)\n",
    "X = hcat(ones(N), df[!, :MedianAgeMarriage_s]);\n",
    "y = convert(Vector{Float64}, df[!, :Divorce])\n",
    "p = WaffleDivorceProblem(y, X);\n",
    "p((β = [1.0, 2.0], σ = 1.0))"
   ],
   "metadata": {},
   "execution_count": 6
  },
  {
   "outputs": [],
   "cell_type": "markdown",
   "source": [
    "Write a function to return properly dimensioned transformation."
   ],
   "metadata": {}
  },
  {
   "outputs": [
    {
     "output_type": "execute_result",
     "data": {
      "text/plain": "problem_transformation (generic function with 1 method)"
     },
     "metadata": {},
     "execution_count": 7
    }
   ],
   "cell_type": "code",
   "source": [
    "problem_transformation(p::WaffleDivorceProblem) =\n",
    "    as((β = as(Array, size(p.X, 2)), σ = asℝ₊))"
   ],
   "metadata": {},
   "execution_count": 7
  },
  {
   "outputs": [],
   "cell_type": "markdown",
   "source": [
    "Wrap the problem with a transformation, then use Flux for the gradient."
   ],
   "metadata": {}
  },
  {
   "outputs": [],
   "cell_type": "code",
   "source": [
    "P = TransformedLogDensity(problem_transformation(p), p)\n",
    "#∇P = LogDensityRejectErrors(ADgradient(:ForwardDiff, P));\n",
    "∇P = ADgradient(:ForwardDiff, P);"
   ],
   "metadata": {},
   "execution_count": 8
  },
  {
   "outputs": [],
   "cell_type": "markdown",
   "source": [
    "Tune and sample."
   ],
   "metadata": {}
  },
  {
   "outputs": [
    {
     "name": "stdout",
     "output_type": "stream",
     "text": [
      "MCMC, adapting ϵ (75 steps)\n",
      "0.00012 s/step ...done\n",
      "MCMC, adapting ϵ (25 steps)\n",
      "0.00012 s/step ...done\n",
      "MCMC, adapting ϵ (50 steps)\n",
      "0.0001 s/step ...done\n",
      "MCMC, adapting ϵ (100 steps)\n",
      "7.0e-5 s/step ...done\n",
      "MCMC, adapting ϵ (200 steps)\n",
      "6.4e-5 s/step ...done\n",
      "MCMC, adapting ϵ (400 steps)\n",
      "5.7e-5 s/step ...done\n",
      "MCMC, adapting ϵ (50 steps)\n",
      "8.2e-5 s/step ...done\n",
      "MCMC (1000 steps)\n",
      "7.3e-5 s/step ...done\n"
     ]
    }
   ],
   "cell_type": "code",
   "source": [
    "chain, NUTS_tuned = NUTS_init_tune_mcmc(∇P, 1000);"
   ],
   "metadata": {},
   "execution_count": 9
  },
  {
   "outputs": [],
   "cell_type": "markdown",
   "source": [
    "We use the transformation to obtain the posterior from the chain."
   ],
   "metadata": {}
  },
  {
   "outputs": [
    {
     "output_type": "execute_result",
     "data": {
      "text/plain": "5-element Array{NamedTuple{(:β, :σ),Tuple{Array{Float64,1},Float64}},1}:\n (β = [9.59375013425848, -1.0331981423905392], σ = 1.2994285598557795) \n (β = [9.702926396138034, -1.1912172845075637], σ = 1.5544543470140528)\n (β = [9.38656470923341, -1.1769023020739176], σ = 1.471444632771912)  \n (β = [9.976874755564522, -1.040568899131729], σ = 1.4262328775937712) \n (β = [9.946777325218887, -1.144791962948146], σ = 1.4532568594311441) "
     },
     "metadata": {},
     "execution_count": 10
    }
   ],
   "cell_type": "code",
   "source": [
    "posterior = TransformVariables.transform.(Ref(problem_transformation(p)), get_position.(chain));\n",
    "posterior[1:5]"
   ],
   "metadata": {},
   "execution_count": 10
  },
  {
   "outputs": [],
   "cell_type": "markdown",
   "source": [
    "Extract the parameter posterior means: `β`,"
   ],
   "metadata": {}
  },
  {
   "outputs": [
    {
     "output_type": "execute_result",
     "data": {
      "text/plain": "2-element Array{Float64,1}:\n  9.688616411508637\n -1.089472387114219"
     },
     "metadata": {},
     "execution_count": 11
    }
   ],
   "cell_type": "code",
   "source": [
    "posterior_β = mean(first, posterior)"
   ],
   "metadata": {},
   "execution_count": 11
  },
  {
   "outputs": [],
   "cell_type": "markdown",
   "source": [
    "then `σ`:"
   ],
   "metadata": {}
  },
  {
   "outputs": [
    {
     "output_type": "execute_result",
     "data": {
      "text/plain": "1.4963830086576608"
     },
     "metadata": {},
     "execution_count": 12
    }
   ],
   "cell_type": "code",
   "source": [
    "posterior_σ = mean(last, posterior)"
   ],
   "metadata": {},
   "execution_count": 12
  },
  {
   "outputs": [],
   "cell_type": "markdown",
   "source": [
    "Effective sample sizes (of untransformed draws)"
   ],
   "metadata": {}
  },
  {
   "outputs": [
    {
     "output_type": "execute_result",
     "data": {
      "text/plain": "1×3 Array{Float64,2}:\n 897.262  754.749  886.673"
     },
     "metadata": {},
     "execution_count": 13
    }
   ],
   "cell_type": "code",
   "source": [
    "ess = mapslices(effective_sample_size,\n",
    "                get_position_matrix(chain); dims = 1)"
   ],
   "metadata": {},
   "execution_count": 13
  },
  {
   "outputs": [],
   "cell_type": "markdown",
   "source": [
    "NUTS-specific statistics"
   ],
   "metadata": {}
  },
  {
   "outputs": [
    {
     "output_type": "execute_result",
     "data": {
      "text/plain": "Hamiltonian Monte Carlo sample of length 1000\n  acceptance rate mean: 0.91, min/25%/median/75%/max: 0.08 0.85 0.95 0.99 1.0\n  termination: AdjacentTurn => 32% DoubledTurn => 68%\n  depth: 1 => 6% 2 => 67% 3 => 22% 4 => 5% 5 => 0%\n"
     },
     "metadata": {},
     "execution_count": 14
    }
   ],
   "cell_type": "code",
   "source": [
    "NUTS_statistics(chain)"
   ],
   "metadata": {},
   "execution_count": 14
  },
  {
   "outputs": [],
   "cell_type": "markdown",
   "source": [
    "cmdstan result"
   ],
   "metadata": {}
  },
  {
   "outputs": [],
   "cell_type": "code",
   "source": [
    "cmdstan_result = \"\n",
    "Iterations = 1:1000\n",
    "Thinning interval = 1\n",
    "Chains = 1,2,3,4\n",
    "Samples per chain = 1000\n",
    "\n",
    "Empirical Posterior Estimates:\n",
    "         Mean        SD       Naive SE       MCSE      ESS\n",
    "    a  9.6882466 0.22179190 0.0035068378 0.0031243061 1000\n",
    "   bA -1.0361742 0.21650514 0.0034232469 0.0034433245 1000\n",
    "sigma  1.5180337 0.15992781 0.0025286807 0.0026279593 1000\n",
    "\n",
    "Quantiles:\n",
    "         2.5%      25.0%     50.0%      75.0%       97.5%\n",
    "    a  9.253141  9.5393175  9.689585  9.84221500 10.11121000\n",
    "   bA -1.454571 -1.1821025 -1.033065 -0.89366925 -0.61711705\n",
    "sigma  1.241496  1.4079225  1.504790  1.61630750  1.86642750\n",
    "\";"
   ],
   "metadata": {},
   "execution_count": 15
  },
  {
   "outputs": [],
   "cell_type": "markdown",
   "source": [
    "Extract the parameter posterior means: `β`,"
   ],
   "metadata": {}
  },
  {
   "outputs": [
    {
     "output_type": "execute_result",
     "data": {
      "text/plain": "3-element Array{Float64,1}:\n  9.688616411508637 \n -1.089472387114219 \n  1.4963830086576608"
     },
     "metadata": {},
     "execution_count": 16
    }
   ],
   "cell_type": "code",
   "source": [
    "[posterior_β[1], posterior_β[2], posterior_σ]"
   ],
   "metadata": {},
   "execution_count": 16
  },
  {
   "outputs": [],
   "cell_type": "markdown",
   "source": [
    "end of m4.5d.jl#-\n",
    "*This notebook was generated using [Literate.jl](https://github.com/fredrikekre/Literate.jl).*"
   ],
   "metadata": {}
  }
 ],
 "nbformat_minor": 3,
 "metadata": {
  "language_info": {
   "file_extension": ".jl",
   "mimetype": "application/julia",
   "name": "julia",
   "version": "1.3.0-alpha.8"
  },
  "kernelspec": {
   "name": "julia-1.3",
   "display_name": "Julia 1.3.0-alpha.8",
   "language": "julia"
  }
 },
 "nbformat": 4
}
