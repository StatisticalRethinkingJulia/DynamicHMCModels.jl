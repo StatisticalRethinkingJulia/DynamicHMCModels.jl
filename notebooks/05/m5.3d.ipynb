{
 "cells": [
  {
   "outputs": [],
   "cell_type": "markdown",
   "source": [
    "# Linear regression"
   ],
   "metadata": {}
  },
  {
   "outputs": [],
   "cell_type": "code",
   "source": [
    "using DynamicHMCModels\n",
    "\n",
    "ProjDir = rel_path_d(\"..\", \"scripts\", \"05\")\n",
    "cd(ProjDir)"
   ],
   "metadata": {},
   "execution_count": 1
  },
  {
   "outputs": [],
   "cell_type": "markdown",
   "source": [
    "Import the dataset."
   ],
   "metadata": {}
  },
  {
   "outputs": [],
   "cell_type": "markdown",
   "source": [
    "### snippet 5.4"
   ],
   "metadata": {}
  },
  {
   "outputs": [
    {
     "output_type": "execute_result",
     "data": {
      "text/plain": "6×4 DataFrame\n│ Row │ Location   │ Divorce  │ Marriage_s │ MedianAgeMarriage_s │\n│     │ \u001b[90mString⍰\u001b[39m    │ \u001b[90mFloat64⍰\u001b[39m │ \u001b[90mFloat64\u001b[39m    │ \u001b[90mFloat64\u001b[39m             │\n├─────┼────────────┼──────────┼────────────┼─────────────────────┤\n│ 1   │ Alabama    │ 12.7     │ 0.0226441  │ -0.60629            │\n│ 2   │ Alaska     │ 12.5     │ 1.5498     │ -0.686699           │\n│ 3   │ Arizona    │ 10.8     │ 0.0489744  │ -0.204241           │\n│ 4   │ Arkansas   │ 13.5     │ 1.65512    │ -1.41039            │\n│ 5   │ California │ 8.0      │ -0.266989  │ 0.599857            │\n│ 6   │ Colorado   │ 11.6     │ 0.891544   │ -0.284651           │",
      "text/html": [
       "<table class=\"data-frame\"><thead><tr><th></th><th>Location</th><th>Divorce</th><th>Marriage_s</th><th>MedianAgeMarriage_s</th></tr><tr><th></th><th>String⍰</th><th>Float64⍰</th><th>Float64</th><th>Float64</th></tr></thead><tbody><p>6 rows × 4 columns</p><tr><th>1</th><td>Alabama</td><td>12.7</td><td>0.0226441</td><td>-0.60629</td></tr><tr><th>2</th><td>Alaska</td><td>12.5</td><td>1.5498</td><td>-0.686699</td></tr><tr><th>3</th><td>Arizona</td><td>10.8</td><td>0.0489744</td><td>-0.204241</td></tr><tr><th>4</th><td>Arkansas</td><td>13.5</td><td>1.65512</td><td>-1.41039</td></tr><tr><th>5</th><td>California</td><td>8.0</td><td>-0.266989</td><td>0.599857</td></tr><tr><th>6</th><td>Colorado</td><td>11.6</td><td>0.891544</td><td>-0.284651</td></tr></tbody></table>"
      ]
     },
     "metadata": {},
     "execution_count": 2
    }
   ],
   "cell_type": "code",
   "source": [
    "wd = CSV.read(rel_path(\"..\", \"data\", \"WaffleDivorce.csv\"), delim=';')\n",
    "df = convert(DataFrame, wd);\n",
    "\n",
    "mean_ma = mean(df[:Marriage])\n",
    "df[:Marriage_s] = convert(Vector{Float64},\n",
    "  (df[:Marriage]) .- mean_ma)/std(df[:Marriage]);\n",
    "\n",
    "mean_mam = mean(df[:MedianAgeMarriage])\n",
    "df[:MedianAgeMarriage_s] = convert(Vector{Float64},\n",
    "  (df[:MedianAgeMarriage]) .- mean_mam)/std(df[:MedianAgeMarriage]);\n",
    "# Show the first six rows of the dataset.\n",
    "first(df[[1, 7, 14,15]], 6)"
   ],
   "metadata": {},
   "execution_count": 2
  },
  {
   "outputs": [],
   "cell_type": "markdown",
   "source": [
    "Model ``y ∼ Xβ + ϵ``, where ``ϵ ∼ N(0, σ²)`` IID. Student prior on σ"
   ],
   "metadata": {}
  },
  {
   "outputs": [],
   "cell_type": "code",
   "source": [
    "struct m_5_3{TY <: AbstractVector, TX <: AbstractMatrix}\n",
    "    \"Observations.\"\n",
    "    y::TY\n",
    "    \"Covariates\"\n",
    "    X::TX\n",
    "end"
   ],
   "metadata": {},
   "execution_count": 3
  },
  {
   "outputs": [],
   "cell_type": "markdown",
   "source": [
    "Make the type callable with the parameters *as a single argument*."
   ],
   "metadata": {}
  },
  {
   "outputs": [],
   "cell_type": "code",
   "source": [
    "function (problem::m_5_3)(θ)\n",
    "    @unpack y, X, = problem   # extract the data\n",
    "    @unpack β, σ = θ            # works on the named tuple too\n",
    "    ll = 0.0\n",
    "    ll += logpdf(Normal(10, 10), X[1]) # a = X[1]\n",
    "    ll += logpdf(Normal(0, 1), X[2]) # b1 = X[2]\n",
    "    ll += logpdf(Normal(0, 1), X[3]) # b1 = X[3]\n",
    "    ll += logpdf(TDist(1.0), σ)\n",
    "    ll += loglikelihood(Normal(0, σ), y .- X*β)\n",
    "    ll\n",
    "end"
   ],
   "metadata": {},
   "execution_count": 4
  },
  {
   "outputs": [],
   "cell_type": "markdown",
   "source": [
    "Instantiate the model with data and inits."
   ],
   "metadata": {}
  },
  {
   "outputs": [
    {
     "output_type": "execute_result",
     "data": {
      "text/plain": "-2222.175273500088"
     },
     "metadata": {},
     "execution_count": 5
    }
   ],
   "cell_type": "code",
   "source": [
    "N = size(df, 1)\n",
    "X = hcat(ones(N), df[:Marriage_s], df[:MedianAgeMarriage_s]);\n",
    "y = convert(Vector{Float64}, df[:Divorce])\n",
    "p = m_5_3(y, X);\n",
    "p((β = [1.0, 2.0, 3.0], σ = 1.0))"
   ],
   "metadata": {},
   "execution_count": 5
  },
  {
   "outputs": [],
   "cell_type": "markdown",
   "source": [
    "Write a function to return properly dimensioned transformation."
   ],
   "metadata": {}
  },
  {
   "outputs": [],
   "cell_type": "code",
   "source": [
    "problem_transformation(p::m_5_3) =\n",
    "    as((β = as(Array, size(p.X, 2)), σ = asℝ₊))\n",
    "# Wrap the problem with a transformation, then use Flux for the gradient.\n",
    "P = TransformedLogDensity(problem_transformation(p), p)\n",
    "∇P = LogDensityRejectErrors(ADgradient(:ForwardDiff, P));"
   ],
   "metadata": {},
   "execution_count": 6
  },
  {
   "outputs": [],
   "cell_type": "markdown",
   "source": [
    "Tune and sample."
   ],
   "metadata": {}
  },
  {
   "outputs": [
    {
     "name": "stdout",
     "output_type": "stream",
     "text": [
      "MCMC, adapting ϵ (75 steps)\n",
      "6.0e-5 s/step ...done\n",
      "MCMC, adapting ϵ (25 steps)\n",
      "5.2e-5 s/step ...done\n",
      "MCMC, adapting ϵ (50 steps)\n",
      "4.8e-5 s/step ...done\n",
      "MCMC, adapting ϵ (100 steps)\n",
      "3.8e-5 s/step ...done\n",
      "MCMC, adapting ϵ (200 steps)\n",
      "0.0001 s/step ...done\n",
      "MCMC, adapting ϵ (400 steps)\n",
      "6.1e-5 s/step ...done\n",
      "MCMC, adapting ϵ (50 steps)\n",
      "3.7e-5 s/step ...done\n",
      "MCMC (1000 steps)\n",
      "5.3e-5 s/step ...done\n"
     ]
    }
   ],
   "cell_type": "code",
   "source": [
    "chain, NUTS_tuned = NUTS_init_tune_mcmc(∇P, 1000);"
   ],
   "metadata": {},
   "execution_count": 7
  },
  {
   "outputs": [],
   "cell_type": "markdown",
   "source": [
    "We use the transformation to obtain the posterior from the chain."
   ],
   "metadata": {}
  },
  {
   "outputs": [
    {
     "output_type": "execute_result",
     "data": {
      "text/plain": "5-element Array{NamedTuple{(:β, :σ),Tuple{Array{Float64,1},Float64}},1}:\n (β = [9.842876750404598, -0.47750130714278693, -1.253562800665893], σ = 1.532872472701433)    \n (β = [9.841272876431537, -0.1822172310751806, -1.3744008914457868], σ = 1.6879831653524033)   \n (β = [9.614983983318899, -0.15806247789436337, -1.3061423207076888], σ = 1.205106964179563)   \n (β = [9.606655888875911, 0.08042679247965769, -0.9488996328569097], σ = 1.466002223351912)    \n (β = [9.587273388247228, -0.0008554094726553191, -1.0296975762017264], σ = 1.4905070516836125)"
     },
     "metadata": {},
     "execution_count": 8
    }
   ],
   "cell_type": "code",
   "source": [
    "posterior = TransformVariables.transform.(Ref(problem_transformation(p)), get_position.(chain));\n",
    "posterior[1:5]"
   ],
   "metadata": {},
   "execution_count": 8
  },
  {
   "outputs": [],
   "cell_type": "markdown",
   "source": [
    "Extract the parameter posterior means: `β`,"
   ],
   "metadata": {}
  },
  {
   "outputs": [
    {
     "output_type": "execute_result",
     "data": {
      "text/plain": "3-element Array{Float64,1}:\n  9.67757658676051   \n -0.21001545294092755\n -1.2430777331392007 "
     },
     "metadata": {},
     "execution_count": 9
    }
   ],
   "cell_type": "code",
   "source": [
    "posterior_β = mean(first, posterior)"
   ],
   "metadata": {},
   "execution_count": 9
  },
  {
   "outputs": [],
   "cell_type": "markdown",
   "source": [
    "then `σ`:"
   ],
   "metadata": {}
  },
  {
   "outputs": [
    {
     "output_type": "execute_result",
     "data": {
      "text/plain": "1.4947402043360778"
     },
     "metadata": {},
     "execution_count": 10
    }
   ],
   "cell_type": "code",
   "source": [
    "posterior_σ = mean(last, posterior)"
   ],
   "metadata": {},
   "execution_count": 10
  },
  {
   "outputs": [],
   "cell_type": "markdown",
   "source": [
    "Effective sample sizes (of untransformed draws)"
   ],
   "metadata": {}
  },
  {
   "outputs": [
    {
     "output_type": "execute_result",
     "data": {
      "text/plain": "Hamiltonian Monte Carlo sample of length 1000\n  acceptance rate mean: 0.79, min/25%/median/75%/max: 0.38 0.75 0.83 0.86 0.88\n  termination: AdjacentTurn => 15% DoubledTurn => 85%\n  depth: 1 => 1% 2 => 35% 3 => 64%\n"
     },
     "metadata": {},
     "execution_count": 11
    }
   ],
   "cell_type": "code",
   "source": [
    "ess = mapslices(effective_sample_size,\n",
    "                get_position_matrix(chain); dims = 1)\n",
    "# NUTS-specific statistics\n",
    "NUTS_statistics(chain)"
   ],
   "metadata": {},
   "execution_count": 11
  },
  {
   "outputs": [],
   "cell_type": "markdown",
   "source": [
    "cmdstan result"
   ],
   "metadata": {}
  },
  {
   "outputs": [],
   "cell_type": "code",
   "source": [
    "cmdstan_result = \"\n",
    "Iterations = 1:1000\n",
    "Thinning interval = 1\n",
    "Chains = 1,2,3,4\n",
    "Samples per chain = 1000\n",
    "\n",
    "Empirical Posterior Estimates:\n",
    "          Mean        SD       Naive SE       MCSE      ESS\n",
    "    a  9.69137275 0.21507432 0.0034006235 0.0038501180 1000\n",
    "   bA -1.12184710 0.29039965 0.0045916216 0.0053055477 1000\n",
    "   bM -0.12106472 0.28705400 0.0045387223 0.0051444688 1000\n",
    "sigma  1.52326545 0.16272599 0.0025729239 0.0034436330 1000\n",
    "\n",
    "Quantiles:\n",
    "         2.5%       25.0%      50.0%      75.0%       97.5%\n",
    "    a  9.2694878  9.5497650  9.6906850  9.83227750 10.11643500\n",
    "   bA -1.6852295 -1.3167700 -1.1254650 -0.92889225 -0.53389157\n",
    "   bM -0.6889247 -0.3151695 -0.1231065  0.07218513  0.45527243\n",
    "sigma  1.2421182  1.4125950  1.5107700  1.61579000  1.89891925\n",
    "\";"
   ],
   "metadata": {},
   "execution_count": 12
  },
  {
   "outputs": [],
   "cell_type": "markdown",
   "source": [
    "Extract the parameter posterior means: `[β, σ]`,"
   ],
   "metadata": {}
  },
  {
   "outputs": [
    {
     "output_type": "execute_result",
     "data": {
      "text/plain": "2-element Array{Any,1}:\n  [9.67757658676051, -0.21001545294092755, -1.2430777331392007]\n 1.4947402043360778                                            "
     },
     "metadata": {},
     "execution_count": 13
    }
   ],
   "cell_type": "code",
   "source": [
    "[posterior_β, posterior_σ]"
   ],
   "metadata": {},
   "execution_count": 13
  },
  {
   "outputs": [],
   "cell_type": "markdown",
   "source": [
    "end of m4.5d.jl#-\n",
    "*This notebook was generated using [Literate.jl](https://github.com/fredrikekre/Literate.jl).*"
   ],
   "metadata": {}
  }
 ],
 "nbformat_minor": 3,
 "metadata": {
  "language_info": {
   "file_extension": ".jl",
   "mimetype": "application/julia",
   "name": "julia",
   "version": "1.2.0-DEV.450"
  },
  "kernelspec": {
   "name": "julia-1.2",
   "display_name": "Julia 1.2.0-DEV.450",
   "language": "julia"
  }
 },
 "nbformat": 4
}
