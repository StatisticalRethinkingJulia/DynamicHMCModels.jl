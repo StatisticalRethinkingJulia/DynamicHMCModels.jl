{
 "cells": [
  {
   "outputs": [],
   "cell_type": "markdown",
   "source": [
    "Load Julia packages (libraries) needed  for the snippets in chapter 0"
   ],
   "metadata": {}
  },
  {
   "outputs": [],
   "cell_type": "code",
   "source": [
    "using DynamicHMCModels"
   ],
   "metadata": {},
   "execution_count": 1
  },
  {
   "outputs": [],
   "cell_type": "markdown",
   "source": [
    "CmdStan uses a tmp directory to store the output of cmdstan"
   ],
   "metadata": {}
  },
  {
   "outputs": [],
   "cell_type": "code",
   "source": [
    "ProjDir = rel_path_d(\"..\", \"scripts\", \"05\")\n",
    "cd(ProjDir)"
   ],
   "metadata": {},
   "execution_count": 2
  },
  {
   "outputs": [],
   "cell_type": "markdown",
   "source": [
    "Read the milk data"
   ],
   "metadata": {}
  },
  {
   "outputs": [
    {
     "output_type": "execute_result",
     "data": {
      "text/plain": "17-element Array{Float64,1}:\n  0.6678293725756554\n  1.6582280766035324\n  1.6808279085207734\n  0.9202827531436925\n -0.3856624808119846\n -2.120263536200091 \n -0.7550225842780328\n -1.1394342831883648\n  0.4382549309311553\n  1.1755733298042381\n  2.509599262378372 \n  1.6808279085207734\n  3.5689691574413787\n  4.374876130645041 \n  3.70721041079866  \n  3.4998353515591547\n  4.006423680849631 "
     },
     "metadata": {},
     "execution_count": 3
    }
   ],
   "cell_type": "code",
   "source": [
    "wd = CSV.read(rel_path(\"..\", \"data\", \"milk.csv\"), delim=';')\n",
    "df = convert(DataFrame, wd);\n",
    "dcc = filter(row -> !(row[:neocortex_perc] == \"NA\"), df)\n",
    "dcc[!, :kcal_per_g] = convert(Vector{Float64}, dcc[!, :kcal_per_g])\n",
    "dcc[!, :log_mass] = log.(convert(Vector{Float64}, dcc[!, :mass]))"
   ],
   "metadata": {},
   "execution_count": 3
  },
  {
   "outputs": [],
   "cell_type": "markdown",
   "source": [
    "Show first 5 rows"
   ],
   "metadata": {}
  },
  {
   "outputs": [
    {
     "output_type": "execute_result",
     "data": {
      "text/plain": "5×3 DataFrame\n│ Row │ kcal_per_g │ mass    │ log_mass  │\n│     │ \u001b[90mFloat64\u001b[39m    │ \u001b[90mFloat64\u001b[39m │ \u001b[90mFloat64\u001b[39m   │\n├─────┼────────────┼─────────┼───────────┤\n│ 1   │ 0.49       │ 1.95    │ 0.667829  │\n│ 2   │ 0.47       │ 5.25    │ 1.65823   │\n│ 3   │ 0.56       │ 5.37    │ 1.68083   │\n│ 4   │ 0.89       │ 2.51    │ 0.920283  │\n│ 5   │ 0.92       │ 0.68    │ -0.385662 │",
      "text/html": [
       "<table class=\"data-frame\"><thead><tr><th></th><th>kcal_per_g</th><th>mass</th><th>log_mass</th></tr><tr><th></th><th>Float64</th><th>Float64</th><th>Float64</th></tr></thead><tbody><p>5 rows × 3 columns</p><tr><th>1</th><td>0.49</td><td>1.95</td><td>0.667829</td></tr><tr><th>2</th><td>0.47</td><td>5.25</td><td>1.65823</td></tr><tr><th>3</th><td>0.56</td><td>5.37</td><td>1.68083</td></tr><tr><th>4</th><td>0.89</td><td>2.51</td><td>0.920283</td></tr><tr><th>5</th><td>0.92</td><td>0.68</td><td>-0.385662</td></tr></tbody></table>"
      ]
     },
     "metadata": {},
     "execution_count": 4
    }
   ],
   "cell_type": "code",
   "source": [
    "first(dcc[!, [3, 7, 9]], 5)"
   ],
   "metadata": {},
   "execution_count": 4
  },
  {
   "outputs": [],
   "cell_type": "markdown",
   "source": [
    "Define the model struct"
   ],
   "metadata": {}
  },
  {
   "outputs": [],
   "cell_type": "code",
   "source": [
    "struct m_5_6{TY <: AbstractVector, TX <: AbstractMatrix}\n",
    "    \"Observations.\"\n",
    "    y::TY\n",
    "    \"Covariates\"\n",
    "    X::TX\n",
    "end"
   ],
   "metadata": {},
   "execution_count": 5
  },
  {
   "outputs": [],
   "cell_type": "markdown",
   "source": [
    "Make the type callable with the parameters *as a single argument*."
   ],
   "metadata": {}
  },
  {
   "outputs": [],
   "cell_type": "code",
   "source": [
    "function (problem::m_5_6)(θ)\n",
    "    @unpack y, X, = problem   # extract the data\n",
    "    @unpack β, σ = θ            # works on the named tuple too\n",
    "    ll = 0.0\n",
    "    ll += logpdf(Normal(0, 100), X[1]) # a = X[1]\n",
    "    ll += logpdf(Normal(0, 1), X[2]) # b1 = X[2]\n",
    "    ll += logpdf(TDist(1.0), σ)\n",
    "    ll += loglikelihood(Normal(0, σ), y .- X*β)\n",
    "    ll\n",
    "end"
   ],
   "metadata": {},
   "execution_count": 6
  },
  {
   "outputs": [],
   "cell_type": "markdown",
   "source": [
    "Instantiate the model with data and inits."
   ],
   "metadata": {}
  },
  {
   "outputs": [
    {
     "output_type": "execute_result",
     "data": {
      "text/plain": "-242.8761844035513"
     },
     "metadata": {},
     "execution_count": 7
    }
   ],
   "cell_type": "code",
   "source": [
    "N = size(dcc, 1)\n",
    "X = hcat(ones(N), dcc[!, :log_mass]);\n",
    "y = dcc[!, :kcal_per_g]\n",
    "p = m_5_6(y, X);\n",
    "p((β = [1.0, 2.0], σ = 1.0))"
   ],
   "metadata": {},
   "execution_count": 7
  },
  {
   "outputs": [],
   "cell_type": "markdown",
   "source": [
    "Write a function to return properly dimensioned transformation."
   ],
   "metadata": {}
  },
  {
   "outputs": [
    {
     "output_type": "execute_result",
     "data": {
      "text/plain": "problem_transformation (generic function with 1 method)"
     },
     "metadata": {},
     "execution_count": 8
    }
   ],
   "cell_type": "code",
   "source": [
    "problem_transformation(p::m_5_6) =\n",
    "    as((β = as(Array, size(p.X, 2)), σ = asℝ₊))"
   ],
   "metadata": {},
   "execution_count": 8
  },
  {
   "outputs": [],
   "cell_type": "markdown",
   "source": [
    "Wrap the problem with a transformation, then use Flux for the gradient."
   ],
   "metadata": {}
  },
  {
   "outputs": [],
   "cell_type": "code",
   "source": [
    "P = TransformedLogDensity(problem_transformation(p), p)\n",
    "∇P = ADgradient(:ForwardDiff, P);"
   ],
   "metadata": {},
   "execution_count": 9
  },
  {
   "outputs": [],
   "cell_type": "markdown",
   "source": [
    "Tune and sample."
   ],
   "metadata": {}
  },
  {
   "outputs": [
    {
     "name": "stdout",
     "output_type": "stream",
     "text": [
      "MCMC, adapting ϵ (75 steps)\n",
      "0.00015 s/step ...done\n",
      "MCMC, adapting ϵ (25 steps)\n",
      "0.00022 s/step ...done\n",
      "MCMC, adapting ϵ (50 steps)\n",
      "0.00013 s/step ...done\n",
      "MCMC, adapting ϵ (100 steps)\n",
      "7.7e-5 s/step ...done\n",
      "MCMC, adapting ϵ (200 steps)\n",
      "5.9e-5 s/step ...done\n",
      "MCMC, adapting ϵ (400 steps)\n",
      "6.0e-5 s/step ...done\n",
      "MCMC, adapting ϵ (50 steps)\n",
      "7.7e-5 s/step ...done\n",
      "MCMC (1000 steps)\n",
      "6.2e-5 s/step ...done\n"
     ]
    }
   ],
   "cell_type": "code",
   "source": [
    "chain, NUTS_tuned = NUTS_init_tune_mcmc(∇P, 1000);"
   ],
   "metadata": {},
   "execution_count": 10
  },
  {
   "outputs": [],
   "cell_type": "markdown",
   "source": [
    "We use the transformation to obtain the posterior from the chain."
   ],
   "metadata": {}
  },
  {
   "outputs": [
    {
     "output_type": "execute_result",
     "data": {
      "text/plain": "5-element Array{NamedTuple{(:β, :σ),Tuple{Array{Float64,1},Float64}},1}:\n (β = [0.6950251813278897, -0.03476281524832253], σ = 0.18917053466871803) \n (β = [0.6880340891303538, -0.03377020168150601], σ = 0.1932431643045061)  \n (β = [0.7069314687339319, -0.024630846402657815], σ = 0.19090219630256974)\n (β = [0.7341893457118551, -0.04599714149173742], σ = 0.16493656661375128) \n (β = [0.6067585049369891, 0.003918855247542369], σ = 0.18409919614484396) "
     },
     "metadata": {},
     "execution_count": 11
    }
   ],
   "cell_type": "code",
   "source": [
    "posterior = TransformVariables.transform.(Ref(problem_transformation(p)), get_position.(chain));\n",
    "posterior[1:5]"
   ],
   "metadata": {},
   "execution_count": 11
  },
  {
   "outputs": [],
   "cell_type": "markdown",
   "source": [
    "Extract the parameter posterior means: `β`,"
   ],
   "metadata": {}
  },
  {
   "outputs": [
    {
     "output_type": "execute_result",
     "data": {
      "text/plain": "2-element Array{Float64,1}:\n  0.7086075814021696 \n -0.03309813280869631"
     },
     "metadata": {},
     "execution_count": 12
    }
   ],
   "cell_type": "code",
   "source": [
    "posterior_β = mean(first, posterior)"
   ],
   "metadata": {},
   "execution_count": 12
  },
  {
   "outputs": [],
   "cell_type": "markdown",
   "source": [
    "then `σ`:"
   ],
   "metadata": {}
  },
  {
   "outputs": [
    {
     "output_type": "execute_result",
     "data": {
      "text/plain": "0.18314615001131976"
     },
     "metadata": {},
     "execution_count": 13
    }
   ],
   "cell_type": "code",
   "source": [
    "posterior_σ = mean(last, posterior)"
   ],
   "metadata": {},
   "execution_count": 13
  },
  {
   "outputs": [],
   "cell_type": "markdown",
   "source": [
    "Effective sample sizes (of untransformed draws)"
   ],
   "metadata": {}
  },
  {
   "outputs": [
    {
     "output_type": "execute_result",
     "data": {
      "text/plain": "1×3 Array{Float64,2}:\n 761.723  732.197  561.086"
     },
     "metadata": {},
     "execution_count": 14
    }
   ],
   "cell_type": "code",
   "source": [
    "ess = mapslices(effective_sample_size,\n",
    "                get_position_matrix(chain); dims = 1)"
   ],
   "metadata": {},
   "execution_count": 14
  },
  {
   "outputs": [],
   "cell_type": "markdown",
   "source": [
    "NUTS-specific statistics"
   ],
   "metadata": {}
  },
  {
   "outputs": [
    {
     "output_type": "execute_result",
     "data": {
      "text/plain": "Hamiltonian Monte Carlo sample of length 1000\n  acceptance rate mean: 0.92, min/25%/median/75%/max: 0.19 0.88 0.96 0.99 1.0\n  termination: AdjacentTurn => 18% DoubledTurn => 82%\n  depth: 1 => 5% 2 => 49% 3 => 44% 4 => 1%\n"
     },
     "metadata": {},
     "execution_count": 15
    }
   ],
   "cell_type": "code",
   "source": [
    "NUTS_statistics(chain)"
   ],
   "metadata": {},
   "execution_count": 15
  },
  {
   "outputs": [],
   "cell_type": "markdown",
   "source": [
    "cmdstan result"
   ],
   "metadata": {}
  },
  {
   "outputs": [],
   "cell_type": "code",
   "source": [
    "cmdstan_result = \"\n",
    "Iterations = 1:1000\n",
    "Thinning interval = 1\n",
    "Chains = 1,2,3,4\n",
    "Samples per chain = 1000\n",
    "\n",
    "Empirical Posterior Estimates:\n",
    "          Mean         SD        Naive SE       MCSE      ESS\n",
    "    a  0.70472876 0.057040655 0.00090189195 0.0011398893 1000\n",
    "   bm -0.03150330 0.023642759 0.00037382484 0.0004712342 1000\n",
    "sigma  0.18378372 0.039212805 0.00062000888 0.0011395979 1000\n",
    "\n",
    "Quantiles:\n",
    "          2.5%       25.0%       50.0%        75.0%       97.5%\n",
    "    a  0.59112968  0.66848775  0.70444950  0.741410500 0.81915225\n",
    "   bm -0.07729257 -0.04708425 -0.03104865 -0.015942925 0.01424901\n",
    "sigma  0.12638780  0.15605950  0.17800600  0.204319250 0.27993590\n",
    "\";"
   ],
   "metadata": {},
   "execution_count": 16
  },
  {
   "outputs": [],
   "cell_type": "markdown",
   "source": [
    "Extract the parameter posterior means: `[β, σ]`,"
   ],
   "metadata": {}
  },
  {
   "outputs": [
    {
     "output_type": "execute_result",
     "data": {
      "text/plain": "2-element Array{Any,1}:\n  [0.7086075814021696, -0.03309813280869631]\n 0.18314615001131976                        "
     },
     "metadata": {},
     "execution_count": 17
    }
   ],
   "cell_type": "code",
   "source": [
    "[posterior_β, posterior_σ]"
   ],
   "metadata": {},
   "execution_count": 17
  },
  {
   "outputs": [],
   "cell_type": "markdown",
   "source": [
    "End of `05/5.6d.jl`"
   ],
   "metadata": {}
  },
  {
   "outputs": [],
   "cell_type": "markdown",
   "source": [
    "*This notebook was generated using [Literate.jl](https://github.com/fredrikekre/Literate.jl).*"
   ],
   "metadata": {}
  }
 ],
 "nbformat_minor": 3,
 "metadata": {
  "language_info": {
   "file_extension": ".jl",
   "mimetype": "application/julia",
   "name": "julia",
   "version": "1.3.0-alpha.8"
  },
  "kernelspec": {
   "name": "julia-1.3",
   "display_name": "Julia 1.3.0-alpha.8",
   "language": "julia"
  }
 },
 "nbformat": 4
}
