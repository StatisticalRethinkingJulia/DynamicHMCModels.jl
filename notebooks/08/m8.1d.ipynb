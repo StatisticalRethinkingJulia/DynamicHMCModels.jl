{
 "cells": [
  {
   "outputs": [],
   "cell_type": "markdown",
   "source": [
    "Load Julia packages (libraries) needed  for the snippets in chapter 0"
   ],
   "metadata": {}
  },
  {
   "outputs": [],
   "cell_type": "code",
   "source": [
    "using DynamicHMCModels"
   ],
   "metadata": {},
   "execution_count": 1
  },
  {
   "outputs": [],
   "cell_type": "markdown",
   "source": [
    "CmdStan uses a tmp directory to store the output of cmdstan"
   ],
   "metadata": {}
  },
  {
   "outputs": [],
   "cell_type": "code",
   "source": [
    "ProjDir = rel_path_d(\"..\", \"scripts\", \"08\")\n",
    "cd(ProjDir)"
   ],
   "metadata": {},
   "execution_count": 2
  },
  {
   "outputs": [],
   "cell_type": "markdown",
   "source": [
    "### snippet 5.1"
   ],
   "metadata": {}
  },
  {
   "outputs": [
    {
     "output_type": "execute_result",
     "data": {
      "text/plain": "170-element Array{Float64,1}:\n 1.0\n 0.0\n 0.0\n 0.0\n 0.0\n 0.0\n 0.0\n 0.0\n 0.0\n 1.0\n ⋮  \n 0.0\n 0.0\n 0.0\n 0.0\n 0.0\n 0.0\n 1.0\n 1.0\n 1.0"
     },
     "metadata": {},
     "execution_count": 3
    }
   ],
   "cell_type": "code",
   "source": [
    "d = CSV.read(rel_path(\"..\", \"data\", \"rugged.csv\"), delim=';');\n",
    "df = convert(DataFrame, d);\n",
    "\n",
    "dcc = filter(row -> !(ismissing(row[:rgdppc_2000])), df)\n",
    "dcc[:log_gdp] = log.(dcc[:rgdppc_2000])\n",
    "dcc[:cont_africa] = Array{Float64}(convert(Array{Int}, dcc[:cont_africa]))"
   ],
   "metadata": {},
   "execution_count": 3
  },
  {
   "outputs": [],
   "cell_type": "markdown",
   "source": [
    "First 5 rows with data"
   ],
   "metadata": {}
  },
  {
   "outputs": [],
   "cell_type": "code",
   "source": [
    "first(dcc[[:rugged, :cont_africa, :log_gdp]], 5)\n",
    "\n",
    "struct m_8_1_model{TY <: AbstractVector, TX <: AbstractMatrix}\n",
    "    \"Observations.\"\n",
    "    y::TY\n",
    "    \"Covariates\"\n",
    "    X::TX\n",
    "end"
   ],
   "metadata": {},
   "execution_count": 4
  },
  {
   "outputs": [],
   "cell_type": "markdown",
   "source": [
    "Make the type callable with the parameters *as a single argument*."
   ],
   "metadata": {}
  },
  {
   "outputs": [],
   "cell_type": "code",
   "source": [
    "function (problem::m_8_1_model)(θ)\n",
    "    @unpack y, X, = problem   # extract the data\n",
    "    @unpack β, σ = θ            # works on the named tuple too\n",
    "    ll = 0.0\n",
    "    ll += logpdf(Normal(0, 100), X[1]) # a = X[1]\n",
    "    ll += logpdf(Normal(0, 10), X[2]) # bR = X[2]\n",
    "    ll += logpdf(Normal(0, 10), X[3]) # bA = X[3]\n",
    "    ll += logpdf(Normal(0, 10), X[4]) # bAR = X[4]\n",
    "    ll += logpdf(TDist(1.0), σ)\n",
    "    ll += loglikelihood(Normal(0, σ), y .- X*β)\n",
    "    ll\n",
    "end"
   ],
   "metadata": {},
   "execution_count": 5
  },
  {
   "outputs": [],
   "cell_type": "markdown",
   "source": [
    "Instantiate the model with data and inits."
   ],
   "metadata": {}
  },
  {
   "outputs": [
    {
     "output_type": "execute_result",
     "data": {
      "text/plain": "-2770.7279383721293"
     },
     "metadata": {},
     "execution_count": 6
    }
   ],
   "cell_type": "code",
   "source": [
    "N = size(dcc, 1)\n",
    "X = hcat(ones(N), dcc[:rugged], dcc[:cont_africa], dcc[:rugged].*dcc[:cont_africa]);\n",
    "y = convert(Vector{Float64}, dcc[:log_gdp])\n",
    "p = m_8_1_model(y, X);\n",
    "p((β = [1.0, 2.0, 1.0, 2.0], σ = 1.0))"
   ],
   "metadata": {},
   "execution_count": 6
  },
  {
   "outputs": [],
   "cell_type": "markdown",
   "source": [
    "Write a function to return properly dimensioned transformation."
   ],
   "metadata": {}
  },
  {
   "outputs": [],
   "cell_type": "code",
   "source": [
    "problem_transformation(p::m_8_1_model) =\n",
    "    as((β = as(Array, size(p.X, 2)), σ = asℝ₊))\n",
    "# Wrap the problem with a transformation, then use Flux for the gradient.\n",
    "P = TransformedLogDensity(problem_transformation(p), p)\n",
    "∇P = LogDensityRejectErrors(ADgradient(:ForwardDiff, P));"
   ],
   "metadata": {},
   "execution_count": 7
  },
  {
   "outputs": [],
   "cell_type": "markdown",
   "source": [
    "Tune and sample."
   ],
   "metadata": {}
  },
  {
   "outputs": [
    {
     "name": "stdout",
     "output_type": "stream",
     "text": [
      "MCMC, adapting ϵ (75 steps)\n",
      "0.0013 s/step ...done\n",
      "MCMC, adapting ϵ (25 steps)\n",
      "0.00032 s/step ...done\n",
      "MCMC, adapting ϵ (50 steps)\n",
      "0.0017 s/step ...done\n",
      "MCMC, adapting ϵ (100 steps)\n",
      "0.0003 s/step ...done\n",
      "MCMC, adapting ϵ (200 steps)\n",
      "0.0002 s/step ...done\n",
      "MCMC, adapting ϵ (400 steps)\n",
      "0.00017 s/step ...done\n",
      "MCMC, adapting ϵ (50 steps)\n",
      "0.00019 s/step ...done\n",
      "MCMC (1000 steps)\n",
      "0.00018 s/step ...done\n"
     ]
    }
   ],
   "cell_type": "code",
   "source": [
    "chain, NUTS_tuned = NUTS_init_tune_mcmc(∇P, 1000);"
   ],
   "metadata": {},
   "execution_count": 8
  },
  {
   "outputs": [],
   "cell_type": "markdown",
   "source": [
    "We use the transformation to obtain the posterior from the chain."
   ],
   "metadata": {}
  },
  {
   "outputs": [
    {
     "output_type": "execute_result",
     "data": {
      "text/plain": "5-element Array{NamedTuple{(:β, :σ),Tuple{Array{Float64,1},Float64}},1}:\n (β = [9.2223, -0.111303, -1.73711, 0.384735], σ = 0.9886448021864033) \n (β = [9.32238, -0.379311, -2.14746, 0.505213], σ = 1.0078651075182827)\n (β = [9.10477, -0.124076, -1.62229, 0.370841], σ = 0.9438305154166617)\n (β = [9.31178, -0.234901, -1.78373, 0.194006], σ = 0.8419335836555901)\n (β = [9.30631, -0.277201, -1.91885, 0.307418], σ = 0.8823550093714587)"
     },
     "metadata": {},
     "execution_count": 9
    }
   ],
   "cell_type": "code",
   "source": [
    "posterior = TransformVariables.transform.(Ref(problem_transformation(p)), get_position.(chain));\n",
    "posterior[1:5]"
   ],
   "metadata": {},
   "execution_count": 9
  },
  {
   "outputs": [],
   "cell_type": "markdown",
   "source": [
    "Extract the parameter posterior means: `β`,"
   ],
   "metadata": {}
  },
  {
   "outputs": [
    {
     "output_type": "execute_result",
     "data": {
      "text/plain": "4-element Array{Float64,1}:\n  9.22808642489928   \n -0.20584214432917386\n -1.9483033599751907 \n  0.39952081712342563"
     },
     "metadata": {},
     "execution_count": 10
    }
   ],
   "cell_type": "code",
   "source": [
    "posterior_β = mean(first, posterior)"
   ],
   "metadata": {},
   "execution_count": 10
  },
  {
   "outputs": [],
   "cell_type": "markdown",
   "source": [
    "then `σ`:"
   ],
   "metadata": {}
  },
  {
   "outputs": [
    {
     "output_type": "execute_result",
     "data": {
      "text/plain": "0.9466970877152946"
     },
     "metadata": {},
     "execution_count": 11
    }
   ],
   "cell_type": "code",
   "source": [
    "posterior_σ = mean(last, posterior)"
   ],
   "metadata": {},
   "execution_count": 11
  },
  {
   "outputs": [],
   "cell_type": "markdown",
   "source": [
    "Effective sample sizes (of untransformed draws)"
   ],
   "metadata": {}
  },
  {
   "outputs": [
    {
     "output_type": "execute_result",
     "data": {
      "text/plain": "Hamiltonian Monte Carlo sample of length 1000\n  acceptance rate mean: 0.92, min/25%/median/75%/max: 0.4 0.89 0.95 0.99 1.0\n  termination: AdjacentTurn => 13% DoubledTurn => 87%\n  depth: 1 => 0% 2 => 36% 3 => 64%\n"
     },
     "metadata": {},
     "execution_count": 12
    }
   ],
   "cell_type": "code",
   "source": [
    "ess = mapslices(effective_sample_size,\n",
    "                get_position_matrix(chain); dims = 1)\n",
    "# NUTS-specific statistics\n",
    "NUTS_statistics(chain)"
   ],
   "metadata": {},
   "execution_count": 12
  },
  {
   "outputs": [],
   "cell_type": "markdown",
   "source": [
    "Result rethinking"
   ],
   "metadata": {}
  },
  {
   "outputs": [
    {
     "output_type": "execute_result",
     "data": {
      "text/plain": "\"\\n       mean   sd  5.5% 94.5% n_eff Rhat\\na      9.22 0.14  9.00  9.46   282    1\\nbR    -0.21 0.08 -0.33 -0.08   275    1\\nbA    -1.94 0.24 -2.33 -1.59   268    1\\nbAR    0.40 0.14  0.18  0.62   271    1\\nsigma  0.96 0.05  0.87  1.04   339    1\\n\""
     },
     "metadata": {},
     "execution_count": 13
    }
   ],
   "cell_type": "code",
   "source": [
    "rethinking = \"\n",
    "       mean   sd  5.5% 94.5% n_eff Rhat\n",
    "a      9.22 0.14  9.00  9.46   282    1\n",
    "bR    -0.21 0.08 -0.33 -0.08   275    1\n",
    "bA    -1.94 0.24 -2.33 -1.59   268    1\n",
    "bAR    0.40 0.14  0.18  0.62   271    1\n",
    "sigma  0.96 0.05  0.87  1.04   339    1\n",
    "\""
   ],
   "metadata": {},
   "execution_count": 13
  },
  {
   "outputs": [],
   "cell_type": "markdown",
   "source": [
    "Summary"
   ],
   "metadata": {}
  },
  {
   "outputs": [
    {
     "output_type": "execute_result",
     "data": {
      "text/plain": "2-element Array{Any,1}:\n  [9.22809, -0.205842, -1.9483, 0.399521]\n 0.9466970877152946                      "
     },
     "metadata": {},
     "execution_count": 14
    }
   ],
   "cell_type": "code",
   "source": [
    "[posterior_β, posterior_σ]"
   ],
   "metadata": {},
   "execution_count": 14
  },
  {
   "outputs": [],
   "cell_type": "markdown",
   "source": [
    "End of `08/m8.1s.jl`"
   ],
   "metadata": {}
  },
  {
   "outputs": [],
   "cell_type": "markdown",
   "source": [
    "*This notebook was generated using [Literate.jl](https://github.com/fredrikekre/Literate.jl).*"
   ],
   "metadata": {}
  }
 ],
 "nbformat_minor": 3,
 "metadata": {
  "language_info": {
   "file_extension": ".jl",
   "mimetype": "application/julia",
   "name": "julia",
   "version": "1.1.0"
  },
  "kernelspec": {
   "name": "julia-1.1",
   "display_name": "Julia 1.1.0",
   "language": "julia"
  }
 },
 "nbformat": 4
}
