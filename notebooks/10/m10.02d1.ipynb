{
 "cells": [
  {
   "outputs": [],
   "cell_type": "markdown",
   "source": [
    "Load Julia packages (libraries) needed  for the snippets in chapter 0"
   ],
   "metadata": {}
  },
  {
   "outputs": [],
   "cell_type": "code",
   "source": [
    "using DynamicHMCModels, Optim"
   ],
   "metadata": {},
   "execution_count": 1
  },
  {
   "outputs": [],
   "cell_type": "markdown",
   "source": [
    "### snippet 10.4"
   ],
   "metadata": {}
  },
  {
   "outputs": [],
   "cell_type": "code",
   "source": [
    "d = CSV.read(rel_path(\"..\", \"data\", \"chimpanzees.csv\"), delim=';');\n",
    "df = convert(DataFrame, d);\n",
    "df[:pulled_left] = convert(Array{Int64}, df[:pulled_left])\n",
    "df[:prosoc_left] = convert(Array{Int64}, df[:prosoc_left])\n",
    "first(df, 5)\n",
    "\n",
    "struct m_10_02d{TY <: AbstractVector, TX <: AbstractMatrix}\n",
    "    \"Observations.\"\n",
    "    y::TY\n",
    "    \"Covariates\"\n",
    "    X::TX\n",
    "    \"Number of observations\"\n",
    "    N::Int\n",
    "end"
   ],
   "metadata": {},
   "execution_count": 2
  },
  {
   "outputs": [],
   "cell_type": "markdown",
   "source": [
    "Make the type callable with the parameters *as a single argument*."
   ],
   "metadata": {}
  },
  {
   "outputs": [],
   "cell_type": "code",
   "source": [
    "function (problem::m_10_02d)(θ)\n",
    "    @unpack y, X, N = problem   # extract the data\n",
    "    @unpack β = trans(θ)  # works on the named tuple too\n",
    "    ll = 0.0\n",
    "    ll += sum(logpdf.(Normal(0, 10), β)) # a & bp\n",
    "    ll += sum([loglikelihood(Binomial(1, logistic(dot(X[i, :], β))), [y[i]]) for i in 1:N])\n",
    "    ll\n",
    "end"
   ],
   "metadata": {},
   "execution_count": 3
  },
  {
   "outputs": [],
   "cell_type": "markdown",
   "source": [
    "Instantiate the model with data and inits."
   ],
   "metadata": {}
  },
  {
   "outputs": [],
   "cell_type": "code",
   "source": [
    "N = size(df, 1)\n",
    "X = hcat(ones(Int64, N), df[:prosoc_left]);\n",
    "y = df[:pulled_left]\n",
    "p = m_10_02d(y, X, N);"
   ],
   "metadata": {},
   "execution_count": 4
  },
  {
   "outputs": [],
   "cell_type": "markdown",
   "source": [
    "Function convert from a single vector of parms to parks NamedTuple"
   ],
   "metadata": {}
  },
  {
   "outputs": [
    {
     "output_type": "execute_result",
     "data": {
      "text/plain": "-371.672843317438"
     },
     "metadata": {},
     "execution_count": 5
    }
   ],
   "cell_type": "code",
   "source": [
    "trans = as( (β = as(Array, size(p.X, 2)), ));\n",
    "\n",
    "γ =  (β = [0.5, 1.0],)\n",
    "θ = inverse(trans, γ)\n",
    "p(θ)"
   ],
   "metadata": {},
   "execution_count": 5
  },
  {
   "outputs": [],
   "cell_type": "markdown",
   "source": [
    "Maximum_a_postrior"
   ],
   "metadata": {}
  },
  {
   "outputs": [
    {
     "output_type": "execute_result",
     "data": {
      "text/plain": "Results of Optimization Algorithm\n * Algorithm: Fminbox with Gradient Descent\n * Starting Point: [0.5,1.0]\n * Minimizer: [0.047708983775103415,0.5573080392803071]\n * Minimum: 3.446925e+02\n * Iterations: 4\n * Convergence: true\n   * |x - x'| ≤ 0.0e+00: false \n     |x - x'| = 2.99e-10 \n   * |f(x) - f(x')| ≤ 0.0e+00 |f(x)|: true\n     |f(x) - f(x')| = 0.00e+00 |f(x)|\n   * |g(x)| ≤ 1.0e-08: true \n     |g(x)| = 9.39e-09 \n   * Stopped by an increasing objective: true\n   * Reached Maximum Number of Iterations: false\n * Objective Calls: 532\n * Gradient Calls: 532"
     },
     "metadata": {},
     "execution_count": 6
    }
   ],
   "cell_type": "code",
   "source": [
    "x0 = θ;\n",
    "lower = [-1.0, -1.0];\n",
    "upper = [1.0, 2.0];\n",
    "ll(x) = -p(x)\n",
    "\n",
    "inner_optimizer = GradientDescent()\n",
    "\n",
    "optimize(ll, lower, upper, x0, Fminbox(inner_optimizer))"
   ],
   "metadata": {},
   "execution_count": 6
  },
  {
   "outputs": [],
   "cell_type": "markdown",
   "source": [
    "Write a function to return properly dimensioned transformation."
   ],
   "metadata": {}
  },
  {
   "outputs": [],
   "cell_type": "code",
   "source": [
    "problem_transformation(p::m_10_02d) =\n",
    "#    as( (β = as(Array, size(p.X, 2)), ) )\n",
    "      as( Vector, size(p.X, 2))\n",
    "# Wrap the problem with a transformation, then use Flux for the gradient.\n",
    "P = TransformedLogDensity(problem_transformation(p), p)\n",
    "∇P = LogDensityRejectErrors(ADgradient(:ForwardDiff, P));"
   ],
   "metadata": {},
   "execution_count": 7
  },
  {
   "outputs": [],
   "cell_type": "markdown",
   "source": [
    "Tune and sample."
   ],
   "metadata": {}
  },
  {
   "outputs": [
    {
     "name": "stdout",
     "output_type": "stream",
     "text": [
      "MCMC, adapting ϵ (75 steps)\n",
      "0.0016 s/step ...done\n",
      "MCMC, adapting ϵ (25 steps)\n",
      "0.0014 s/step ...done\n",
      "MCMC, adapting ϵ (50 steps)\n",
      "0.0015 s/step ...done\n",
      "MCMC, adapting ϵ (100 steps)\n",
      "0.0011 s/step ...done\n",
      "MCMC, adapting ϵ (200 steps)\n",
      "0.0013 s/step ...done\n",
      "MCMC, adapting ϵ (400 steps)\n",
      "0.0011 s/step ...done\n",
      "MCMC, adapting ϵ (50 steps)\n",
      "0.0012 s/step ...done\n",
      "MCMC (1000 steps)\n",
      "step 651 (of 1000), 0.0015 s/step\n",
      "0.0015 s/step ...done\n"
     ]
    }
   ],
   "cell_type": "code",
   "source": [
    "chain, NUTS_tuned = NUTS_init_tune_mcmc(∇P, 1000);"
   ],
   "metadata": {},
   "execution_count": 8
  },
  {
   "outputs": [],
   "cell_type": "markdown",
   "source": [
    "We use the transformation to obtain the posterior from the chain."
   ],
   "metadata": {}
  },
  {
   "outputs": [
    {
     "output_type": "execute_result",
     "data": {
      "text/plain": "5-element Array{Array{Float64,1},1}:\n [0.03809861736037648, 0.5960890823660199] \n [-0.12344249657560166, 0.7890984374230763]\n [0.2846063515332529, 0.4833114228872277]  \n [0.2195370212779635, 0.4386310614634876]  \n [-0.19108191849375394, 0.9732010870309131]"
     },
     "metadata": {},
     "execution_count": 9
    }
   ],
   "cell_type": "code",
   "source": [
    "posterior = TransformVariables.transform.(Ref(problem_transformation(p)), get_position.(chain));\n",
    "posterior[1:5]"
   ],
   "metadata": {},
   "execution_count": 9
  },
  {
   "outputs": [],
   "cell_type": "markdown",
   "source": [
    "Extract the parameter posterior means: `β`,"
   ],
   "metadata": {}
  },
  {
   "outputs": [
    {
     "output_type": "execute_result",
     "data": {
      "text/plain": "0.5616889917027655"
     },
     "metadata": {},
     "execution_count": 10
    }
   ],
   "cell_type": "code",
   "source": [
    "posterior_a = mean(first, posterior)\n",
    "posterior_bp = mean(last, posterior)"
   ],
   "metadata": {},
   "execution_count": 10
  },
  {
   "outputs": [],
   "cell_type": "markdown",
   "source": [
    "Effective sample sizes (of untransformed draws)"
   ],
   "metadata": {}
  },
  {
   "outputs": [
    {
     "output_type": "execute_result",
     "data": {
      "text/plain": "1×2 Array{Float64,2}:\n 543.677  404.462"
     },
     "metadata": {},
     "execution_count": 11
    }
   ],
   "cell_type": "code",
   "source": [
    "ess = mapslices(effective_sample_size, get_position_matrix(chain); dims = 1)\n",
    "ess"
   ],
   "metadata": {},
   "execution_count": 11
  },
  {
   "outputs": [],
   "cell_type": "markdown",
   "source": [
    "NUTS-specific statistics"
   ],
   "metadata": {}
  },
  {
   "outputs": [
    {
     "output_type": "execute_result",
     "data": {
      "text/plain": "Hamiltonian Monte Carlo sample of length 1000\n  acceptance rate mean: 0.84, min/25%/median/75%/max: 0.49 0.82 0.86 0.87 0.98\n  termination: AdjacentTurn => 34% DoubledTurn => 66%\n  depth: 1 => 4% 2 => 36% 3 => 54% 4 => 4% 5 => 2% 6 => 0%\n"
     },
     "metadata": {},
     "execution_count": 12
    }
   ],
   "cell_type": "code",
   "source": [
    "NUTS_statistics(chain)"
   ],
   "metadata": {},
   "execution_count": 12
  },
  {
   "outputs": [],
   "cell_type": "markdown",
   "source": [
    "CmdStan result"
   ],
   "metadata": {}
  },
  {
   "outputs": [],
   "cell_type": "code",
   "source": [
    "m_10_2s_result = \"\n",
    "Iterations = 1:1000\n",
    "Thinning interval = 1\n",
    "Chains = 1,2,3,4\n",
    "Samples per chain = 1000\n",
    "\n",
    "Empirical Posterior Estimates:\n",
    "      Mean        SD       Naive SE       MCSE      ESS\n",
    " a 0.05103234 0.12579086 0.0019889282 0.0035186307 1000\n",
    "bp 0.55711212 0.18074275 0.0028577937 0.0040160451 1000\n",
    "\n",
    "Quantiles:\n",
    "       2.5%        25.0%       50.0%      75.0%      97.5%\n",
    " a -0.19755400 -0.029431425 0.05024655 0.12978825 0.30087758\n",
    "bp  0.20803447  0.433720250 0.55340400 0.67960975 0.91466915\n",
    "\";"
   ],
   "metadata": {},
   "execution_count": 13
  },
  {
   "outputs": [],
   "cell_type": "markdown",
   "source": [
    "Extract the parameter posterior means: `β`,"
   ],
   "metadata": {}
  },
  {
   "outputs": [
    {
     "output_type": "execute_result",
     "data": {
      "text/plain": "2-element Array{Float64,1}:\n 0.05080702899420504\n 0.5616889917027655 "
     },
     "metadata": {},
     "execution_count": 14
    }
   ],
   "cell_type": "code",
   "source": [
    "[posterior_a, posterior_bp]"
   ],
   "metadata": {},
   "execution_count": 14
  },
  {
   "outputs": [],
   "cell_type": "markdown",
   "source": [
    "End of `10/m10.02d.jl`"
   ],
   "metadata": {}
  },
  {
   "outputs": [],
   "cell_type": "markdown",
   "source": [
    "*This notebook was generated using [Literate.jl](https://github.com/fredrikekre/Literate.jl).*"
   ],
   "metadata": {}
  }
 ],
 "nbformat_minor": 3,
 "metadata": {
  "language_info": {
   "file_extension": ".jl",
   "mimetype": "application/julia",
   "name": "julia",
   "version": "1.2.0-DEV.450"
  },
  "kernelspec": {
   "name": "julia-1.2",
   "display_name": "Julia 1.2.0-DEV.450",
   "language": "julia"
  }
 },
 "nbformat": 4
}
