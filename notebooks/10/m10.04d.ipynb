{
 "cells": [
  {
   "outputs": [],
   "cell_type": "markdown",
   "source": [
    "Load Julia packages (libraries) needed  for the snippets in chapter 0"
   ],
   "metadata": {}
  },
  {
   "outputs": [],
   "cell_type": "code",
   "source": [
    "using DynamicHMCModels"
   ],
   "metadata": {},
   "execution_count": 1
  },
  {
   "outputs": [],
   "cell_type": "markdown",
   "source": [
    "CmdStan uses a tmp directory to store the output of cmdstan"
   ],
   "metadata": {}
  },
  {
   "outputs": [],
   "cell_type": "code",
   "source": [
    "ProjDir = rel_path_d(\"..\", \"scripts\", \"10\")\n",
    "cd(ProjDir)"
   ],
   "metadata": {},
   "execution_count": 2
  },
  {
   "outputs": [],
   "cell_type": "markdown",
   "source": [
    "### snippet 10.4"
   ],
   "metadata": {}
  },
  {
   "outputs": [],
   "cell_type": "code",
   "source": [
    "d = CSV.read(rel_path(\"..\", \"data\", \"chimpanzees.csv\"), delim=';');\n",
    "df = convert(DataFrame, d);\n",
    "df[:pulled_left] = convert(Array{Int64}, df[:pulled_left])\n",
    "df[:prosoc_left] = convert(Array{Int64}, df[:prosoc_left])\n",
    "df[:condition] = convert(Array{Int64}, df[:condition])\n",
    "df[:actor] = convert(Array{Int64}, df[:actor])\n",
    "first(df, 5)\n",
    "\n",
    "struct m_10_04d_model{TY <: AbstractVector, TX <: AbstractMatrix,\n",
    "  TA <: AbstractVector}\n",
    "    \"Observations.\"\n",
    "    y::TY\n",
    "    \"Covariates\"\n",
    "    X::TX\n",
    "    \"Actors\"\n",
    "    A::TA\n",
    "    \"Number of observations\"\n",
    "    N::Int\n",
    "    \"Number of unique actors\"\n",
    "    N_actors::Int\n",
    "end"
   ],
   "metadata": {},
   "execution_count": 3
  },
  {
   "outputs": [],
   "cell_type": "markdown",
   "source": [
    "Make the type callable with the parameters *as a single argument*."
   ],
   "metadata": {}
  },
  {
   "outputs": [],
   "cell_type": "code",
   "source": [
    "function (problem::m_10_04d_model)(θ)\n",
    "    @unpack y, X, A, N, N_actors = problem   # extract the data\n",
    "    @unpack β, α = θ  # works on the named tuple too\n",
    "    ll = 0.0\n",
    "    ll += sum(logpdf.(Normal(0, 10), β)) # bp & bpC\n",
    "    ll += sum(logpdf.(Normal(0, 10), α)) # alpha[1:7]\n",
    "    ll += sum(\n",
    "      [loglikelihood(Binomial(1, logistic(α[A[i]] + dot(X[i, :], β))), [y[i]]) for i in 1:N]\n",
    "    )\n",
    "    ll\n",
    "end"
   ],
   "metadata": {},
   "execution_count": 4
  },
  {
   "outputs": [],
   "cell_type": "markdown",
   "source": [
    "Instantiate the model with data and inits."
   ],
   "metadata": {}
  },
  {
   "outputs": [
    {
     "output_type": "execute_result",
     "data": {
      "text/plain": "-305.21943396408915"
     },
     "metadata": {},
     "execution_count": 5
    }
   ],
   "cell_type": "code",
   "source": [
    "N = size(df, 1)\n",
    "N_actors = length(unique(df[:actor]))\n",
    "X = hcat(ones(Int64, N), df[:prosoc_left] .* df[:condition]);\n",
    "A = df[:actor]\n",
    "y = df[:pulled_left]\n",
    "p = m_10_04d_model(y, X, A, N, N_actors);\n",
    "θ = (β = [1.0, 0.0], α = [-1.0, 10.0, -1.0, -1.0, -1.0, 0.0, 2.0])\n",
    "p(θ)"
   ],
   "metadata": {},
   "execution_count": 5
  },
  {
   "outputs": [],
   "cell_type": "markdown",
   "source": [
    "Write a function to return properly dimensioned transformation."
   ],
   "metadata": {}
  },
  {
   "outputs": [],
   "cell_type": "code",
   "source": [
    "problem_transformation(p::m_10_04d_model) =\n",
    "    as( (β = as(Array, size(p.X, 2)), α = as(Array, p.N_actors), ) )\n",
    "# Wrap the problem with a transformation, then use Flux for the gradient.\n",
    "P = TransformedLogDensity(problem_transformation(p), p)\n",
    "∇P = LogDensityRejectErrors(ADgradient(:ForwardDiff, P));\n",
    "#∇P = LogDensityRejectErrors(ADgradient(:Flux, P));\n",
    "#∇P = ADgradient(:ForwardDiff, P);\n",
    "#∇P = ADgradient(:Flux, P);"
   ],
   "metadata": {},
   "execution_count": 6
  },
  {
   "outputs": [],
   "cell_type": "markdown",
   "source": [
    "Tune and sample."
   ],
   "metadata": {}
  },
  {
   "outputs": [
    {
     "name": "stdout",
     "output_type": "stream",
     "text": [
      "MCMC, adapting ϵ (75 steps)\n",
      "0.0099 s/step ...done\n",
      "MCMC, adapting ϵ (25 steps)\n",
      "0.015 s/step ...done\n",
      "MCMC, adapting ϵ (50 steps)\n",
      "0.0082 s/step ...done\n",
      "MCMC, adapting ϵ (100 steps)\n",
      "0.0036 s/step ...done\n",
      "MCMC, adapting ϵ (200 steps)\n",
      "0.0026 s/step ...done\n",
      "MCMC, adapting ϵ (400 steps)\n",
      "0.0023 s/step ...done\n",
      "MCMC, adapting ϵ (50 steps)\n",
      "0.0032 s/step ...done\n",
      "MCMC (1000 steps)\n",
      "step 393 (of 1000), 0.0025 s/step\n",
      "step 778 (of 1000), 0.0026 s/step\n",
      "0.0026 s/step ...done\n"
     ]
    }
   ],
   "cell_type": "code",
   "source": [
    "chain, NUTS_tuned = NUTS_init_tune_mcmc(∇P, 1000);"
   ],
   "metadata": {},
   "execution_count": 7
  },
  {
   "outputs": [],
   "cell_type": "markdown",
   "source": [
    "We use the transformation to obtain the posterior from the chain."
   ],
   "metadata": {}
  },
  {
   "outputs": [
    {
     "output_type": "execute_result",
     "data": {
      "text/plain": "5-element Array{NamedTuple{(:β, :α),Tuple{Array{Float64,1},Array{Float64,1}}},1}:\n (β = [-4.32011, 0.230806], α = [3.57893, 7.82109, 3.63461, 3.76537, 4.08817, 5.11468, 6.03383])      \n (β = [-1.77483, 0.393542], α = [1.63729, 16.7868, 1.05232, 1.54289, 1.23874, 2.3266, 3.95026])       \n (β = [1.36297, 0.0668481], α = [-1.93286, 13.5634, -1.8614, -2.38328, -1.73653, -0.835717, 0.317655])\n (β = [4.59924, 0.705946], α = [-4.9042, -0.435958, -5.83329, -5.26582, -5.14374, -4.02197, -2.43733])\n (β = [4.24455, 0.329633], α = [-5.00585, 6.07366, -4.86582, -5.30469, -4.34947, -3.94576, -2.00868]) "
     },
     "metadata": {},
     "execution_count": 8
    }
   ],
   "cell_type": "code",
   "source": [
    "posterior = TransformVariables.transform.(Ref(problem_transformation(p)), get_position.(chain));\n",
    "posterior[1:5]"
   ],
   "metadata": {},
   "execution_count": 8
  },
  {
   "outputs": [],
   "cell_type": "markdown",
   "source": [
    "Extract the parameter posterior means: `β`,"
   ],
   "metadata": {}
  },
  {
   "outputs": [
    {
     "output_type": "execute_result",
     "data": {
      "text/plain": "2-element Array{Float64,1}:\n 1.5128727628091099 \n 0.42561201916954794"
     },
     "metadata": {},
     "execution_count": 9
    }
   ],
   "cell_type": "code",
   "source": [
    "posterior_β = mean(first, posterior)"
   ],
   "metadata": {},
   "execution_count": 9
  },
  {
   "outputs": [],
   "cell_type": "markdown",
   "source": [
    "Extract the parameter posterior means: `β`,"
   ],
   "metadata": {}
  },
  {
   "outputs": [
    {
     "output_type": "execute_result",
     "data": {
      "text/plain": "7-element Array{Float64,1}:\n -1.9542073122803718\n 10.692312146741594 \n -2.2442118199400207\n -2.265604541056308 \n -1.9548381381519657\n -1.0258427065959832\n  0.527027017653806 "
     },
     "metadata": {},
     "execution_count": 10
    }
   ],
   "cell_type": "code",
   "source": [
    "posterior_α = mean(last, posterior)"
   ],
   "metadata": {},
   "execution_count": 10
  },
  {
   "outputs": [],
   "cell_type": "markdown",
   "source": [
    "Effective sample sizes (of untransformed draws)"
   ],
   "metadata": {}
  },
  {
   "outputs": [
    {
     "output_type": "execute_result",
     "data": {
      "text/plain": "1×9 Array{Float64,2}:\n 471.682  1000.0  467.256  395.161  …  468.123  468.291  471.971  462.807"
     },
     "metadata": {},
     "execution_count": 11
    }
   ],
   "cell_type": "code",
   "source": [
    "ess = mapslices(effective_sample_size, get_position_matrix(chain); dims = 1)\n",
    "ess"
   ],
   "metadata": {},
   "execution_count": 11
  },
  {
   "outputs": [],
   "cell_type": "markdown",
   "source": [
    "NUTS-specific statistics"
   ],
   "metadata": {}
  },
  {
   "outputs": [
    {
     "output_type": "execute_result",
     "data": {
      "text/plain": "Hamiltonian Monte Carlo sample of length 1000\n  acceptance rate mean: 0.9, min/25%/median/75%/max: 0.0 0.87 0.95 0.99 1.0\n  termination: AdjacentDivergent => 1% AdjacentTurn => 34% DoubledTurn => 66%\n  depth: 2 => 2% 3 => 56% 4 => 40% 5 => 2% 6 => 0%\n"
     },
     "metadata": {},
     "execution_count": 12
    }
   ],
   "cell_type": "code",
   "source": [
    "NUTS_statistics(chain)"
   ],
   "metadata": {},
   "execution_count": 12
  },
  {
   "outputs": [],
   "cell_type": "markdown",
   "source": [
    "Result rethinking"
   ],
   "metadata": {}
  },
  {
   "outputs": [],
   "cell_type": "code",
   "source": [
    "rethinking = \"\n",
    "Iterations = 1:1000\n",
    "Thinning interval = 1\n",
    "Chains = 1,2,3,4\n",
    "Samples per chain = 1000\n",
    "\n",
    "Empirical Posterior Estimates:\n",
    "        Mean        SD       Naive SE       MCSE      ESS\n",
    "a.1 -0.74503184 0.26613979 0.0042080396 0.0060183398 1000\n",
    "a.2 10.77955494 5.32538998 0.0842018089 0.1269148045 1000\n",
    "a.3 -1.04982353 0.28535997 0.0045119373 0.0049074219 1000\n",
    "a.4 -1.04898135 0.28129307 0.0044476339 0.0056325117 1000\n",
    "a.5 -0.74390933 0.26949936 0.0042611590 0.0052178124 1000\n",
    "a.6  0.21599365 0.26307574 0.0041595927 0.0045153523 1000\n",
    "a.7  1.81090866 0.39318577 0.0062168129 0.0071483527 1000\n",
    " bp  0.83979926 0.26284676 0.0041559722 0.0059795826 1000\n",
    "bpC -0.12913322 0.29935741 0.0047332562 0.0049519863 1000\n",
    "\";"
   ],
   "metadata": {},
   "execution_count": 13
  },
  {
   "outputs": [],
   "cell_type": "markdown",
   "source": [
    "Means of draws"
   ],
   "metadata": {}
  },
  {
   "outputs": [
    {
     "output_type": "execute_result",
     "data": {
      "text/plain": "2-element Array{Array{Float64,1},1}:\n [1.51287, 0.425612]                                                 \n [-1.95421, 10.6923, -2.24421, -2.2656, -1.95484, -1.02584, 0.527027]"
     },
     "metadata": {},
     "execution_count": 14
    }
   ],
   "cell_type": "code",
   "source": [
    "[posterior_β, posterior_α]"
   ],
   "metadata": {},
   "execution_count": 14
  },
  {
   "outputs": [],
   "cell_type": "markdown",
   "source": [
    "End of `10/m10.04d.jl`"
   ],
   "metadata": {}
  },
  {
   "outputs": [],
   "cell_type": "markdown",
   "source": [
    "*This notebook was generated using [Literate.jl](https://github.com/fredrikekre/Literate.jl).*"
   ],
   "metadata": {}
  }
 ],
 "nbformat_minor": 3,
 "metadata": {
  "language_info": {
   "file_extension": ".jl",
   "mimetype": "application/julia",
   "name": "julia",
   "version": "1.1.0"
  },
  "kernelspec": {
   "name": "julia-1.1",
   "display_name": "Julia 1.1.0",
   "language": "julia"
  }
 },
 "nbformat": 4
}
