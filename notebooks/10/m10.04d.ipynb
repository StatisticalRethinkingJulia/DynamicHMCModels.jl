{
 "cells": [
  {
   "outputs": [],
   "cell_type": "markdown",
   "source": [
    "Load Julia packages (libraries) needed  for the snippets in chapter 0"
   ],
   "metadata": {}
  },
  {
   "outputs": [],
   "cell_type": "code",
   "source": [
    "using DynamicHMCModels"
   ],
   "metadata": {},
   "execution_count": 1
  },
  {
   "outputs": [],
   "cell_type": "markdown",
   "source": [
    "CmdStan uses a tmp directory to store the output of cmdstan"
   ],
   "metadata": {}
  },
  {
   "outputs": [],
   "cell_type": "code",
   "source": [
    "ProjDir = rel_path_d(\"..\", \"scripts\", \"10\")\n",
    "cd(ProjDir)"
   ],
   "metadata": {},
   "execution_count": 2
  },
  {
   "outputs": [],
   "cell_type": "markdown",
   "source": [
    "### snippet 10.4"
   ],
   "metadata": {}
  },
  {
   "outputs": [],
   "cell_type": "code",
   "source": [
    "d = CSV.read(rel_path(\"..\", \"data\", \"chimpanzees.csv\"), delim=';');\n",
    "df = convert(DataFrame, d);\n",
    "df[:pulled_left] = convert(Array{Int64}, df[:pulled_left])\n",
    "df[:prosoc_left] = convert(Array{Int64}, df[:prosoc_left])\n",
    "df[:condition] = convert(Array{Int64}, df[:condition])\n",
    "df[:actor] = convert(Array{Int64}, df[:actor])\n",
    "first(df, 5)\n",
    "\n",
    "struct m_10_04d_model{TY <: AbstractVector, TX <: AbstractMatrix,\n",
    "  TA <: AbstractVector}\n",
    "    \"Observations.\"\n",
    "    y::TY\n",
    "    \"Covariates\"\n",
    "    X::TX\n",
    "    \"Actors\"\n",
    "    A::TA\n",
    "    \"Number of observations\"\n",
    "    N::Int\n",
    "    \"Number of unique actors\"\n",
    "    N_actors::Int\n",
    "end"
   ],
   "metadata": {},
   "execution_count": 3
  },
  {
   "outputs": [],
   "cell_type": "markdown",
   "source": [
    "Make the type callable with the parameters *as a single argument*."
   ],
   "metadata": {}
  },
  {
   "outputs": [],
   "cell_type": "code",
   "source": [
    "function (problem::m_10_04d_model)(θ)\n",
    "    @unpack y, X, A, N, N_actors = problem   # extract the data\n",
    "    @unpack β, α = θ  # works on the named tuple too\n",
    "    ll = 0.0\n",
    "    ll += sum(logpdf.(Normal(0, 10), β)) # bp & bpC\n",
    "    ll += sum(logpdf.(Normal(0, 10), α)) # alpha[1:7]\n",
    "    ll += sum(\n",
    "      [loglikelihood(Binomial(1, logistic(α[A[i]] + dot(X[i, :], β))), [y[i]]) for i in 1:N]\n",
    "    )\n",
    "    ll\n",
    "end"
   ],
   "metadata": {},
   "execution_count": 4
  },
  {
   "outputs": [],
   "cell_type": "markdown",
   "source": [
    "Instantiate the model with data and inits."
   ],
   "metadata": {}
  },
  {
   "outputs": [
    {
     "output_type": "execute_result",
     "data": {
      "text/plain": "-305.21943396408915"
     },
     "metadata": {},
     "execution_count": 5
    }
   ],
   "cell_type": "code",
   "source": [
    "N = size(df, 1)\n",
    "N_actors = length(unique(df[:actor]))\n",
    "X = hcat(ones(Int64, N), df[:prosoc_left] .* df[:condition]);\n",
    "A = df[:actor]\n",
    "y = df[:pulled_left]\n",
    "p = m_10_04d_model(y, X, A, N, N_actors);\n",
    "θ = (β = [1.0, 0.0], α = [-1.0, 10.0, -1.0, -1.0, -1.0, 0.0, 2.0])\n",
    "p(θ)"
   ],
   "metadata": {},
   "execution_count": 5
  },
  {
   "outputs": [],
   "cell_type": "markdown",
   "source": [
    "Write a function to return properly dimensioned transformation."
   ],
   "metadata": {}
  },
  {
   "outputs": [],
   "cell_type": "code",
   "source": [
    "problem_transformation(p::m_10_04d_model) =\n",
    "    as( (β = as(Array, size(p.X, 2)), α = as(Array, p.N_actors), ) )\n",
    "# Wrap the problem with a transformation, then use Flux for the gradient.\n",
    "P = TransformedLogDensity(problem_transformation(p), p)\n",
    "∇P = LogDensityRejectErrors(ADgradient(:ForwardDiff, P));"
   ],
   "metadata": {},
   "execution_count": 6
  },
  {
   "outputs": [],
   "cell_type": "markdown",
   "source": [
    "Tune and sample."
   ],
   "metadata": {}
  },
  {
   "outputs": [
    {
     "name": "stdout",
     "output_type": "stream",
     "text": [
      "MCMC, adapting ϵ (75 steps)\n",
      "0.014 s/step ...done\n",
      "MCMC, adapting ϵ (25 steps)\n",
      "0.016 s/step ...done\n",
      "MCMC, adapting ϵ (50 steps)\n",
      "0.008 s/step ...done\n",
      "MCMC, adapting ϵ (100 steps)\n",
      "0.0069 s/step ...done\n",
      "MCMC, adapting ϵ (200 steps)\n",
      "0.0041 s/step ...done\n",
      "MCMC, adapting ϵ (400 steps)\n",
      "step 284 (of 400), 0.0035 s/step\n",
      "0.0035 s/step ...done\n",
      "MCMC, adapting ϵ (50 steps)\n",
      "0.0037 s/step ...done\n",
      "MCMC (1000 steps)\n",
      "step 281 (of 1000), 0.0036 s/step\n",
      "step 561 (of 1000), 0.0036 s/step\n",
      "step 866 (of 1000), 0.0035 s/step\n",
      "0.0035 s/step ...done\n"
     ]
    }
   ],
   "cell_type": "code",
   "source": [
    "chain, NUTS_tuned = NUTS_init_tune_mcmc(∇P, 1000);"
   ],
   "metadata": {},
   "execution_count": 7
  },
  {
   "outputs": [],
   "cell_type": "markdown",
   "source": [
    "We use the transformation to obtain the posterior from the chain."
   ],
   "metadata": {}
  },
  {
   "outputs": [
    {
     "output_type": "execute_result",
     "data": {
      "text/plain": "5-element Array{NamedTuple{(:β, :α),Tuple{Array{Float64,1},Array{Float64,1}}},1}:\n (β = [2.1944985925210947, 0.5901977005585288], α = [-2.3926535766120374, 5.802705404915738, -2.950189262346768, -2.9150851455677063, -2.6977874340833163, -1.839972629721614, 0.47047982990272263])  \n (β = [-5.905554031337963, 0.2406890376219152], α = [5.320746953333941, 12.431171815418521, 5.40778362767297, 5.059491951845445, 5.51238210459692, 7.166498986075312, 7.83464725980286])              \n (β = [0.38972647504114, 0.5067682071495101], α = [-0.5070679176878703, 5.548019777372892, -1.2161907063209385, -0.8326685420438382, -1.071505726283445, -0.29395288669164543, 1.2570080736919313])   \n (β = [2.7122386387450126, 0.7084000766958038], α = [-3.187036388096761, 4.7820009709932885, -3.7490960156409465, -3.2397965649553098, -2.9482761801846533, -2.3729816812187967, -0.9000369978376922])\n (β = [3.388074071809994, 0.9786431923082679], α = [-4.060778761623799, 7.625242889306762, -4.7697233348867165, -4.439820258703654, -3.7840811020686123, -3.321839882730258, -1.44022682839647])      "
     },
     "metadata": {},
     "execution_count": 8
    }
   ],
   "cell_type": "code",
   "source": [
    "posterior = TransformVariables.transform.(Ref(problem_transformation(p)), get_position.(chain));\n",
    "posterior[1:5]"
   ],
   "metadata": {},
   "execution_count": 8
  },
  {
   "outputs": [],
   "cell_type": "markdown",
   "source": [
    "Extract the parameter posterior means: `β`,"
   ],
   "metadata": {}
  },
  {
   "outputs": [
    {
     "output_type": "execute_result",
     "data": {
      "text/plain": "2-element Array{Float64,1}:\n 1.6533702104616024 \n 0.41780660138071435"
     },
     "metadata": {},
     "execution_count": 9
    }
   ],
   "cell_type": "code",
   "source": [
    "posterior_β = mean(first, posterior)"
   ],
   "metadata": {},
   "execution_count": 9
  },
  {
   "outputs": [],
   "cell_type": "markdown",
   "source": [
    "Extract the parameter posterior means: `β`,"
   ],
   "metadata": {}
  },
  {
   "outputs": [
    {
     "output_type": "execute_result",
     "data": {
      "text/plain": "7-element Array{Float64,1}:\n -2.1033239879990586 \n  9.926714307940099  \n -2.406324705547061  \n -2.395967884577413  \n -2.1052963437255325 \n -1.1741111112175675 \n  0.38779985324948246"
     },
     "metadata": {},
     "execution_count": 10
    }
   ],
   "cell_type": "code",
   "source": [
    "posterior_α = mean(last, posterior)"
   ],
   "metadata": {},
   "execution_count": 10
  },
  {
   "outputs": [],
   "cell_type": "markdown",
   "source": [
    "Effective sample sizes (of untransformed draws)"
   ],
   "metadata": {}
  },
  {
   "outputs": [
    {
     "output_type": "execute_result",
     "data": {
      "text/plain": "1×9 Array{Float64,2}:\n 622.566  1000.0  619.31  227.917  631.93  621.885  624.867  623.517  624.972"
     },
     "metadata": {},
     "execution_count": 11
    }
   ],
   "cell_type": "code",
   "source": [
    "ess = mapslices(effective_sample_size, get_position_matrix(chain); dims = 1)\n",
    "ess"
   ],
   "metadata": {},
   "execution_count": 11
  },
  {
   "outputs": [],
   "cell_type": "markdown",
   "source": [
    "NUTS-specific statistics"
   ],
   "metadata": {}
  },
  {
   "outputs": [
    {
     "output_type": "execute_result",
     "data": {
      "text/plain": "Hamiltonian Monte Carlo sample of length 1000\n  acceptance rate mean: 0.85, min/25%/median/75%/max: 0.0 0.82 0.88 0.92 0.97\n  termination: AdjacentDivergent => 1% AdjacentTurn => 25% DoubledTurn => 75%\n  depth: 2 => 2% 3 => 42% 4 => 55% 5 => 1%\n"
     },
     "metadata": {},
     "execution_count": 12
    }
   ],
   "cell_type": "code",
   "source": [
    "NUTS_statistics(chain)"
   ],
   "metadata": {},
   "execution_count": 12
  },
  {
   "outputs": [],
   "cell_type": "markdown",
   "source": [
    "Result rethinking"
   ],
   "metadata": {}
  },
  {
   "outputs": [],
   "cell_type": "code",
   "source": [
    "rethinking = \"\n",
    "Iterations = 1:1000\n",
    "Thinning interval = 1\n",
    "Chains = 1,2,3,4\n",
    "Samples per chain = 1000\n",
    "\n",
    "Empirical Posterior Estimates:\n",
    "        Mean        SD       Naive SE       MCSE      ESS\n",
    "a.1 -0.74503184 0.26613979 0.0042080396 0.0060183398 1000\n",
    "a.2 10.77955494 5.32538998 0.0842018089 0.1269148045 1000\n",
    "a.3 -1.04982353 0.28535997 0.0045119373 0.0049074219 1000\n",
    "a.4 -1.04898135 0.28129307 0.0044476339 0.0056325117 1000\n",
    "a.5 -0.74390933 0.26949936 0.0042611590 0.0052178124 1000\n",
    "a.6  0.21599365 0.26307574 0.0041595927 0.0045153523 1000\n",
    "a.7  1.81090866 0.39318577 0.0062168129 0.0071483527 1000\n",
    " bp  0.83979926 0.26284676 0.0041559722 0.0059795826 1000\n",
    "bpC -0.12913322 0.29935741 0.0047332562 0.0049519863 1000\n",
    "\";"
   ],
   "metadata": {},
   "execution_count": 13
  },
  {
   "outputs": [],
   "cell_type": "markdown",
   "source": [
    "Means of draws"
   ],
   "metadata": {}
  },
  {
   "outputs": [
    {
     "output_type": "execute_result",
     "data": {
      "text/plain": "2-element Array{Array{Float64,1},1}:\n [1.6533702104616024, 0.41780660138071435]                                                                                                      \n [-2.1033239879990586, 9.926714307940099, -2.406324705547061, -2.395967884577413, -2.1052963437255325, -1.1741111112175675, 0.38779985324948246]"
     },
     "metadata": {},
     "execution_count": 14
    }
   ],
   "cell_type": "code",
   "source": [
    "[posterior_β, posterior_α]"
   ],
   "metadata": {},
   "execution_count": 14
  },
  {
   "outputs": [],
   "cell_type": "markdown",
   "source": [
    "End of `10/m10.04d.jl`"
   ],
   "metadata": {}
  },
  {
   "outputs": [],
   "cell_type": "markdown",
   "source": [
    "*This notebook was generated using [Literate.jl](https://github.com/fredrikekre/Literate.jl).*"
   ],
   "metadata": {}
  }
 ],
 "nbformat_minor": 3,
 "metadata": {
  "language_info": {
   "file_extension": ".jl",
   "mimetype": "application/julia",
   "name": "julia",
   "version": "1.2.0-DEV.450"
  },
  "kernelspec": {
   "name": "julia-1.2",
   "display_name": "Julia 1.2.0-DEV.450",
   "language": "julia"
  }
 },
 "nbformat": 4
}
