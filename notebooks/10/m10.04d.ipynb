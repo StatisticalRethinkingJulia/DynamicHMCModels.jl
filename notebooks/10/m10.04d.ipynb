{
 "cells": [
  {
   "outputs": [],
   "cell_type": "markdown",
   "source": [
    "Load Julia packages (libraries) needed  for the snippets in chapter 0"
   ],
   "metadata": {}
  },
  {
   "outputs": [],
   "cell_type": "code",
   "source": [
    "using DynamicHMCModels\n",
    "using DynamicHMC, TransformVariables, LogDensityProblems, MCMCDiagnostics\n",
    "using Parameters, ForwardDiff, LinearAlgebra"
   ],
   "metadata": {},
   "execution_count": 1
  },
  {
   "outputs": [],
   "cell_type": "markdown",
   "source": [
    "CmdStan uses a tmp directory to store the output of cmdstan"
   ],
   "metadata": {}
  },
  {
   "outputs": [],
   "cell_type": "code",
   "source": [
    "ProjDir = rel_path_d(\"..\", \"scripts\", \"10\")\n",
    "cd(ProjDir)"
   ],
   "metadata": {},
   "execution_count": 2
  },
  {
   "outputs": [],
   "cell_type": "markdown",
   "source": [
    "### snippet 10.4"
   ],
   "metadata": {}
  },
  {
   "outputs": [],
   "cell_type": "code",
   "source": [
    "d = CSV.read(rel_path(\"..\", \"data\", \"chimpanzees.csv\"), delim=';');\n",
    "df = convert(DataFrame, d);\n",
    "df[:pulled_left] = convert(Array{Int64}, df[:pulled_left])\n",
    "df[:prosoc_left] = convert(Array{Int64}, df[:prosoc_left])\n",
    "df[:condition] = convert(Array{Int64}, df[:condition])\n",
    "df[:actor] = convert(Array{Int64}, df[:actor])\n",
    "first(df, 5)\n",
    "\n",
    "struct m_10_04d_model{TY <: AbstractVector, TX <: AbstractMatrix,\n",
    "  TA <: AbstractVector}\n",
    "    \"Observations.\"\n",
    "    y::TY\n",
    "    \"Covariates\"\n",
    "    X::TX\n",
    "    \"Actors\"\n",
    "    A::TA\n",
    "    \"Number of observations\"\n",
    "    N::Int\n",
    "    \"Number of unique actors\"\n",
    "    N_actors::Int\n",
    "end"
   ],
   "metadata": {},
   "execution_count": 3
  },
  {
   "outputs": [],
   "cell_type": "markdown",
   "source": [
    "Make the type callable with the parameters *as a single argument*."
   ],
   "metadata": {}
  },
  {
   "outputs": [],
   "cell_type": "code",
   "source": [
    "function (problem::m_10_04d_model)(θ)\n",
    "    @unpack y, X, A, N, N_actors = problem   # extract the data\n",
    "    @unpack β, α = θ  # works on the named tuple too\n",
    "    ll = 0.0\n",
    "    ll += sum(logpdf.(Normal(0, 10), β)) # bp & bpC\n",
    "    ll += sum(logpdf.(Normal(0, 10), α)) # alpha[1:7]\n",
    "    ll += sum(\n",
    "      [loglikelihood(Binomial(1, logistic(α[A[i]] + dot(X[i, :], β))), [y[i]]) for i in 1:N]\n",
    "    )\n",
    "    ll\n",
    "end"
   ],
   "metadata": {},
   "execution_count": 4
  },
  {
   "outputs": [],
   "cell_type": "markdown",
   "source": [
    "Instantiate the model with data and inits."
   ],
   "metadata": {}
  },
  {
   "outputs": [
    {
     "output_type": "execute_result",
     "data": {
      "text/plain": "-305.21943396408915"
     },
     "metadata": {},
     "execution_count": 5
    }
   ],
   "cell_type": "code",
   "source": [
    "#m_10_04_data = Dict(\"N\" => size(df, 1), \"actor\" => df[:actor],\n",
    "#\"pulled_left\" => df[:pulled_left], \"prosoc_left\" => df[:prosoc_left],\n",
    "#\"N_actors\" => 7, \"condition\" => df[:condition]);\n",
    "\n",
    "N = size(df, 1)\n",
    "N_actors = length(unique(df[:actor]))\n",
    "X = hcat(ones(Int64, N), df[:prosoc_left] .* df[:condition]);\n",
    "A = df[:actor]\n",
    "y = df[:pulled_left]\n",
    "p = m_10_04d_model(y, X, A, N, N_actors);\n",
    "θ = (β = [1.0, 0.0], α = [-1.0, 10.0, -1.0, -1.0, -1.0, 0.0, 2.0])\n",
    "p(θ)"
   ],
   "metadata": {},
   "execution_count": 5
  },
  {
   "outputs": [],
   "cell_type": "markdown",
   "source": [
    "Write a function to return properly dimensioned transformation."
   ],
   "metadata": {}
  },
  {
   "outputs": [],
   "cell_type": "code",
   "source": [
    "problem_transformation(p::m_10_04d_model) =\n",
    "    as( (β = as(Array, size(p.X, 2)), α = as(Array, p.N_actors), ) )\n",
    "# Wrap the problem with a transformation, then use Flux for the gradient.\n",
    "P = TransformedLogDensity(problem_transformation(p), p)\n",
    "∇P = LogDensityRejectErrors(ADgradient(:ForwardDiff, P));"
   ],
   "metadata": {},
   "execution_count": 6
  },
  {
   "outputs": [],
   "cell_type": "markdown",
   "source": [
    "Tune and sample."
   ],
   "metadata": {}
  },
  {
   "outputs": [
    {
     "name": "stdout",
     "output_type": "stream",
     "text": [
      "MCMC, adapting ϵ (75 steps)\n",
      "0.013 s/step ...done\n",
      "MCMC, adapting ϵ (25 steps)\n",
      "0.011 s/step ...done\n",
      "MCMC, adapting ϵ (50 steps)\n",
      "0.0068 s/step ...done\n",
      "MCMC, adapting ϵ (100 steps)\n",
      "0.0051 s/step ...done\n",
      "MCMC, adapting ϵ (200 steps)\n",
      "0.0028 s/step ...done\n",
      "MCMC, adapting ϵ (400 steps)\n",
      "0.0021 s/step ...done\n",
      "MCMC, adapting ϵ (50 steps)\n",
      "0.0027 s/step ...done\n",
      "MCMC (1000 steps)\n",
      "step 461 (of 1000), 0.0022 s/step\n",
      "step 907 (of 1000), 0.0022 s/step\n",
      "0.0022 s/step ...done\n"
     ]
    }
   ],
   "cell_type": "code",
   "source": [
    "chain, NUTS_tuned = NUTS_init_tune_mcmc(∇P, 1000);"
   ],
   "metadata": {},
   "execution_count": 7
  },
  {
   "outputs": [],
   "cell_type": "markdown",
   "source": [
    "We use the transformation to obtain the posterior from the chain."
   ],
   "metadata": {}
  },
  {
   "outputs": [
    {
     "output_type": "execute_result",
     "data": {
      "text/plain": "5-element Array{NamedTuple{(:β, :α),Tuple{Array{Float64,1},Array{Float64,1}}},1}:\n (β = [-1.56031, 0.166343], α = [1.26101, 9.30388, 0.900793, 1.23971, 1.59585, 2.05408, 3.01625])     \n (β = [2.51073, 0.427718], α = [-3.09255, 4.07468, -3.55126, -3.28807, -2.99869, -2.22893, -0.564244])\n (β = [3.18283, 0.490527], α = [-3.55017, 5.35874, -4.01528, -3.87966, -3.57212, -2.73681, -1.16555]) \n (β = [3.40836, 0.307927], α = [-3.90481, 3.9903, -4.58186, -4.1177, -4.06334, -2.72031, -1.01155])   \n (β = [1.14753, 0.155366], α = [-1.67069, 4.63967, -2.01392, -1.90991, -1.62355, -0.415894, 0.827159])"
     },
     "metadata": {},
     "execution_count": 8
    }
   ],
   "cell_type": "code",
   "source": [
    "posterior = TransformVariables.transform.(Ref(problem_transformation(p)), get_position.(chain));\n",
    "posterior[1:5]"
   ],
   "metadata": {},
   "execution_count": 8
  },
  {
   "outputs": [],
   "cell_type": "markdown",
   "source": [
    "Extract the parameter posterior means: `β`,"
   ],
   "metadata": {}
  },
  {
   "outputs": [
    {
     "output_type": "execute_result",
     "data": {
      "text/plain": "2-element Array{Float64,1}:\n 1.5826527798528935\n 0.410337188397377 "
     },
     "metadata": {},
     "execution_count": 9
    }
   ],
   "cell_type": "code",
   "source": [
    "posterior_β = mean(first, posterior)"
   ],
   "metadata": {},
   "execution_count": 9
  },
  {
   "outputs": [],
   "cell_type": "markdown",
   "source": [
    "Extract the parameter posterior means: `β`,"
   ],
   "metadata": {}
  },
  {
   "outputs": [
    {
     "output_type": "execute_result",
     "data": {
      "text/plain": "7-element Array{Float64,1}:\n -2.0307828947719817\n 10.298449963678966 \n -2.333207641903682 \n -2.342844814127306 \n -2.0108600036437103\n -1.0969388840935768\n  0.4554782972748711"
     },
     "metadata": {},
     "execution_count": 10
    }
   ],
   "cell_type": "code",
   "source": [
    "posterior_α = mean(last, posterior)"
   ],
   "metadata": {},
   "execution_count": 10
  },
  {
   "outputs": [],
   "cell_type": "markdown",
   "source": [
    "Effective sample sizes (of untransformed draws)"
   ],
   "metadata": {}
  },
  {
   "outputs": [
    {
     "output_type": "execute_result",
     "data": {
      "text/plain": "1×9 Array{Float64,2}:\n 643.768  1000.0  647.504  376.221  …  643.916  639.979  650.908  641.31"
     },
     "metadata": {},
     "execution_count": 11
    }
   ],
   "cell_type": "code",
   "source": [
    "ess = mapslices(effective_sample_size, get_position_matrix(chain); dims = 1)\n",
    "ess"
   ],
   "metadata": {},
   "execution_count": 11
  },
  {
   "outputs": [],
   "cell_type": "markdown",
   "source": [
    "NUTS-specific statistics"
   ],
   "metadata": {}
  },
  {
   "outputs": [
    {
     "output_type": "execute_result",
     "data": {
      "text/plain": "Hamiltonian Monte Carlo sample of length 1000\n  acceptance rate mean: 0.92, min/25%/median/75%/max: 0.01 0.89 0.96 0.99 1.0\n  termination: AdjacentDivergent => 0% AdjacentTurn => 24% DoubledTurn => 76%\n  depth: 2 => 1% 3 => 43% 4 => 56% 5 => 0%\n"
     },
     "metadata": {},
     "execution_count": 12
    }
   ],
   "cell_type": "code",
   "source": [
    "NUTS_statistics(chain)"
   ],
   "metadata": {},
   "execution_count": 12
  },
  {
   "outputs": [],
   "cell_type": "markdown",
   "source": [
    "Result rethinking"
   ],
   "metadata": {}
  },
  {
   "outputs": [],
   "cell_type": "code",
   "source": [
    "rethinking = \"\n",
    "Iterations = 1:1000\n",
    "Thinning interval = 1\n",
    "Chains = 1,2,3,4\n",
    "Samples per chain = 1000\n",
    "\n",
    "Empirical Posterior Estimates:\n",
    "        Mean        SD       Naive SE       MCSE      ESS\n",
    "a.1 -0.74503184 0.26613979 0.0042080396 0.0060183398 1000\n",
    "a.2 10.77955494 5.32538998 0.0842018089 0.1269148045 1000\n",
    "a.3 -1.04982353 0.28535997 0.0045119373 0.0049074219 1000\n",
    "a.4 -1.04898135 0.28129307 0.0044476339 0.0056325117 1000\n",
    "a.5 -0.74390933 0.26949936 0.0042611590 0.0052178124 1000\n",
    "a.6  0.21599365 0.26307574 0.0041595927 0.0045153523 1000\n",
    "a.7  1.81090866 0.39318577 0.0062168129 0.0071483527 1000\n",
    " bp  0.83979926 0.26284676 0.0041559722 0.0059795826 1000\n",
    "bpC -0.12913322 0.29935741 0.0047332562 0.0049519863 1000\n",
    "\";"
   ],
   "metadata": {},
   "execution_count": 13
  },
  {
   "outputs": [],
   "cell_type": "markdown",
   "source": [
    "Means of draws"
   ],
   "metadata": {}
  },
  {
   "outputs": [
    {
     "output_type": "execute_result",
     "data": {
      "text/plain": "2-element Array{Array{Float64,1},1}:\n [1.58265, 0.410337]                                                  \n [-2.03078, 10.2984, -2.33321, -2.34284, -2.01086, -1.09694, 0.455478]"
     },
     "metadata": {},
     "execution_count": 14
    }
   ],
   "cell_type": "code",
   "source": [
    "[posterior_β, posterior_α]"
   ],
   "metadata": {},
   "execution_count": 14
  },
  {
   "outputs": [],
   "cell_type": "markdown",
   "source": [
    "End of `10/m10.04d.jl`"
   ],
   "metadata": {}
  },
  {
   "outputs": [],
   "cell_type": "markdown",
   "source": [
    "*This notebook was generated using [Literate.jl](https://github.com/fredrikekre/Literate.jl).*"
   ],
   "metadata": {}
  }
 ],
 "nbformat_minor": 3,
 "metadata": {
  "language_info": {
   "file_extension": ".jl",
   "mimetype": "application/julia",
   "name": "julia",
   "version": "1.2.0-DEV.270"
  },
  "kernelspec": {
   "name": "julia-1.2",
   "display_name": "Julia 1.2.0-DEV.270",
   "language": "julia"
  }
 },
 "nbformat": 4
}
