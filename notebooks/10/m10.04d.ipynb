{
 "cells": [
  {
   "outputs": [],
   "cell_type": "markdown",
   "source": [
    "Load Julia packages (libraries) needed  for the snippets in chapter 0"
   ],
   "metadata": {}
  },
  {
   "outputs": [
    {
     "output_type": "execute_result",
     "data": {
      "text/plain": "MersenneTwister(UInt32[0x00003039], Random.DSFMT.DSFMT_state(Int32[-870096391, 1072918504, -1812426662, 1073255081, -733866021, 1073404543, 807620846, 1073368448, 1919433844, 1072852359  …  -362113007, 1073100625, -166402106, 1073460158, -1907020342, 721295190, -750225566, -1300227565, 382, 0]), [0.0, 0.0, 0.0, 0.0, 0.0, 0.0, 0.0, 0.0, 0.0, 0.0  …  0.0, 0.0, 0.0, 0.0, 0.0, 0.0, 0.0, 0.0, 0.0, 0.0], UInt128[0x00000000000000000000000000000000, 0x00000000000000000000000000000000, 0x00000000000000000000000000000000, 0x00000000000000000000000000000000, 0x00000000000000000000000000000000, 0x00000000000000000000000000000000, 0x00000000000000000000000000000000, 0x00000000000000000000000000000000, 0x00000000000000000000000000000000, 0x00000000000000000000000000000000  …  0x00000000000000000000000000000000, 0x00000000000000000000000000000000, 0x00000000000000000000000000000000, 0x00000000000000000000000000000000, 0x00000000000000000000000000000000, 0x00000000000000000000000000000000, 0x00000000000000000000000000000000, 0x00000000000000000000000000000000, 0x00000000000000000000000000000000, 0x00000000000000000000000000000000], 1002, 0)"
     },
     "metadata": {},
     "execution_count": 1
    }
   ],
   "cell_type": "code",
   "source": [
    "using DynamicHMCModels, Random\n",
    "Random.seed!(12345)"
   ],
   "metadata": {},
   "execution_count": 1
  },
  {
   "outputs": [],
   "cell_type": "markdown",
   "source": [
    "CmdStan uses a tmp directory to store the output of cmdstan"
   ],
   "metadata": {}
  },
  {
   "outputs": [],
   "cell_type": "code",
   "source": [
    "ProjDir = rel_path_d(\"..\", \"scripts\", \"10\")\n",
    "cd(ProjDir)"
   ],
   "metadata": {},
   "execution_count": 2
  },
  {
   "outputs": [],
   "cell_type": "markdown",
   "source": [
    "### snippet 10.4"
   ],
   "metadata": {}
  },
  {
   "outputs": [],
   "cell_type": "code",
   "source": [
    "d = CSV.read(rel_path(\"..\", \"data\", \"chimpanzees.csv\"), delim=';');\n",
    "df = convert(DataFrame, d);\n",
    "df[!, :pulled_left] = convert(Array{Int64}, df[!, :pulled_left])\n",
    "df[!, :prosoc_left] = convert(Array{Int64}, df[!, :prosoc_left])\n",
    "df[!, :condition] = convert(Array{Int64}, df[!, :condition])\n",
    "df[!, :actor] = convert(Array{Int64}, df[!, :actor])\n",
    "first(df, 5)\n",
    "\n",
    "struct m_10_04d_model{TY <: AbstractVector, TX <: AbstractMatrix,\n",
    "  TA <: AbstractVector}\n",
    "    \"Observations.\"\n",
    "    y::TY\n",
    "    \"Covariates\"\n",
    "    X::TX\n",
    "    \"Actors\"\n",
    "    A::TA\n",
    "    \"Number of observations\"\n",
    "    N::Int\n",
    "    \"Number of unique actors\"\n",
    "    N_actors::Int\n",
    "end"
   ],
   "metadata": {},
   "execution_count": 3
  },
  {
   "outputs": [],
   "cell_type": "markdown",
   "source": [
    "Make the type callable with the parameters *as a single argument*."
   ],
   "metadata": {}
  },
  {
   "outputs": [],
   "cell_type": "code",
   "source": [
    "function (problem::m_10_04d_model)(θ)\n",
    "    @unpack y, X, A, N, N_actors = problem   # extract the data\n",
    "    @unpack β, α = θ  # works on the named tuple too\n",
    "    ll = 0.0\n",
    "    ll += sum(logpdf.(Normal(0, 10), β)) # bp & bpC\n",
    "    ll += sum(logpdf.(Normal(0, 10), α)) # alpha[1:7]\n",
    "    ll += sum(\n",
    "      [loglikelihood(Binomial(1, logistic(α[A[i]] + dot(X[i, :], β))), [y[i]]) for i in 1:N]\n",
    "    )\n",
    "    ll\n",
    "end"
   ],
   "metadata": {},
   "execution_count": 4
  },
  {
   "outputs": [],
   "cell_type": "markdown",
   "source": [
    "Instantiate the model with data and inits."
   ],
   "metadata": {}
  },
  {
   "outputs": [
    {
     "output_type": "execute_result",
     "data": {
      "text/plain": "-305.21943396408915"
     },
     "metadata": {},
     "execution_count": 5
    }
   ],
   "cell_type": "code",
   "source": [
    "N = size(df, 1)\n",
    "N_actors = length(unique(df[!, :actor]))\n",
    "X = hcat(ones(Int64, N), df[!, :prosoc_left] .* df[!, :condition]);\n",
    "A = df[!, :actor]\n",
    "y = df[!, :pulled_left]\n",
    "p = m_10_04d_model(y, X, A, N, N_actors);\n",
    "θ = (β = [1.0, 0.0], α = [-1.0, 10.0, -1.0, -1.0, -1.0, 0.0, 2.0])\n",
    "p(θ)"
   ],
   "metadata": {},
   "execution_count": 5
  },
  {
   "outputs": [],
   "cell_type": "markdown",
   "source": [
    "Write a function to return properly dimensioned transformation."
   ],
   "metadata": {}
  },
  {
   "outputs": [
    {
     "output_type": "execute_result",
     "data": {
      "text/plain": "problem_transformation (generic function with 1 method)"
     },
     "metadata": {},
     "execution_count": 6
    }
   ],
   "cell_type": "code",
   "source": [
    "problem_transformation(p::m_10_04d_model) =\n",
    "    as( (β = as(Array, size(p.X, 2)), α = as(Array, p.N_actors), ) )"
   ],
   "metadata": {},
   "execution_count": 6
  },
  {
   "outputs": [],
   "cell_type": "markdown",
   "source": [
    "Wrap the problem with a transformation, then use Flux for the gradient."
   ],
   "metadata": {}
  },
  {
   "outputs": [],
   "cell_type": "code",
   "source": [
    "P = TransformedLogDensity(problem_transformation(p), p)\n",
    "∇P = LogDensityRejectErrors(ADgradient(:ForwardDiff, P));\n",
    "#∇P = ADgradient(:ForwardDiff, P);\n",
    "\n",
    "#import Zygote\n",
    "#∇P = LogDensityRejectErrors(ADgradient(:Zygote, P));\n",
    "#∇P = ADgradient(:Zygote, P);"
   ],
   "metadata": {},
   "execution_count": 7
  },
  {
   "outputs": [],
   "cell_type": "markdown",
   "source": [
    "Tune and sample."
   ],
   "metadata": {}
  },
  {
   "outputs": [
    {
     "name": "stdout",
     "output_type": "stream",
     "text": [
      "MCMC, adapting ϵ (75 steps)\n",
      "0.013 s/step ...done\n",
      "MCMC, adapting ϵ (25 steps)\n",
      "0.022 s/step ...done\n",
      "MCMC, adapting ϵ (50 steps)\n",
      "0.0048 s/step ...done\n",
      "MCMC, adapting ϵ (100 steps)\n",
      "0.0039 s/step ...done\n",
      "MCMC, adapting ϵ (200 steps)\n",
      "0.0035 s/step ...done\n",
      "MCMC, adapting ϵ (400 steps)\n",
      "step 367 (of 400), 0.0027 s/step\n",
      "0.0027 s/step ...done\n",
      "MCMC, adapting ϵ (50 steps)\n",
      "0.0033 s/step ...done\n",
      "MCMC (1000 steps)\n",
      "step 345 (of 1000), 0.0029 s/step\n",
      "step 707 (of 1000), 0.0028 s/step\n",
      "0.0029 s/step ...done\n",
      "  8.298274 seconds (42.19 M allocations: 4.935 GiB, 12.81% gc time)\n"
     ]
    }
   ],
   "cell_type": "code",
   "source": [
    "@time chain, NUTS_tuned = NUTS_init_tune_mcmc(∇P, 1000);"
   ],
   "metadata": {},
   "execution_count": 8
  },
  {
   "outputs": [],
   "cell_type": "markdown",
   "source": [
    "We use the transformation to obtain the posterior from the chain."
   ],
   "metadata": {}
  },
  {
   "outputs": [
    {
     "output_type": "execute_result",
     "data": {
      "text/plain": "5-element Array{NamedTuple{(:β, :α),Tuple{Array{Float64,1},Array{Float64,1}}},1}:\n (β = [4.805608442141108, 0.2389779757501151], α = [-5.4228120431192135, 21.102838682057858, -5.087605475240926, -5.339686571980073, -5.239935978535041, -4.187801436108223, -2.196616929378975]) \n (β = [3.1779855333330698, 0.5965490813806572], α = [-3.332679123628399, 22.4757391092144, -4.052102062224823, -4.302760278141705, -3.5144792187419234, -2.9698061668305353, -0.9186563627898878])\n (β = [3.6751239531827453, 0.5510236952460794], α = [-4.006795241697499, 17.439170211065864, -4.428966426100576, -4.43289953739397, -3.92856451258628, -3.195481244391613, -1.7185600988784437])  \n (β = [6.811143293480398, 0.2662578097605355], α = [-7.316318256645592, 2.853053665655831, -7.543343290655876, -7.55305997384782, -7.380809100313019, -6.3777111648238165, -4.189699859996347])   \n (β = [-4.431487462956057, 0.45030287799194935], α = [4.0152969847455955, 12.178060714384907, 3.4452039433839743, 3.6231689167024097, 3.6010109315830148, 4.893472780944509, 5.919666770432145])  "
     },
     "metadata": {},
     "execution_count": 9
    }
   ],
   "cell_type": "code",
   "source": [
    "posterior = TransformVariables.transform.(Ref(problem_transformation(p)), get_position.(chain));\n",
    "posterior[1:5]"
   ],
   "metadata": {},
   "execution_count": 9
  },
  {
   "outputs": [],
   "cell_type": "markdown",
   "source": [
    "Extract the parameter posterior means: `β`,"
   ],
   "metadata": {}
  },
  {
   "outputs": [
    {
     "output_type": "execute_result",
     "data": {
      "text/plain": "2-element Array{Float64,1}:\n 1.451237768661092 \n 0.4233537383099833"
     },
     "metadata": {},
     "execution_count": 10
    }
   ],
   "cell_type": "code",
   "source": [
    "posterior_β = mean(first, posterior)"
   ],
   "metadata": {},
   "execution_count": 10
  },
  {
   "outputs": [],
   "cell_type": "markdown",
   "source": [
    "Extract the parameter posterior means: `β`,"
   ],
   "metadata": {}
  },
  {
   "outputs": [
    {
     "output_type": "execute_result",
     "data": {
      "text/plain": "7-element Array{Float64,1}:\n -1.9000576019113276\n 10.145744904561283 \n -2.194854907777116 \n -2.183382830567691 \n -1.9048052110036864\n -0.971437677726311 \n  0.5935301675225381"
     },
     "metadata": {},
     "execution_count": 11
    }
   ],
   "cell_type": "code",
   "source": [
    "posterior_α = mean(last, posterior)"
   ],
   "metadata": {},
   "execution_count": 11
  },
  {
   "outputs": [],
   "cell_type": "markdown",
   "source": [
    "Effective sample sizes (of untransformed draws)"
   ],
   "metadata": {}
  },
  {
   "outputs": [
    {
     "output_type": "execute_result",
     "data": {
      "text/plain": "1×9 Array{Float64,2}:\n 393.489  1000.0  399.712  261.483  …  394.444  403.401  395.341  396.188"
     },
     "metadata": {},
     "execution_count": 12
    }
   ],
   "cell_type": "code",
   "source": [
    "ess = mapslices(effective_sample_size, get_position_matrix(chain); dims = 1)\n",
    "ess"
   ],
   "metadata": {},
   "execution_count": 12
  },
  {
   "outputs": [],
   "cell_type": "markdown",
   "source": [
    "NUTS-specific statistics"
   ],
   "metadata": {}
  },
  {
   "outputs": [
    {
     "output_type": "execute_result",
     "data": {
      "text/plain": "Hamiltonian Monte Carlo sample of length 1000\n  acceptance rate mean: 0.91, min/25%/median/75%/max: 0.0 0.89 0.96 0.99 1.0\n  termination: AdjacentDivergent => 2% AdjacentTurn => 32% DoubledTurn => 66%\n  depth: 0 => 0% 1 => 0% 2 => 2% 3 => 58% 4 => 39% 5 => 1% 6 => 0%\n"
     },
     "metadata": {},
     "execution_count": 13
    }
   ],
   "cell_type": "code",
   "source": [
    "NUTS_statistics(chain)"
   ],
   "metadata": {},
   "execution_count": 13
  },
  {
   "outputs": [],
   "cell_type": "markdown",
   "source": [
    "Result rethinking"
   ],
   "metadata": {}
  },
  {
   "outputs": [],
   "cell_type": "code",
   "source": [
    "rethinking = \"\n",
    "Iterations = 1:1000\n",
    "Thinning interval = 1\n",
    "Chains = 1,2,3,4\n",
    "Samples per chain = 1000\n",
    "\n",
    "Empirical Posterior Estimates:\n",
    "        Mean        SD       Naive SE       MCSE      ESS\n",
    "a.1 -0.74503184 0.26613979 0.0042080396 0.0060183398 1000\n",
    "a.2 10.77955494 5.32538998 0.0842018089 0.1269148045 1000\n",
    "a.3 -1.04982353 0.28535997 0.0045119373 0.0049074219 1000\n",
    "a.4 -1.04898135 0.28129307 0.0044476339 0.0056325117 1000\n",
    "a.5 -0.74390933 0.26949936 0.0042611590 0.0052178124 1000\n",
    "a.6  0.21599365 0.26307574 0.0041595927 0.0045153523 1000\n",
    "a.7  1.81090866 0.39318577 0.0062168129 0.0071483527 1000\n",
    " bp  0.83979926 0.26284676 0.0041559722 0.0059795826 1000\n",
    "bpC -0.12913322 0.29935741 0.0047332562 0.0049519863 1000\n",
    "\";"
   ],
   "metadata": {},
   "execution_count": 14
  },
  {
   "outputs": [],
   "cell_type": "markdown",
   "source": [
    "Means of draws"
   ],
   "metadata": {}
  },
  {
   "outputs": [
    {
     "output_type": "execute_result",
     "data": {
      "text/plain": "2-element Array{Array{Float64,1},1}:\n [1.451237768661092, 0.4233537383099833]                                                                                                       \n [-1.9000576019113276, 10.145744904561283, -2.194854907777116, -2.183382830567691, -1.9048052110036864, -0.971437677726311, 0.5935301675225381]"
     },
     "metadata": {},
     "execution_count": 15
    }
   ],
   "cell_type": "code",
   "source": [
    "[posterior_β, posterior_α]"
   ],
   "metadata": {},
   "execution_count": 15
  },
  {
   "outputs": [],
   "cell_type": "markdown",
   "source": [
    "End of `10/m10.04d.jl`"
   ],
   "metadata": {}
  },
  {
   "outputs": [],
   "cell_type": "markdown",
   "source": [
    "*This notebook was generated using [Literate.jl](https://github.com/fredrikekre/Literate.jl).*"
   ],
   "metadata": {}
  }
 ],
 "nbformat_minor": 3,
 "metadata": {
  "language_info": {
   "file_extension": ".jl",
   "mimetype": "application/julia",
   "name": "julia",
   "version": "1.3.0-alpha.8"
  },
  "kernelspec": {
   "name": "julia-1.3",
   "display_name": "Julia 1.3.0-alpha.8",
   "language": "julia"
  }
 },
 "nbformat": 4
}
