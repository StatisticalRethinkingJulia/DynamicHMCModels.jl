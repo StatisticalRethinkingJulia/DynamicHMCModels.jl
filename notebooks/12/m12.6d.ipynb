{
 "cells": [
  {
   "outputs": [
    {
     "output_type": "execute_result",
     "data": {
      "text/plain": "(10, 5)"
     },
     "metadata": {},
     "execution_count": 1
    }
   ],
   "cell_type": "code",
   "source": [
    "using DynamicHMCModels\n",
    "\n",
    "ProjDir = rel_path_d(\"..\", \"scripts\", \"12\")\n",
    "\n",
    "df = CSV.read(rel_path( \"..\", \"data\",  \"Kline.csv\"), delim=';');\n",
    "size(df) # Should be 10x5"
   ],
   "metadata": {},
   "execution_count": 1
  },
  {
   "outputs": [],
   "cell_type": "markdown",
   "source": [
    "New col logpop, set log() for population data"
   ],
   "metadata": {}
  },
  {
   "outputs": [],
   "cell_type": "code",
   "source": [
    "df[:logpop] = map((x) -> log(x), df[:population]);\n",
    "df[:society] = 1:10;\n",
    "\n",
    "first(df[[:total_tools, :logpop, :society]], 5)\n",
    "\n",
    "struct m_12_06d_model{TY <: AbstractVector, TX <: AbstractMatrix,\n",
    "  TS <: AbstractVector}\n",
    "    \"Observations (total_tools).\"\n",
    "    y::TY\n",
    "    \"Covariates (logpop)\"\n",
    "    X::TX\n",
    "    \"Society\"\n",
    "    S::TS\n",
    "    \"Number of observations (10)\"\n",
    "    N::Int\n",
    "    \"Number of societies (also 10)\"\n",
    "    N_societies::Int\n",
    "end"
   ],
   "metadata": {},
   "execution_count": 2
  },
  {
   "outputs": [],
   "cell_type": "markdown",
   "source": [
    "Make the type callable with the parameters *as a single argument*."
   ],
   "metadata": {}
  },
  {
   "outputs": [],
   "cell_type": "code",
   "source": [
    "function (problem::m_12_06d_model)(θ)\n",
    "    @unpack y, X, S, N, N_societies = problem   # extract the data\n",
    "    @unpack β, α, σ = θ  # β : a, bp, α : a_society\n",
    "    ll = 0.0\n",
    "    ll += logpdf(Cauchy(0, 1), σ)\n",
    "    ll += sum(logpdf.(Normal(0, σ), α)) # α[1:10]\n",
    "    ll += sum(logpdf.(Normal(0, 10), β[1])) # a\n",
    "    ll += sum(logpdf.(Normal(0, 1), β[2])) # a\n",
    "    ll += sum(\n",
    "      [loglikelihood(Poisson(exp(α[S[i]] + dot(X[i, :], β))), [y[i]]) for i in 1:N]\n",
    "    )\n",
    "    ll\n",
    "end"
   ],
   "metadata": {},
   "execution_count": 3
  },
  {
   "outputs": [],
   "cell_type": "markdown",
   "source": [
    "Instantiate the model with data and inits."
   ],
   "metadata": {}
  },
  {
   "outputs": [
    {
     "output_type": "execute_result",
     "data": {
      "text/plain": "-536.0408736071042"
     },
     "metadata": {},
     "execution_count": 4
    }
   ],
   "cell_type": "code",
   "source": [
    "N = size(df, 1)\n",
    "N_societies = length(unique(df[:society]))\n",
    "X = hcat(ones(Int64, N), df[:logpop]);\n",
    "S = df[:society]\n",
    "y = df[:total_tools]\n",
    "p = m_12_06d_model(y, X, S, N, N_societies);\n",
    "θ = (β = [1.0, 0.25], α = rand(Normal(0, 1), N_societies), σ = 0.2)\n",
    "p(θ)"
   ],
   "metadata": {},
   "execution_count": 4
  },
  {
   "outputs": [],
   "cell_type": "markdown",
   "source": [
    "Write a function to return properly dimensioned transformation."
   ],
   "metadata": {}
  },
  {
   "outputs": [],
   "cell_type": "code",
   "source": [
    "problem_transformation(p::m_12_06d_model) =\n",
    "    as( (β = as(Array, size(p.X, 2)), α = as(Array, p.N_societies), σ = asℝ₊) )\n",
    "# Wrap the problem with a transformation, then use Flux for the gradient.\n",
    "P = TransformedLogDensity(problem_transformation(p), p)\n",
    "∇P = LogDensityRejectErrors(ADgradient(:ForwardDiff, P));"
   ],
   "metadata": {},
   "execution_count": 5
  },
  {
   "outputs": [],
   "cell_type": "markdown",
   "source": [
    "Tune and sample."
   ],
   "metadata": {}
  },
  {
   "outputs": [
    {
     "name": "stdout",
     "output_type": "stream",
     "text": [
      "MCMC, adapting ϵ (75 steps)\n",
      "0.0033 s/step ...done\n",
      "MCMC, adapting ϵ (25 steps)\n",
      "0.0034 s/step ...done\n",
      "MCMC, adapting ϵ (50 steps)\n",
      "0.0043 s/step ...done\n",
      "MCMC, adapting ϵ (100 steps)\n",
      "0.0014 s/step ...done\n",
      "MCMC, adapting ϵ (200 steps)\n",
      "0.00091 s/step ...done\n",
      "MCMC, adapting ϵ (400 steps)\n",
      "0.00052 s/step ...done\n",
      "MCMC, adapting ϵ (50 steps)\n",
      "0.00069 s/step ...done\n",
      "MCMC (1000 steps)\n",
      "0.00044 s/step ...done\n"
     ]
    }
   ],
   "cell_type": "code",
   "source": [
    "chain, NUTS_tuned = NUTS_init_tune_mcmc(∇P, 1000);"
   ],
   "metadata": {},
   "execution_count": 6
  },
  {
   "outputs": [],
   "cell_type": "markdown",
   "source": [
    "We use the transformation to obtain the posterior from the chain."
   ],
   "metadata": {}
  },
  {
   "outputs": [
    {
     "output_type": "execute_result",
     "data": {
      "text/plain": "5-element Array{NamedTuple{(:β, :α, :σ),Tuple{Array{Float64,1},Array{Float64,1},Float64}},1}:\n (β = [0.939039, 0.273465], α = [-0.0748941, 0.0052093, -0.0445253, 0.436528, 0.187228, -0.29802, 0.123771, -0.215645, 0.25479, -0.0771457], σ = 0.18228236251390034) \n (β = [1.71599, 0.203146], α = [-0.234635, -0.264868, -0.282514, 0.285414, 0.130338, -0.31556, 0.271261, -0.0942343, 0.0687858, -0.0477784], σ = 0.22221843458536372) \n (β = [1.07141, 0.275229], α = [-0.268512, -0.00435238, 0.0809056, 0.254328, 0.207472, -0.0720642, 0.185117, -0.186343, 0.251799, -0.050645], σ = 0.15442596247296356)\n (β = [0.853951, 0.290153], α = [0.0981027, -0.213049, -0.124455, 0.249513, -0.0990185, -0.56262, 0.255656, -0.146937, 0.292602, -0.179872], σ = 0.3114247759519574)  \n (β = [0.747731, 0.314632], α = [0.11763, -0.126025, -0.0280848, 0.289462, -0.0448885, -0.524095, 0.263576, -0.172065, 0.290963, -0.195743], σ = 0.23433419493598986) "
     },
     "metadata": {},
     "execution_count": 7
    }
   ],
   "cell_type": "code",
   "source": [
    "posterior = TransformVariables.transform.(Ref(problem_transformation(p)), get_position.(chain));\n",
    "posterior[1:5]"
   ],
   "metadata": {},
   "execution_count": 7
  },
  {
   "outputs": [],
   "cell_type": "markdown",
   "source": [
    "Extract the parameter posterior means."
   ],
   "metadata": {}
  },
  {
   "outputs": [
    {
     "output_type": "execute_result",
     "data": {
      "text/plain": "0.3005021269124764"
     },
     "metadata": {},
     "execution_count": 8
    }
   ],
   "cell_type": "code",
   "source": [
    "posterior_β = mean(posterior[i].β for i in 1:length(posterior))\n",
    "posterior_α = mean(posterior[i].α for i in 1:length(posterior))\n",
    "posterior_σ = mean(posterior[i].σ for i in 1:length(posterior))"
   ],
   "metadata": {},
   "execution_count": 8
  },
  {
   "outputs": [],
   "cell_type": "markdown",
   "source": [
    "Effective sample sizes (of untransformed draws)"
   ],
   "metadata": {}
  },
  {
   "outputs": [
    {
     "output_type": "execute_result",
     "data": {
      "text/plain": "1×13 Array{Float64,2}:\n 868.419  893.628  985.836  1000.0  …  1000.0  1000.0  1000.0  332.542"
     },
     "metadata": {},
     "execution_count": 9
    }
   ],
   "cell_type": "code",
   "source": [
    "ess = mapslices(effective_sample_size, get_position_matrix(chain); dims = 1)\n",
    "ess"
   ],
   "metadata": {},
   "execution_count": 9
  },
  {
   "outputs": [],
   "cell_type": "markdown",
   "source": [
    "NUTS-specific statistics"
   ],
   "metadata": {}
  },
  {
   "outputs": [
    {
     "output_type": "execute_result",
     "data": {
      "text/plain": "Hamiltonian Monte Carlo sample of length 1000\n  acceptance rate mean: 0.95, min/25%/median/75%/max: 0.51 0.93 0.97 0.99 1.0\n  termination: AdjacentTurn => 10% DoubledTurn => 90%\n  depth: 3 => 4% 4 => 94% 5 => 2%\n"
     },
     "metadata": {},
     "execution_count": 10
    }
   ],
   "cell_type": "code",
   "source": [
    "NUTS_statistics(chain)"
   ],
   "metadata": {},
   "execution_count": 10
  },
  {
   "outputs": [],
   "cell_type": "markdown",
   "source": [
    "CmdStan result"
   ],
   "metadata": {}
  },
  {
   "outputs": [],
   "cell_type": "code",
   "source": [
    "m_12_6_result = \"\n",
    "Iterations = 1:1000\n",
    "Thinning interval = 1\n",
    "Chains = 1,2,3,4\n",
    "Samples per chain = 1000\n",
    "\n",
    "Empirical Posterior Estimates:\n",
    "                            Mean                SD               Naive SE             MCSE            ESS\n",
    "            a          1.076167468  0.7704872560 0.01218247319 0.0210530022 1000.000000\n",
    "           bp         0.263056273  0.0823415805 0.00130193470 0.0022645077 1000.000000\n",
    "  a_society.1   -0.191723568  0.2421382537 0.00382854195 0.0060563054 1000.000000\n",
    "  a_society.2    0.054569029  0.2278506876 0.00360263570 0.0051693148 1000.000000\n",
    "  a_society.3   -0.035935050  0.1926364647 0.00304584994 0.0039948433 1000.000000\n",
    "  a_society.4    0.334355037  0.1929971201 0.00305155241 0.0063871707  913.029080\n",
    "  a_society.5    0.049747513  0.1801287716 0.00284808595 0.0043631095 1000.000000\n",
    "  a_society.6   -0.311903245  0.2096126337 0.00331426674 0.0053000536 1000.000000\n",
    "  a_society.7    0.148637507  0.1744680594 0.00275858223 0.0047660246 1000.000000\n",
    "  a_society.8   -0.164567976  0.1821341074 0.00287979309 0.0034297298 1000.000000\n",
    "  a_society.9    0.277066965  0.1758237250 0.00278001719 0.0055844175  991.286501\n",
    " a_society.10   -0.094149204  0.2846206232 0.00450024719 0.0080735022 1000.000000\n",
    "sigma_society    0.310352849  0.1374834682 0.00217380450 0.0057325226  575.187461\n",
    "\";"
   ],
   "metadata": {},
   "execution_count": 11
  },
  {
   "outputs": [],
   "cell_type": "markdown",
   "source": [
    "Show means"
   ],
   "metadata": {}
  },
  {
   "outputs": [
    {
     "output_type": "execute_result",
     "data": {
      "text/plain": "3-element Array{Any,1}:\n  [1.13762, 0.257758]                                                                                          \n  [-0.206383, 0.0303164, -0.0610846, 0.324419, 0.0357244, -0.312833, 0.140109, -0.168552, 0.265996, -0.0934146]\n 0.3005021269124764                                                                                            "
     },
     "metadata": {},
     "execution_count": 12
    }
   ],
   "cell_type": "code",
   "source": [
    "[posterior_β, posterior_α, posterior_σ]"
   ],
   "metadata": {},
   "execution_count": 12
  },
  {
   "outputs": [],
   "cell_type": "markdown",
   "source": [
    "End of m12.6d.jl"
   ],
   "metadata": {}
  },
  {
   "outputs": [],
   "cell_type": "markdown",
   "source": [
    "*This notebook was generated using [Literate.jl](https://github.com/fredrikekre/Literate.jl).*"
   ],
   "metadata": {}
  }
 ],
 "nbformat_minor": 3,
 "metadata": {
  "language_info": {
   "file_extension": ".jl",
   "mimetype": "application/julia",
   "name": "julia",
   "version": "1.1.0"
  },
  "kernelspec": {
   "name": "julia-1.1",
   "display_name": "Julia 1.1.0",
   "language": "julia"
  }
 },
 "nbformat": 4
}
