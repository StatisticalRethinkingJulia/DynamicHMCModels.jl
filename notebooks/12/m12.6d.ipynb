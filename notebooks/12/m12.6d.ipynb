{
 "cells": [
  {
   "outputs": [
    {
     "output_type": "execute_result",
     "data": {
      "text/plain": "(10, 5)"
     },
     "metadata": {},
     "execution_count": 1
    }
   ],
   "cell_type": "code",
   "source": [
    "using DynamicHMCModels\n",
    "\n",
    "ProjDir = rel_path_d(\"..\", \"scripts\", \"12\")\n",
    "\n",
    "df = CSV.read(rel_path( \"..\", \"data\",  \"Kline.csv\"), delim=';');\n",
    "size(df) # Should be 10x5"
   ],
   "metadata": {},
   "execution_count": 1
  },
  {
   "outputs": [],
   "cell_type": "markdown",
   "source": [
    "New col logpop, set log() for population data"
   ],
   "metadata": {}
  },
  {
   "outputs": [],
   "cell_type": "code",
   "source": [
    "df[:logpop] = map((x) -> log(x), df[:population]);\n",
    "df[:society] = 1:10;\n",
    "\n",
    "first(df[[:total_tools, :logpop, :society]], 5)\n",
    "\n",
    "struct m_12_06d_model{TY <: AbstractVector, TX <: AbstractMatrix,\n",
    "  TS <: AbstractVector}\n",
    "    \"Observations (total_tools).\"\n",
    "    y::TY\n",
    "    \"Covariates (logpop)\"\n",
    "    X::TX\n",
    "    \"Society\"\n",
    "    S::TS\n",
    "    \"Number of observations (10)\"\n",
    "    N::Int\n",
    "    \"Number of societies (also 10)\"\n",
    "    N_societies::Int\n",
    "end"
   ],
   "metadata": {},
   "execution_count": 2
  },
  {
   "outputs": [],
   "cell_type": "markdown",
   "source": [
    "Make the type callable with the parameters *as a single argument*."
   ],
   "metadata": {}
  },
  {
   "outputs": [],
   "cell_type": "code",
   "source": [
    "function (problem::m_12_06d_model)(θ)\n",
    "    @unpack y, X, S, N, N_societies = problem   # extract the data\n",
    "    @unpack β, α, σ = θ  # β : a, bp, α : a_society\n",
    "    ll = 0.0\n",
    "    ll += logpdf(Cauchy(0, 1), σ)\n",
    "    ll += sum(logpdf.(Normal(0, σ), α)) # α[1:10]\n",
    "    ll += sum(logpdf.(Normal(0, 10), β[1])) # a\n",
    "    ll += sum(logpdf.(Normal(0, 1), β[2])) # a\n",
    "    ll += sum(\n",
    "      [loglikelihood(Poisson(exp(α[S[i]] + dot(X[i, :], β))), [y[i]]) for i in 1:N]\n",
    "    )\n",
    "    ll\n",
    "end"
   ],
   "metadata": {},
   "execution_count": 3
  },
  {
   "outputs": [],
   "cell_type": "markdown",
   "source": [
    "Instantiate the model with data and inits."
   ],
   "metadata": {}
  },
  {
   "outputs": [
    {
     "output_type": "execute_result",
     "data": {
      "text/plain": "-343.886751153015"
     },
     "metadata": {},
     "execution_count": 4
    }
   ],
   "cell_type": "code",
   "source": [
    "N = size(df, 1)\n",
    "N_societies = length(unique(df[:society]))\n",
    "X = hcat(ones(Int64, N), df[:logpop]);\n",
    "S = df[:society]\n",
    "y = df[:total_tools]\n",
    "p = m_12_06d_model(y, X, S, N, N_societies);\n",
    "θ = (β = [1.0, 0.25], α = rand(Normal(0, 1), N_societies), σ = 0.2)\n",
    "p(θ)"
   ],
   "metadata": {},
   "execution_count": 4
  },
  {
   "outputs": [],
   "cell_type": "markdown",
   "source": [
    "Write a function to return properly dimensioned transformation."
   ],
   "metadata": {}
  },
  {
   "outputs": [],
   "cell_type": "code",
   "source": [
    "problem_transformation(p::m_12_06d_model) =\n",
    "    as( (β = as(Array, size(p.X, 2)), α = as(Array, p.N_societies), σ = asℝ₊) )\n",
    "# Wrap the problem with a transformation, then use Flux for the gradient.\n",
    "P = TransformedLogDensity(problem_transformation(p), p)\n",
    "∇P = LogDensityRejectErrors(ADgradient(:ForwardDiff, P));\n",
    "#∇P = ADgradient(:ForwardDiff, P);"
   ],
   "metadata": {},
   "execution_count": 5
  },
  {
   "outputs": [],
   "cell_type": "markdown",
   "source": [
    "Tune and sample."
   ],
   "metadata": {}
  },
  {
   "outputs": [
    {
     "name": "stdout",
     "output_type": "stream",
     "text": [
      "MCMC, adapting ϵ (75 steps)\n",
      "0.0018 s/step ...done\n",
      "MCMC, adapting ϵ (25 steps)\n",
      "0.0027 s/step ...done\n",
      "MCMC, adapting ϵ (50 steps)\n",
      "0.0026 s/step ...done\n",
      "MCMC, adapting ϵ (100 steps)\n",
      "0.0013 s/step ...done\n",
      "MCMC, adapting ϵ (200 steps)\n",
      "0.00063 s/step ...done\n",
      "MCMC, adapting ϵ (400 steps)\n",
      "0.00044 s/step ...done\n",
      "MCMC, adapting ϵ (50 steps)\n",
      "0.0004 s/step ...done\n",
      "MCMC (1000 steps)\n",
      "0.00041 s/step ...done\n"
     ]
    }
   ],
   "cell_type": "code",
   "source": [
    "chain, NUTS_tuned = NUTS_init_tune_mcmc(∇P, 1000);"
   ],
   "metadata": {},
   "execution_count": 6
  },
  {
   "outputs": [],
   "cell_type": "markdown",
   "source": [
    "We use the transformation to obtain the posterior from the chain."
   ],
   "metadata": {}
  },
  {
   "outputs": [
    {
     "output_type": "execute_result",
     "data": {
      "text/plain": "5-element Array{NamedTuple{(:β, :α, :σ),Tuple{Array{Float64,1},Array{Float64,1},Float64}},1}:\n (β = [0.67241, 0.301183], α = [-0.183229, 0.270681, -0.0307498, 0.386632, 0.248597, -0.25905, -0.010782, -0.328266, 0.314811, -0.0891361], σ = 0.38494921573548035)   \n (β = [1.51479, 0.209675], α = [-0.125667, -0.0430555, -0.0658977, 0.370459, 0.188604, -0.159673, 0.41777, -0.368149, 0.361182, 0.11805], σ = 0.20972882074553492)     \n (β = [1.56114, 0.205465], α = [-0.0849418, 0.0127862, -0.047982, 0.369611, 0.255562, -0.154154, 0.509147, -0.338476, 0.41561, 0.2411], σ = 0.19538527224829222)       \n (β = [0.462974, 0.316918], α = [-0.139035, 0.0556719, 0.0812954, 0.316954, 0.288384, -0.247805, 0.391874, -0.00454889, 0.389447, -0.00967732], σ = 0.4513480493345123)\n (β = [1.79262, 0.180792], α = [-0.242727, -0.257559, -0.045624, 0.10806, 0.164431, 0.0401714, 0.409299, -0.200425, 0.291961, 0.187428], σ = 0.1908141898612518)       "
     },
     "metadata": {},
     "execution_count": 7
    }
   ],
   "cell_type": "code",
   "source": [
    "posterior = TransformVariables.transform.(Ref(problem_transformation(p)), get_position.(chain));\n",
    "posterior[1:5]"
   ],
   "metadata": {},
   "execution_count": 7
  },
  {
   "outputs": [],
   "cell_type": "markdown",
   "source": [
    "Extract the parameter posterior means."
   ],
   "metadata": {}
  },
  {
   "outputs": [
    {
     "output_type": "execute_result",
     "data": {
      "text/plain": "0.3047503112565217"
     },
     "metadata": {},
     "execution_count": 8
    }
   ],
   "cell_type": "code",
   "source": [
    "posterior_β = mean(posterior[i].β for i in 1:length(posterior))\n",
    "posterior_α = mean(posterior[i].α for i in 1:length(posterior))\n",
    "posterior_σ = mean(posterior[i].σ for i in 1:length(posterior))"
   ],
   "metadata": {},
   "execution_count": 8
  },
  {
   "outputs": [],
   "cell_type": "markdown",
   "source": [
    "Effective sample sizes (of untransformed draws)"
   ],
   "metadata": {}
  },
  {
   "outputs": [
    {
     "output_type": "execute_result",
     "data": {
      "text/plain": "1×13 Array{Float64,2}:\n 646.381  727.478  776.575  1000.0  …  996.967  634.171  624.81  449.76"
     },
     "metadata": {},
     "execution_count": 9
    }
   ],
   "cell_type": "code",
   "source": [
    "ess = mapslices(effective_sample_size, get_position_matrix(chain); dims = 1)\n",
    "ess"
   ],
   "metadata": {},
   "execution_count": 9
  },
  {
   "outputs": [],
   "cell_type": "markdown",
   "source": [
    "NUTS-specific statistics"
   ],
   "metadata": {}
  },
  {
   "outputs": [
    {
     "output_type": "execute_result",
     "data": {
      "text/plain": "Hamiltonian Monte Carlo sample of length 1000\n  acceptance rate mean: 0.94, min/25%/median/75%/max: 0.53 0.92 0.97 0.99 1.0\n  termination: AdjacentTurn => 9% DoubledTurn => 91%\n  depth: 3 => 4% 4 => 94% 5 => 2% 6 => 0%\n"
     },
     "metadata": {},
     "execution_count": 10
    }
   ],
   "cell_type": "code",
   "source": [
    "NUTS_statistics(chain)"
   ],
   "metadata": {},
   "execution_count": 10
  },
  {
   "outputs": [],
   "cell_type": "markdown",
   "source": [
    "CmdStan result"
   ],
   "metadata": {}
  },
  {
   "outputs": [],
   "cell_type": "code",
   "source": [
    "m_12_6_result = \"\n",
    "Iterations = 1:1000\n",
    "Thinning interval = 1\n",
    "Chains = 1,2,3,4\n",
    "Samples per chain = 1000\n",
    "\n",
    "Empirical Posterior Estimates:\n",
    "                            Mean                SD               Naive SE             MCSE            ESS\n",
    "            a          1.076167468  0.7704872560 0.01218247319 0.0210530022 1000.000000\n",
    "           bp         0.263056273  0.0823415805 0.00130193470 0.0022645077 1000.000000\n",
    "  a_society.1   -0.191723568  0.2421382537 0.00382854195 0.0060563054 1000.000000\n",
    "  a_society.2    0.054569029  0.2278506876 0.00360263570 0.0051693148 1000.000000\n",
    "  a_society.3   -0.035935050  0.1926364647 0.00304584994 0.0039948433 1000.000000\n",
    "  a_society.4    0.334355037  0.1929971201 0.00305155241 0.0063871707  913.029080\n",
    "  a_society.5    0.049747513  0.1801287716 0.00284808595 0.0043631095 1000.000000\n",
    "  a_society.6   -0.311903245  0.2096126337 0.00331426674 0.0053000536 1000.000000\n",
    "  a_society.7    0.148637507  0.1744680594 0.00275858223 0.0047660246 1000.000000\n",
    "  a_society.8   -0.164567976  0.1821341074 0.00287979309 0.0034297298 1000.000000\n",
    "  a_society.9    0.277066965  0.1758237250 0.00278001719 0.0055844175  991.286501\n",
    " a_society.10   -0.094149204  0.2846206232 0.00450024719 0.0080735022 1000.000000\n",
    "sigma_society    0.310352849  0.1374834682 0.00217380450 0.0057325226  575.187461\n",
    "\";"
   ],
   "metadata": {},
   "execution_count": 11
  },
  {
   "outputs": [],
   "cell_type": "markdown",
   "source": [
    "Show means"
   ],
   "metadata": {}
  },
  {
   "outputs": [
    {
     "output_type": "execute_result",
     "data": {
      "text/plain": "3-element Array{Any,1}:\n  [1.1003, 0.261396]                                                                                          \n  [-0.190581, 0.0412796, -0.046996, 0.326682, 0.0389228, -0.321317, 0.145857, -0.177955, 0.273507, -0.0964698]\n 0.3047503112565217                                                                                           "
     },
     "metadata": {},
     "execution_count": 12
    }
   ],
   "cell_type": "code",
   "source": [
    "[posterior_β, posterior_α, posterior_σ]"
   ],
   "metadata": {},
   "execution_count": 12
  },
  {
   "outputs": [],
   "cell_type": "markdown",
   "source": [
    "End of m12.6d.jl"
   ],
   "metadata": {}
  },
  {
   "outputs": [],
   "cell_type": "markdown",
   "source": [
    "*This notebook was generated using [Literate.jl](https://github.com/fredrikekre/Literate.jl).*"
   ],
   "metadata": {}
  }
 ],
 "nbformat_minor": 3,
 "metadata": {
  "language_info": {
   "file_extension": ".jl",
   "mimetype": "application/julia",
   "name": "julia",
   "version": "1.2.0-DEV.321"
  },
  "kernelspec": {
   "name": "julia-1.2",
   "display_name": "Julia 1.2.0-DEV.321",
   "language": "julia"
  }
 },
 "nbformat": 4
}
