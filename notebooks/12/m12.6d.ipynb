{
 "cells": [
  {
   "outputs": [
    {
     "output_type": "execute_result",
     "data": {
      "text/plain": "(10, 5)"
     },
     "metadata": {},
     "execution_count": 1
    }
   ],
   "cell_type": "code",
   "source": [
    "using DynamicHMCModels\n",
    "\n",
    "ProjDir = rel_path_d(\"..\", \"scripts\", \"12\")\n",
    "\n",
    "df = CSV.read(rel_path( \"..\", \"data\",  \"Kline.csv\"), delim=';');\n",
    "size(df) # Should be 10x5"
   ],
   "metadata": {},
   "execution_count": 1
  },
  {
   "outputs": [],
   "cell_type": "markdown",
   "source": [
    "New col logpop, set log() for population data"
   ],
   "metadata": {}
  },
  {
   "outputs": [],
   "cell_type": "code",
   "source": [
    "df[!, :logpop] = map((x) -> log(x), df[!, :population]);\n",
    "df[!, :society] = 1:10;\n",
    "\n",
    "first(df[!, [:total_tools, :logpop, :society]], 5)\n",
    "\n",
    "struct m_12_06d_model{TY <: AbstractVector, TX <: AbstractMatrix,\n",
    "  TS <: AbstractVector}\n",
    "    \"Observations (total_tools).\"\n",
    "    y::TY\n",
    "    \"Covariates (logpop)\"\n",
    "    X::TX\n",
    "    \"Society\"\n",
    "    S::TS\n",
    "    \"Number of observations (10)\"\n",
    "    N::Int\n",
    "    \"Number of societies (also 10)\"\n",
    "    N_societies::Int\n",
    "end"
   ],
   "metadata": {},
   "execution_count": 2
  },
  {
   "outputs": [],
   "cell_type": "markdown",
   "source": [
    "Make the type callable with the parameters *as a single argument*."
   ],
   "metadata": {}
  },
  {
   "outputs": [],
   "cell_type": "code",
   "source": [
    "function (problem::m_12_06d_model)(θ)\n",
    "    @unpack y, X, S, N, N_societies = problem   # extract the data\n",
    "    @unpack β, α, σ = θ  # β : a, bp, α : a_society\n",
    "    ll = 0.0\n",
    "    ll += logpdf(Cauchy(0, 1), σ)\n",
    "    ll += sum(logpdf.(Normal(0, σ), α)) # α[1:10]\n",
    "    ll += logpdf.(Normal(0, 10), β[1]) # a\n",
    "    ll += logpdf.(Normal(0, 1), β[2]) # a\n",
    "    ll += sum(\n",
    "      [loglikelihood(Poisson(exp(α[S[i]] + dot(X[i, :], β))), [y[i]]) for i in 1:N]\n",
    "    )\n",
    "    ll\n",
    "end"
   ],
   "metadata": {},
   "execution_count": 3
  },
  {
   "outputs": [],
   "cell_type": "markdown",
   "source": [
    "Instantiate the model with data and inits."
   ],
   "metadata": {}
  },
  {
   "outputs": [
    {
     "output_type": "execute_result",
     "data": {
      "text/plain": "-182.19705519520178"
     },
     "metadata": {},
     "execution_count": 4
    }
   ],
   "cell_type": "code",
   "source": [
    "N = size(df, 1)\n",
    "N_societies = length(unique(df[!, :society]))\n",
    "X = hcat(ones(Int64, N), df[!, :logpop]);\n",
    "S = df[!, :society]\n",
    "y = df[!, :total_tools]\n",
    "p = m_12_06d_model(y, X, S, N, N_societies);\n",
    "θ = (β = [1.0, 0.25], α = rand(Normal(0, 1), N_societies), σ = 0.2)\n",
    "p(θ)"
   ],
   "metadata": {},
   "execution_count": 4
  },
  {
   "outputs": [],
   "cell_type": "markdown",
   "source": [
    "Write a function to return properly dimensioned transformation."
   ],
   "metadata": {}
  },
  {
   "outputs": [
    {
     "output_type": "execute_result",
     "data": {
      "text/plain": "problem_transformation (generic function with 1 method)"
     },
     "metadata": {},
     "execution_count": 5
    }
   ],
   "cell_type": "code",
   "source": [
    "problem_transformation(p::m_12_06d_model) =\n",
    "    as( (β = as(Array, size(p.X, 2)), α = as(Array, p.N_societies), σ = asℝ₊) )"
   ],
   "metadata": {},
   "execution_count": 5
  },
  {
   "outputs": [],
   "cell_type": "markdown",
   "source": [
    "Wrap the problem with a transformation, then use Flux for the gradient."
   ],
   "metadata": {}
  },
  {
   "outputs": [],
   "cell_type": "code",
   "source": [
    "P = TransformedLogDensity(problem_transformation(p), p)\n",
    "#∇P = LogDensityRejectErrors(ADgradient(:ForwardDiff, P));\n",
    "∇P = ADgradient(:ForwardDiff, P);"
   ],
   "metadata": {},
   "execution_count": 6
  },
  {
   "outputs": [],
   "cell_type": "markdown",
   "source": [
    "Tune and sample."
   ],
   "metadata": {}
  },
  {
   "outputs": [
    {
     "name": "stdout",
     "output_type": "stream",
     "text": [
      "MCMC, adapting ϵ (75 steps)\n",
      "0.0039 s/step ...done\n",
      "MCMC, adapting ϵ (25 steps)\n",
      "0.0042 s/step ...done\n",
      "MCMC, adapting ϵ (50 steps)\n",
      "0.0034 s/step ...done\n",
      "MCMC, adapting ϵ (100 steps)\n",
      "0.0017 s/step ...done\n",
      "MCMC, adapting ϵ (200 steps)\n",
      "0.0012 s/step ...done\n",
      "MCMC, adapting ϵ (400 steps)\n",
      "0.00066 s/step ...done\n",
      "MCMC, adapting ϵ (50 steps)\n",
      "0.00062 s/step ...done\n",
      "MCMC (1000 steps)\n",
      "0.00048 s/step ...done\n"
     ]
    }
   ],
   "cell_type": "code",
   "source": [
    "chain, NUTS_tuned = NUTS_init_tune_mcmc(∇P, 1000);"
   ],
   "metadata": {},
   "execution_count": 7
  },
  {
   "outputs": [],
   "cell_type": "markdown",
   "source": [
    "We use the transformation to obtain the posterior from the chain."
   ],
   "metadata": {}
  },
  {
   "outputs": [
    {
     "output_type": "execute_result",
     "data": {
      "text/plain": "5-element Array{NamedTuple{(:β, :α, :σ),Tuple{Array{Float64,1},Array{Float64,1},Float64}},1}:\n (β = [1.2203755612727307, 0.2378165738228704], α = [-0.1237179505928725, 0.11971607222613388, -0.09349239119345844, 0.4749656902667122, 0.06597443540569618, -0.3380957213705037, 0.27339373001931766, 0.012068134741907544, 0.29767652250978444, 0.14878470401886668], σ = 0.2540391369139499)        \n (β = [0.5538654425823543, 0.34991508881851197], α = [-0.49811724919833117, -0.10744907741730066, -0.07401932418409736, -0.020166009851455842, -0.13824806488420466, -0.6387847805565272, -0.19764554139418591, -0.7223177768917445, 0.05570455664277531, -0.8339835586651703], σ = 0.44935783126232953)\n (β = [2.0373566501323603, 0.1386912452201454], α = [-0.5012498284149148, 0.022919737763497094, -0.043114416310875064, 0.5849577882986725, 0.20299285868159506, -0.36385722211363236, 0.4266868281815913, 0.16012573053705398, 0.49487985984057575, 0.46953549477064416], σ = 0.6631257415913456)       \n (β = [-0.27996241177503967, 0.41276506148827247], α = [0.25565801573845864, 0.5623159894141463, 0.13262597038342389, 0.425512418897236, -0.013552135375441976, -0.5032493792020711, 0.391445214643828, -0.24926126717838615, 0.22616933867067426, -0.555979099800734], σ = 0.21624542889086107)        \n (β = [2.7031331837400403, 0.08332294644401146], α = [-0.9839480018480282, -0.3070982477072085, -0.15806428966654823, 0.38620962649378765, -0.03368677829655739, -0.3817598233224514, 0.4493955360871747, -0.18759340058301988, 0.5815769251255268, 0.6445326288799329], σ = 0.5047414266428223)        "
     },
     "metadata": {},
     "execution_count": 8
    }
   ],
   "cell_type": "code",
   "source": [
    "posterior = TransformVariables.transform.(Ref(problem_transformation(p)), get_position.(chain));\n",
    "posterior[1:5]"
   ],
   "metadata": {},
   "execution_count": 8
  },
  {
   "outputs": [],
   "cell_type": "markdown",
   "source": [
    "Extract the parameter posterior means."
   ],
   "metadata": {}
  },
  {
   "outputs": [
    {
     "output_type": "execute_result",
     "data": {
      "text/plain": "0.3162411564068822"
     },
     "metadata": {},
     "execution_count": 9
    }
   ],
   "cell_type": "code",
   "source": [
    "posterior_β = mean(posterior[i].β for i in 1:length(posterior))\n",
    "posterior_α = mean(posterior[i].α for i in 1:length(posterior))\n",
    "posterior_σ = mean(posterior[i].σ for i in 1:length(posterior))"
   ],
   "metadata": {},
   "execution_count": 9
  },
  {
   "outputs": [],
   "cell_type": "markdown",
   "source": [
    "Effective sample sizes (of untransformed draws)"
   ],
   "metadata": {}
  },
  {
   "outputs": [
    {
     "output_type": "execute_result",
     "data": {
      "text/plain": "1×13 Array{Float64,2}:\n 865.901  860.172  1000.0  988.114  …  567.313  554.357  801.263  209.454"
     },
     "metadata": {},
     "execution_count": 10
    }
   ],
   "cell_type": "code",
   "source": [
    "ess = mapslices(effective_sample_size, get_position_matrix(chain); dims = 1)\n",
    "ess"
   ],
   "metadata": {},
   "execution_count": 10
  },
  {
   "outputs": [],
   "cell_type": "markdown",
   "source": [
    "NUTS-specific statistics"
   ],
   "metadata": {}
  },
  {
   "outputs": [
    {
     "output_type": "execute_result",
     "data": {
      "text/plain": "Hamiltonian Monte Carlo sample of length 1000\n  acceptance rate mean: 0.93, min/25%/median/75%/max: 0.01 0.9 0.97 0.99 1.0\n  termination: AdjacentTurn => 8% DoubledTurn => 92%\n  depth: 2 => 0% 3 => 6% 4 => 93% 5 => 0%\n"
     },
     "metadata": {},
     "execution_count": 11
    }
   ],
   "cell_type": "code",
   "source": [
    "NUTS_statistics(chain)"
   ],
   "metadata": {},
   "execution_count": 11
  },
  {
   "outputs": [],
   "cell_type": "markdown",
   "source": [
    "CmdStan result"
   ],
   "metadata": {}
  },
  {
   "outputs": [],
   "cell_type": "code",
   "source": [
    "m_12_6_result = \"\n",
    "Iterations = 1:1000\n",
    "Thinning interval = 1\n",
    "Chains = 1,2,3,4\n",
    "Samples per chain = 1000\n",
    "\n",
    "Empirical Posterior Estimates:\n",
    "                            Mean                SD               Naive SE             MCSE            ESS\n",
    "            a          1.076167468  0.7704872560 0.01218247319 0.0210530022 1000.000000\n",
    "           bp         0.263056273  0.0823415805 0.00130193470 0.0022645077 1000.000000\n",
    "  a_society.1   -0.191723568  0.2421382537 0.00382854195 0.0060563054 1000.000000\n",
    "  a_society.2    0.054569029  0.2278506876 0.00360263570 0.0051693148 1000.000000\n",
    "  a_society.3   -0.035935050  0.1926364647 0.00304584994 0.0039948433 1000.000000\n",
    "  a_society.4    0.334355037  0.1929971201 0.00305155241 0.0063871707  913.029080\n",
    "  a_society.5    0.049747513  0.1801287716 0.00284808595 0.0043631095 1000.000000\n",
    "  a_society.6   -0.311903245  0.2096126337 0.00331426674 0.0053000536 1000.000000\n",
    "  a_society.7    0.148637507  0.1744680594 0.00275858223 0.0047660246 1000.000000\n",
    "  a_society.8   -0.164567976  0.1821341074 0.00287979309 0.0034297298 1000.000000\n",
    "  a_society.9    0.277066965  0.1758237250 0.00278001719 0.0055844175  991.286501\n",
    " a_society.10   -0.094149204  0.2846206232 0.00450024719 0.0080735022 1000.000000\n",
    "sigma_society    0.310352849  0.1374834682 0.00217380450 0.0057325226  575.187461\n",
    "\";"
   ],
   "metadata": {},
   "execution_count": 12
  },
  {
   "outputs": [],
   "cell_type": "markdown",
   "source": [
    "Show means"
   ],
   "metadata": {}
  },
  {
   "outputs": [
    {
     "output_type": "execute_result",
     "data": {
      "text/plain": "3-element Array{Array{Float64,1},1}:\n [1.1138301195940192, 0.25943353128574054]                                                                                                                                                                           \n [-0.1978887526076462, 0.03617271804735259, -0.044314618373848584, 0.3324531582922331, 0.04626053391099113, -0.3121525657507764, 0.1590760067945609, -0.16418496183383896, 0.27710295869553603, -0.08568801581464212]\n [0.3162411564068822]                                                                                                                                                                                                "
     },
     "metadata": {},
     "execution_count": 13
    }
   ],
   "cell_type": "code",
   "source": [
    "[posterior_β, posterior_α, [posterior_σ]]"
   ],
   "metadata": {},
   "execution_count": 13
  },
  {
   "outputs": [],
   "cell_type": "markdown",
   "source": [
    "End of m12.6d.jl"
   ],
   "metadata": {}
  },
  {
   "outputs": [],
   "cell_type": "markdown",
   "source": [
    "*This notebook was generated using [Literate.jl](https://github.com/fredrikekre/Literate.jl).*"
   ],
   "metadata": {}
  }
 ],
 "nbformat_minor": 3,
 "metadata": {
  "language_info": {
   "file_extension": ".jl",
   "mimetype": "application/julia",
   "name": "julia",
   "version": "1.3.0-alpha.8"
  },
  "kernelspec": {
   "name": "julia-1.3",
   "display_name": "Julia 1.3.0-alpha.8",
   "language": "julia"
  }
 },
 "nbformat": 4
}
