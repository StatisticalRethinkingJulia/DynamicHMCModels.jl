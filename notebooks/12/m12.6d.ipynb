{
 "cells": [
  {
   "outputs": [
    {
     "output_type": "execute_result",
     "data": {
      "text/plain": "(10, 5)"
     },
     "metadata": {},
     "execution_count": 1
    }
   ],
   "cell_type": "code",
   "source": [
    "using DynamicHMCModels\n",
    "\n",
    "ProjDir = rel_path_d(\"..\", \"scripts\", \"12\")\n",
    "\n",
    "df = CSV.read(rel_path( \"..\", \"data\",  \"Kline.csv\"), delim=';');\n",
    "size(df) # Should be 10x5"
   ],
   "metadata": {},
   "execution_count": 1
  },
  {
   "outputs": [],
   "cell_type": "markdown",
   "source": [
    "New col logpop, set log() for population data"
   ],
   "metadata": {}
  },
  {
   "outputs": [],
   "cell_type": "code",
   "source": [
    "df[:logpop] = map((x) -> log(x), df[:population]);\n",
    "df[:society] = 1:10;\n",
    "\n",
    "first(df[[:total_tools, :logpop, :society]], 5)\n",
    "\n",
    "struct m_12_06d_model{TY <: AbstractVector, TX <: AbstractMatrix,\n",
    "  TS <: AbstractVector}\n",
    "    \"Observations (total_tools).\"\n",
    "    y::TY\n",
    "    \"Covariates (logpop)\"\n",
    "    X::TX\n",
    "    \"Society\"\n",
    "    S::TS\n",
    "    \"Number of observations (10)\"\n",
    "    N::Int\n",
    "    \"Number of societies (also 10)\"\n",
    "    N_societies::Int\n",
    "end"
   ],
   "metadata": {},
   "execution_count": 2
  },
  {
   "outputs": [],
   "cell_type": "markdown",
   "source": [
    "Make the type callable with the parameters *as a single argument*."
   ],
   "metadata": {}
  },
  {
   "outputs": [],
   "cell_type": "code",
   "source": [
    "function (problem::m_12_06d_model)(θ)\n",
    "    @unpack y, X, S, N, N_societies = problem   # extract the data\n",
    "    @unpack β, α, σ = θ  # β : a, bp, α : a_society\n",
    "    ll = 0.0\n",
    "    ll += logpdf(Cauchy(0, 1), σ)\n",
    "    ll += sum(logpdf.(Normal(0, σ), α)) # α[1:10]\n",
    "    ll += logpdf.(Normal(0, 10), β[1]) # a\n",
    "    ll += logpdf.(Normal(0, 1), β[2]) # a\n",
    "    ll += sum(\n",
    "      [loglikelihood(Poisson(exp(α[S[i]] + dot(X[i, :], β))), [y[i]]) for i in 1:N]\n",
    "    )\n",
    "    ll\n",
    "end"
   ],
   "metadata": {},
   "execution_count": 3
  },
  {
   "outputs": [],
   "cell_type": "markdown",
   "source": [
    "Instantiate the model with data and inits."
   ],
   "metadata": {}
  },
  {
   "outputs": [
    {
     "output_type": "execute_result",
     "data": {
      "text/plain": "-242.9022282091119"
     },
     "metadata": {},
     "execution_count": 4
    }
   ],
   "cell_type": "code",
   "source": [
    "N = size(df, 1)\n",
    "N_societies = length(unique(df[:society]))\n",
    "X = hcat(ones(Int64, N), df[:logpop]);\n",
    "S = df[:society]\n",
    "y = df[:total_tools]\n",
    "p = m_12_06d_model(y, X, S, N, N_societies);\n",
    "θ = (β = [1.0, 0.25], α = rand(Normal(0, 1), N_societies), σ = 0.2)\n",
    "p(θ)"
   ],
   "metadata": {},
   "execution_count": 4
  },
  {
   "outputs": [],
   "cell_type": "markdown",
   "source": [
    "Write a function to return properly dimensioned transformation."
   ],
   "metadata": {}
  },
  {
   "outputs": [],
   "cell_type": "code",
   "source": [
    "problem_transformation(p::m_12_06d_model) =\n",
    "    as( (β = as(Array, size(p.X, 2)), α = as(Array, p.N_societies), σ = asℝ₊) )\n",
    "# Wrap the problem with a transformation, then use Flux for the gradient.\n",
    "P = TransformedLogDensity(problem_transformation(p), p)\n",
    "∇P = LogDensityRejectErrors(ADgradient(:ForwardDiff, P));\n",
    "#∇P = ADgradient(:ForwardDiff, P);"
   ],
   "metadata": {},
   "execution_count": 5
  },
  {
   "outputs": [],
   "cell_type": "markdown",
   "source": [
    "Tune and sample."
   ],
   "metadata": {}
  },
  {
   "outputs": [
    {
     "name": "stdout",
     "output_type": "stream",
     "text": [
      "MCMC, adapting ϵ (75 steps)\n",
      "0.003 s/step ...done\n",
      "MCMC, adapting ϵ (25 steps)\n",
      "0.0035 s/step ...done\n",
      "MCMC, adapting ϵ (50 steps)\n",
      "0.0036 s/step ...done\n",
      "MCMC, adapting ϵ (100 steps)\n",
      "0.0016 s/step ...done\n",
      "MCMC, adapting ϵ (200 steps)\n",
      "0.00074 s/step ...done\n",
      "MCMC, adapting ϵ (400 steps)\n",
      "0.00048 s/step ...done\n",
      "MCMC, adapting ϵ (50 steps)\n",
      "0.00033 s/step ...done\n",
      "MCMC (1000 steps)\n",
      "0.00034 s/step ...done\n"
     ]
    }
   ],
   "cell_type": "code",
   "source": [
    "chain, NUTS_tuned = NUTS_init_tune_mcmc(∇P, 1000);"
   ],
   "metadata": {},
   "execution_count": 6
  },
  {
   "outputs": [],
   "cell_type": "markdown",
   "source": [
    "We use the transformation to obtain the posterior from the chain."
   ],
   "metadata": {}
  },
  {
   "outputs": [
    {
     "output_type": "execute_result",
     "data": {
      "text/plain": "5-element Array{NamedTuple{(:β, :α, :σ),Tuple{Array{Float64,1},Array{Float64,1},Float64}},1}:\n (β = [2.732417138647978, 0.1127490826639533], α = [-0.9367872237607355, -0.5201117375488722, -0.46666982080558367, 0.07648925802348758, -0.14389840330736264, -0.8172026168457225, 0.17841456274554485, -0.2725581225884127, 0.26298966005737306, 0.16333220705568352], σ = 0.5065192357989874)  \n (β = [0.5234399371848654, 0.3267982523628996], α = [0.052914837148009305, -0.05682547224113979, 0.0949255985234548, 0.5883967890719909, -0.133057664501214, -0.3699365944386078, -0.1570899288416014, -0.4851449508506881, 0.1647595287150635, -0.533226086334198], σ = 0.3197575834036804)      \n (β = [0.9668928768259561, 0.2625342945299601], α = [-0.15374519631646294, 0.20414096748211935, 0.20256305111974665, 0.7247815902657849, -0.06733052427826251, -0.564909356422915, 0.20555577953420312, -0.08291901529938603, 0.3335657533604276, -0.24531930893939183], σ = 0.3901342077737331)  \n (β = [0.7364029106623591, 0.28955567835746404], α = [-0.13764024409803444, 0.14819257983100148, -0.06867614947094436, 0.0835096335010893, 0.2984568011951343, -0.17223635268010284, 0.22737732983207543, -0.2258914166043284, 0.4295449166797035, -0.13311482460952195], σ = 0.24526168465589304)\n (β = [1.7414813693817746, 0.1788986126008993], α = [-0.3071105797249018, -0.0062187390624046796, 0.01980383249809494, 0.582472044376374, -0.0881466744765784, -0.49674444329106426, 0.10636696643025638, 0.11640343065451263, 0.25901726643775663, 0.20204387428232487], σ = 0.28924990561774355)"
     },
     "metadata": {},
     "execution_count": 7
    }
   ],
   "cell_type": "code",
   "source": [
    "posterior = TransformVariables.transform.(Ref(problem_transformation(p)), get_position.(chain));\n",
    "posterior[1:5]"
   ],
   "metadata": {},
   "execution_count": 7
  },
  {
   "outputs": [],
   "cell_type": "markdown",
   "source": [
    "Extract the parameter posterior means."
   ],
   "metadata": {}
  },
  {
   "outputs": [
    {
     "output_type": "execute_result",
     "data": {
      "text/plain": "0.3034384449616687"
     },
     "metadata": {},
     "execution_count": 8
    }
   ],
   "cell_type": "code",
   "source": [
    "posterior_β = mean(posterior[i].β for i in 1:length(posterior))\n",
    "posterior_α = mean(posterior[i].α for i in 1:length(posterior))\n",
    "posterior_σ = mean(posterior[i].σ for i in 1:length(posterior))"
   ],
   "metadata": {},
   "execution_count": 8
  },
  {
   "outputs": [],
   "cell_type": "markdown",
   "source": [
    "Effective sample sizes (of untransformed draws)"
   ],
   "metadata": {}
  },
  {
   "outputs": [
    {
     "output_type": "execute_result",
     "data": {
      "text/plain": "1×13 Array{Float64,2}:\n 872.461  846.517  963.326  1000.0  …  877.596  482.21  724.03  58.3527"
     },
     "metadata": {},
     "execution_count": 9
    }
   ],
   "cell_type": "code",
   "source": [
    "ess = mapslices(effective_sample_size, get_position_matrix(chain); dims = 1)\n",
    "ess"
   ],
   "metadata": {},
   "execution_count": 9
  },
  {
   "outputs": [],
   "cell_type": "markdown",
   "source": [
    "NUTS-specific statistics"
   ],
   "metadata": {}
  },
  {
   "outputs": [
    {
     "output_type": "execute_result",
     "data": {
      "text/plain": "Hamiltonian Monte Carlo sample of length 1000\n  acceptance rate mean: 0.87, min/25%/median/75%/max: 0.03 0.84 0.9 0.93 0.97\n  termination: AdjacentTurn => 4% DoubledTurn => 96%\n  depth: 2 => 0% 3 => 7% 4 => 93% 5 => 0%\n"
     },
     "metadata": {},
     "execution_count": 10
    }
   ],
   "cell_type": "code",
   "source": [
    "NUTS_statistics(chain)"
   ],
   "metadata": {},
   "execution_count": 10
  },
  {
   "outputs": [],
   "cell_type": "markdown",
   "source": [
    "CmdStan result"
   ],
   "metadata": {}
  },
  {
   "outputs": [],
   "cell_type": "code",
   "source": [
    "m_12_6_result = \"\n",
    "Iterations = 1:1000\n",
    "Thinning interval = 1\n",
    "Chains = 1,2,3,4\n",
    "Samples per chain = 1000\n",
    "\n",
    "Empirical Posterior Estimates:\n",
    "                            Mean                SD               Naive SE             MCSE            ESS\n",
    "            a          1.076167468  0.7704872560 0.01218247319 0.0210530022 1000.000000\n",
    "           bp         0.263056273  0.0823415805 0.00130193470 0.0022645077 1000.000000\n",
    "  a_society.1   -0.191723568  0.2421382537 0.00382854195 0.0060563054 1000.000000\n",
    "  a_society.2    0.054569029  0.2278506876 0.00360263570 0.0051693148 1000.000000\n",
    "  a_society.3   -0.035935050  0.1926364647 0.00304584994 0.0039948433 1000.000000\n",
    "  a_society.4    0.334355037  0.1929971201 0.00305155241 0.0063871707  913.029080\n",
    "  a_society.5    0.049747513  0.1801287716 0.00284808595 0.0043631095 1000.000000\n",
    "  a_society.6   -0.311903245  0.2096126337 0.00331426674 0.0053000536 1000.000000\n",
    "  a_society.7    0.148637507  0.1744680594 0.00275858223 0.0047660246 1000.000000\n",
    "  a_society.8   -0.164567976  0.1821341074 0.00287979309 0.0034297298 1000.000000\n",
    "  a_society.9    0.277066965  0.1758237250 0.00278001719 0.0055844175  991.286501\n",
    " a_society.10   -0.094149204  0.2846206232 0.00450024719 0.0080735022 1000.000000\n",
    "sigma_society    0.310352849  0.1374834682 0.00217380450 0.0057325226  575.187461\n",
    "\";"
   ],
   "metadata": {},
   "execution_count": 11
  },
  {
   "outputs": [],
   "cell_type": "markdown",
   "source": [
    "Show means"
   ],
   "metadata": {}
  },
  {
   "outputs": [
    {
     "output_type": "execute_result",
     "data": {
      "text/plain": "3-element Array{Array{Float64,1},1}:\n [1.1104795953484992, 0.25995221045980044]                                                                                                                                                                          \n [-0.19534360289041014, 0.041083362708320845, -0.04389073543031416, 0.3227268545473028, 0.04329288204903583, -0.3055729975073223, 0.1433460949620147, -0.16710067703462808, 0.275567469186962, -0.09053669260892704]\n [0.3034384449616687]                                                                                                                                                                                               "
     },
     "metadata": {},
     "execution_count": 12
    }
   ],
   "cell_type": "code",
   "source": [
    "[posterior_β, posterior_α, [posterior_σ]]"
   ],
   "metadata": {},
   "execution_count": 12
  },
  {
   "outputs": [],
   "cell_type": "markdown",
   "source": [
    "End of m12.6d.jl"
   ],
   "metadata": {}
  },
  {
   "outputs": [],
   "cell_type": "markdown",
   "source": [
    "*This notebook was generated using [Literate.jl](https://github.com/fredrikekre/Literate.jl).*"
   ],
   "metadata": {}
  }
 ],
 "nbformat_minor": 3,
 "metadata": {
  "language_info": {
   "file_extension": ".jl",
   "mimetype": "application/julia",
   "name": "julia",
   "version": "1.2.0-DEV.450"
  },
  "kernelspec": {
   "name": "julia-1.2",
   "display_name": "Julia 1.2.0-DEV.450",
   "language": "julia"
  }
 },
 "nbformat": 4
}
