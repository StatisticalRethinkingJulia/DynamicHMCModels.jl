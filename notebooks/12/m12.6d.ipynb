{
 "cells": [
  {
   "outputs": [
    {
     "output_type": "execute_result",
     "data": {
      "text/plain": "(10, 5)"
     },
     "metadata": {},
     "execution_count": 1
    }
   ],
   "cell_type": "code",
   "source": [
    "using DynamicHMCModels\n",
    "\n",
    "ProjDir = rel_path_d(\"..\", \"scripts\", \"12\")\n",
    "\n",
    "df = CSV.read(rel_path( \"..\", \"data\",  \"Kline.csv\"), delim=';');\n",
    "size(df) # Should be 10x5"
   ],
   "metadata": {},
   "execution_count": 1
  },
  {
   "outputs": [],
   "cell_type": "markdown",
   "source": [
    "New col logpop, set log() for population data"
   ],
   "metadata": {}
  },
  {
   "outputs": [],
   "cell_type": "code",
   "source": [
    "df[:logpop] = map((x) -> log(x), df[:population]);\n",
    "df[:society] = 1:10;\n",
    "\n",
    "first(df[[:total_tools, :logpop, :society]], 5)\n",
    "\n",
    "struct m_12_06d_model{TY <: AbstractVector, TX <: AbstractMatrix,\n",
    "  TS <: AbstractVector}\n",
    "    \"Observations (total_tools).\"\n",
    "    y::TY\n",
    "    \"Covariates (logpop)\"\n",
    "    X::TX\n",
    "    \"Society\"\n",
    "    S::TS\n",
    "    \"Number of observations (10)\"\n",
    "    N::Int\n",
    "    \"Number of societies (also 10)\"\n",
    "    N_societies::Int\n",
    "end"
   ],
   "metadata": {},
   "execution_count": 2
  },
  {
   "outputs": [],
   "cell_type": "markdown",
   "source": [
    "Make the type callable with the parameters *as a single argument*."
   ],
   "metadata": {}
  },
  {
   "outputs": [],
   "cell_type": "code",
   "source": [
    "function (problem::m_12_06d_model)(θ)\n",
    "    @unpack y, X, S, N, N_societies = problem   # extract the data\n",
    "    @unpack β, α, σ = θ  # β : a, bp, α : a_society\n",
    "    ll = 0.0\n",
    "    ll += logpdf(Cauchy(0, 1), σ)\n",
    "    ll += sum(logpdf.(Normal(0, σ), α)) # α[1:10]\n",
    "    ll += logpdf.(Normal(0, 10), β[1]) # a\n",
    "    ll += logpdf.(Normal(0, 1), β[2]) # a\n",
    "    ll += sum(\n",
    "      [loglikelihood(Poisson(exp(α[S[i]] + dot(X[i, :], β))), [y[i]]) for i in 1:N]\n",
    "    )\n",
    "    ll\n",
    "end"
   ],
   "metadata": {},
   "execution_count": 3
  },
  {
   "outputs": [],
   "cell_type": "markdown",
   "source": [
    "Instantiate the model with data and inits."
   ],
   "metadata": {}
  },
  {
   "outputs": [
    {
     "output_type": "execute_result",
     "data": {
      "text/plain": "-484.5077050770807"
     },
     "metadata": {},
     "execution_count": 4
    }
   ],
   "cell_type": "code",
   "source": [
    "N = size(df, 1)\n",
    "N_societies = length(unique(df[:society]))\n",
    "X = hcat(ones(Int64, N), df[:logpop]);\n",
    "S = df[:society]\n",
    "y = df[:total_tools]\n",
    "p = m_12_06d_model(y, X, S, N, N_societies);\n",
    "θ = (β = [1.0, 0.25], α = rand(Normal(0, 1), N_societies), σ = 0.2)\n",
    "p(θ)"
   ],
   "metadata": {},
   "execution_count": 4
  },
  {
   "outputs": [],
   "cell_type": "markdown",
   "source": [
    "Write a function to return properly dimensioned transformation."
   ],
   "metadata": {}
  },
  {
   "outputs": [],
   "cell_type": "code",
   "source": [
    "problem_transformation(p::m_12_06d_model) =\n",
    "    as( (β = as(Array, size(p.X, 2)), α = as(Array, p.N_societies), σ = asℝ₊) )\n",
    "# Wrap the problem with a transformation, then use Flux for the gradient.\n",
    "P = TransformedLogDensity(problem_transformation(p), p)\n",
    "∇P = LogDensityRejectErrors(ADgradient(:ForwardDiff, P));\n",
    "#∇P = ADgradient(:ForwardDiff, P);"
   ],
   "metadata": {},
   "execution_count": 5
  },
  {
   "outputs": [],
   "cell_type": "markdown",
   "source": [
    "Tune and sample."
   ],
   "metadata": {}
  },
  {
   "outputs": [
    {
     "name": "stdout",
     "output_type": "stream",
     "text": [
      "MCMC, adapting ϵ (75 steps)\n",
      "0.0029 s/step ...done\n",
      "MCMC, adapting ϵ (25 steps)\n",
      "0.0034 s/step ...done\n",
      "MCMC, adapting ϵ (50 steps)\n",
      "0.0024 s/step ...done\n",
      "MCMC, adapting ϵ (100 steps)\n",
      "0.0013 s/step ...done\n",
      "MCMC, adapting ϵ (200 steps)\n",
      "0.00068 s/step ...done\n",
      "MCMC, adapting ϵ (400 steps)\n",
      "0.00047 s/step ...done\n",
      "MCMC, adapting ϵ (50 steps)\n",
      "0.00068 s/step ...done\n",
      "MCMC (1000 steps)\n",
      "0.00039 s/step ...done\n"
     ]
    }
   ],
   "cell_type": "code",
   "source": [
    "chain, NUTS_tuned = NUTS_init_tune_mcmc(∇P, 1000);"
   ],
   "metadata": {},
   "execution_count": 6
  },
  {
   "outputs": [],
   "cell_type": "markdown",
   "source": [
    "We use the transformation to obtain the posterior from the chain."
   ],
   "metadata": {}
  },
  {
   "outputs": [
    {
     "output_type": "execute_result",
     "data": {
      "text/plain": "5-element Array{NamedTuple{(:β, :α, :σ),Tuple{Array{Float64,1},Array{Float64,1},Float64}},1}:\n (β = [0.84390941600058, 0.2743541108495566], α = [-0.06466490408442113, 0.07560515707108, 0.07133433760245836, 0.3133224316793587, 0.05194006386439303, 0.04612042380346773, 0.11850893125131634, -0.0923946973698804, 0.19469505578733903, 0.06178964833635599], σ = 0.18054288748075914)         \n (β = [0.9314004944647308, 0.2896014239344913], α = [-0.1394549102371699, -0.054409024611612664, -0.2650208268808914, 0.1982666509719139, -0.022747848344855916, -0.6075212112030924, 0.06608594763137457, -0.2385968111482426, 0.23461507491763386, -0.2835094127758858], σ = 0.24898368722456107) \n (β = [1.4228173609843198, 0.21117949430222674], α = [-0.06294393659722532, 0.36458384715147213, 0.15072540674270973, 0.4054308063031002, -0.2733409108687755, -0.4370167060083529, 0.153167702111275, -0.04742445480840446, 0.5633409613562677, 0.23227340336011537], σ = 0.3337986354692232)      \n (β = [0.9648497367636347, 0.2718833411825019], α = [-0.14676002468481433, 0.08015610542042433, -0.18431982202312663, 0.3940375286684807, 0.11964758265242395, -0.20401131793906555, 0.17041200419913424, -0.37290388086993825, 0.2960139741143735, -0.06630839658981338], σ = 0.2553582900768411)  \n (β = [0.7111387508302535, 0.3043895505906231], α = [-0.16327403886038777, 0.11873826370071505, 0.18286644748705932, 0.1167869553195378, -0.04945259047179126, -0.25732868191903524, 0.04134554688668039, 0.015049309397075245, 0.21463438811615163, -0.23295697622348727], σ = 0.15961305731841757)"
     },
     "metadata": {},
     "execution_count": 7
    }
   ],
   "cell_type": "code",
   "source": [
    "posterior = TransformVariables.transform.(Ref(problem_transformation(p)), get_position.(chain));\n",
    "posterior[1:5]"
   ],
   "metadata": {},
   "execution_count": 7
  },
  {
   "outputs": [],
   "cell_type": "markdown",
   "source": [
    "Extract the parameter posterior means."
   ],
   "metadata": {}
  },
  {
   "outputs": [
    {
     "output_type": "execute_result",
     "data": {
      "text/plain": "0.3158165644024758"
     },
     "metadata": {},
     "execution_count": 8
    }
   ],
   "cell_type": "code",
   "source": [
    "posterior_β = mean(posterior[i].β for i in 1:length(posterior))\n",
    "posterior_α = mean(posterior[i].α for i in 1:length(posterior))\n",
    "posterior_σ = mean(posterior[i].σ for i in 1:length(posterior))"
   ],
   "metadata": {},
   "execution_count": 8
  },
  {
   "outputs": [],
   "cell_type": "markdown",
   "source": [
    "Effective sample sizes (of untransformed draws)"
   ],
   "metadata": {}
  },
  {
   "outputs": [
    {
     "output_type": "execute_result",
     "data": {
      "text/plain": "1×13 Array{Float64,2}:\n 812.129  776.812  753.638  825.389  …  625.238  866.082  479.361  529.801"
     },
     "metadata": {},
     "execution_count": 9
    }
   ],
   "cell_type": "code",
   "source": [
    "ess = mapslices(effective_sample_size, get_position_matrix(chain); dims = 1)\n",
    "ess"
   ],
   "metadata": {},
   "execution_count": 9
  },
  {
   "outputs": [],
   "cell_type": "markdown",
   "source": [
    "NUTS-specific statistics"
   ],
   "metadata": {}
  },
  {
   "outputs": [
    {
     "output_type": "execute_result",
     "data": {
      "text/plain": "Hamiltonian Monte Carlo sample of length 1000\n  acceptance rate mean: 0.94, min/25%/median/75%/max: 0.4 0.92 0.97 0.99 1.0\n  termination: AdjacentTurn => 9% DoubledTurn => 91%\n  depth: 3 => 2% 4 => 95% 5 => 3%\n"
     },
     "metadata": {},
     "execution_count": 10
    }
   ],
   "cell_type": "code",
   "source": [
    "NUTS_statistics(chain)"
   ],
   "metadata": {},
   "execution_count": 10
  },
  {
   "outputs": [],
   "cell_type": "markdown",
   "source": [
    "CmdStan result"
   ],
   "metadata": {}
  },
  {
   "outputs": [],
   "cell_type": "code",
   "source": [
    "m_12_6_result = \"\n",
    "Iterations = 1:1000\n",
    "Thinning interval = 1\n",
    "Chains = 1,2,3,4\n",
    "Samples per chain = 1000\n",
    "\n",
    "Empirical Posterior Estimates:\n",
    "                            Mean                SD               Naive SE             MCSE            ESS\n",
    "            a          1.076167468  0.7704872560 0.01218247319 0.0210530022 1000.000000\n",
    "           bp         0.263056273  0.0823415805 0.00130193470 0.0022645077 1000.000000\n",
    "  a_society.1   -0.191723568  0.2421382537 0.00382854195 0.0060563054 1000.000000\n",
    "  a_society.2    0.054569029  0.2278506876 0.00360263570 0.0051693148 1000.000000\n",
    "  a_society.3   -0.035935050  0.1926364647 0.00304584994 0.0039948433 1000.000000\n",
    "  a_society.4    0.334355037  0.1929971201 0.00305155241 0.0063871707  913.029080\n",
    "  a_society.5    0.049747513  0.1801287716 0.00284808595 0.0043631095 1000.000000\n",
    "  a_society.6   -0.311903245  0.2096126337 0.00331426674 0.0053000536 1000.000000\n",
    "  a_society.7    0.148637507  0.1744680594 0.00275858223 0.0047660246 1000.000000\n",
    "  a_society.8   -0.164567976  0.1821341074 0.00287979309 0.0034297298 1000.000000\n",
    "  a_society.9    0.277066965  0.1758237250 0.00278001719 0.0055844175  991.286501\n",
    " a_society.10   -0.094149204  0.2846206232 0.00450024719 0.0080735022 1000.000000\n",
    "sigma_society    0.310352849  0.1374834682 0.00217380450 0.0057325226  575.187461\n",
    "\";"
   ],
   "metadata": {},
   "execution_count": 11
  },
  {
   "outputs": [],
   "cell_type": "markdown",
   "source": [
    "Show means"
   ],
   "metadata": {}
  },
  {
   "outputs": [
    {
     "output_type": "execute_result",
     "data": {
      "text/plain": "3-element Array{Array{Float64,1},1}:\n [1.0785913673523977, 0.2630492252202068]                                                                                                                                                                              \n [-0.20327966030175945, 0.05096580399815663, -0.04115959634373597, 0.33918680338291785, 0.045817673247231364, -0.3238438125759203, 0.14364832285826737, -0.17036648568206172, 0.2861901720304697, -0.09089679193349416]\n [0.3158165644024758]                                                                                                                                                                                                  "
     },
     "metadata": {},
     "execution_count": 12
    }
   ],
   "cell_type": "code",
   "source": [
    "[posterior_β, posterior_α, [posterior_σ]]"
   ],
   "metadata": {},
   "execution_count": 12
  },
  {
   "outputs": [],
   "cell_type": "markdown",
   "source": [
    "End of m12.6d.jl"
   ],
   "metadata": {}
  },
  {
   "outputs": [],
   "cell_type": "markdown",
   "source": [
    "*This notebook was generated using [Literate.jl](https://github.com/fredrikekre/Literate.jl).*"
   ],
   "metadata": {}
  }
 ],
 "nbformat_minor": 3,
 "metadata": {
  "language_info": {
   "file_extension": ".jl",
   "mimetype": "application/julia",
   "name": "julia",
   "version": "1.2.0-DEV.446"
  },
  "kernelspec": {
   "name": "julia-1.2",
   "display_name": "Julia 1.2.0-DEV.446",
   "language": "julia"
  }
 },
 "nbformat": 4
}
