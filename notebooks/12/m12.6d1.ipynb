{
 "cells": [
  {
   "outputs": [
    {
     "output_type": "execute_result",
     "data": {
      "text/plain": "(10, 5)"
     },
     "metadata": {},
     "execution_count": 1
    }
   ],
   "cell_type": "code",
   "source": [
    "using DynamicHMCModels\n",
    "\n",
    "ProjDir = rel_path_d(\"..\", \"scripts\", \"12\")\n",
    "\n",
    "df = CSV.read(rel_path( \"..\", \"data\",  \"Kline.csv\"), delim=';');\n",
    "size(df) # Should be 10x5"
   ],
   "metadata": {},
   "execution_count": 1
  },
  {
   "outputs": [],
   "cell_type": "markdown",
   "source": [
    "New col logpop, set log() for population data"
   ],
   "metadata": {}
  },
  {
   "outputs": [
    {
     "output_type": "execute_result",
     "data": {
      "text/plain": "5×3 DataFrame\n│ Row │ total_tools │ logpop  │ society │\n│     │ \u001b[90mInt64⍰\u001b[39m      │ \u001b[90mFloat64\u001b[39m │ \u001b[90mInt64\u001b[39m   │\n├─────┼─────────────┼─────────┼─────────┤\n│ 1   │ 13          │ 7.00307 │ 1       │\n│ 2   │ 22          │ 7.31322 │ 2       │\n│ 3   │ 24          │ 8.18869 │ 3       │\n│ 4   │ 43          │ 8.47449 │ 4       │\n│ 5   │ 33          │ 8.90924 │ 5       │",
      "text/html": [
       "<table class=\"data-frame\"><thead><tr><th></th><th>total_tools</th><th>logpop</th><th>society</th></tr><tr><th></th><th>Int64⍰</th><th>Float64</th><th>Int64</th></tr></thead><tbody><p>5 rows × 3 columns</p><tr><th>1</th><td>13</td><td>7.00307</td><td>1</td></tr><tr><th>2</th><td>22</td><td>7.31322</td><td>2</td></tr><tr><th>3</th><td>24</td><td>8.18869</td><td>3</td></tr><tr><th>4</th><td>43</td><td>8.47449</td><td>4</td></tr><tr><th>5</th><td>33</td><td>8.90924</td><td>5</td></tr></tbody></table>"
      ]
     },
     "metadata": {},
     "execution_count": 2
    }
   ],
   "cell_type": "code",
   "source": [
    "df[:society] = 1:10;\n",
    "df[:logpop] = map((x) -> log(x), df[:population]);\n",
    "#df[:total_tools] = convert(Vector{Int64}, df[:total_tools])\n",
    "first(df[[:total_tools, :logpop, :society]], 5)"
   ],
   "metadata": {},
   "execution_count": 2
  },
  {
   "outputs": [],
   "cell_type": "markdown",
   "source": [
    "Define problem data structure"
   ],
   "metadata": {}
  },
  {
   "outputs": [],
   "cell_type": "code",
   "source": [
    "struct m_12_06d{TY <: AbstractVector, TX <: AbstractMatrix,\n",
    "  TS <: AbstractVector}\n",
    "    \"Observations (total_tools).\"\n",
    "    y::TY\n",
    "    \"Covariates (logpop)\"\n",
    "    X::TX\n",
    "    \"Society\"\n",
    "    S::TS\n",
    "    \"Number of observations (10)\"\n",
    "    N::Int\n",
    "    \"Number of societies (also 10)\"\n",
    "    N_societies::Int\n",
    "end;"
   ],
   "metadata": {},
   "execution_count": 3
  },
  {
   "outputs": [],
   "cell_type": "markdown",
   "source": [
    "Make the type callable with the parameters *as a single argument*."
   ],
   "metadata": {}
  },
  {
   "outputs": [],
   "cell_type": "code",
   "source": [
    "function (problem::m_12_06d)(θ)\n",
    "    @unpack y, X, S, N, N_societies = problem   # extract the data\n",
    "    @unpack β, α, s = trans(θ)  # β : a, bp, α : a_society, s\n",
    "    σ = s[1]^2\n",
    "    ll = 0.0\n",
    "    ll += logpdf(Cauchy(0, 1), σ) # sigma\n",
    "    ll += sum(logpdf.(Normal(0, σ), α)) # α[1:10]\n",
    "    ll += logpdf.(Normal(0, 10), β[1]) # a\n",
    "    ll += logpdf.(Normal(0, 1), β[2]) # bp\n",
    "    ll += sum(\n",
    "      [loglikelihood(Poisson(exp(α[S[i]] + dot(X[i, :], β))), [y[i]]) for i in 1:N]\n",
    "    )\n",
    "end"
   ],
   "metadata": {},
   "execution_count": 4
  },
  {
   "outputs": [],
   "cell_type": "markdown",
   "source": [
    "Instantiate the model with data and inits."
   ],
   "metadata": {}
  },
  {
   "outputs": [],
   "cell_type": "code",
   "source": [
    "N = size(df, 1)\n",
    "N_societies = length(unique(df[:society]))\n",
    "X = hcat(ones(Int64, N), df[:logpop]);\n",
    "S = df[:society];\n",
    "y = df[:total_tools];\n",
    "γ = (β = [1.0, 0.25], α = rand(Normal(0, 1), N_societies), s = [0.2]);\n",
    "p = m_12_06d(y, X, S, N, N_societies);"
   ],
   "metadata": {},
   "execution_count": 5
  },
  {
   "outputs": [],
   "cell_type": "markdown",
   "source": [
    "Function convert from a single vector of parms to parks NamedTuple"
   ],
   "metadata": {}
  },
  {
   "outputs": [],
   "cell_type": "code",
   "source": [
    "trans = as((β = as(Array, 2), α = as(Array, 10), s = as(Array, 1)));"
   ],
   "metadata": {},
   "execution_count": 6
  },
  {
   "outputs": [],
   "cell_type": "markdown",
   "source": [
    "Define input parameter vector"
   ],
   "metadata": {}
  },
  {
   "outputs": [
    {
     "output_type": "execute_result",
     "data": {
      "text/plain": "-2457.2905378716437"
     },
     "metadata": {},
     "execution_count": 7
    }
   ],
   "cell_type": "code",
   "source": [
    "θ = inverse(trans, γ);\n",
    "p(θ)"
   ],
   "metadata": {},
   "execution_count": 7
  },
  {
   "outputs": [],
   "cell_type": "markdown",
   "source": [
    "Maximum_a_posterior"
   ],
   "metadata": {}
  },
  {
   "outputs": [
    {
     "output_type": "execute_result",
     "data": {
      "text/plain": "Results of Optimization Algorithm\n * Algorithm: Fminbox with Gradient Descent\n * Starting Point: [1.0,0.25, ...]\n * Minimizer: [1.0990724279018136,0.2629112145980903, ...]\n * Minimum: -1.316389e+02\n * Iterations: 1000\n * Convergence: false\n   * |x - x'| ≤ 0.0e+00: false \n     |x - x'| = 1.67e-11 \n   * |f(x) - f(x')| ≤ 0.0e+00 |f(x)|: false\n     |f(x) - f(x')| = -2.79e-08 |f(x)|\n   * |g(x)| ≤ 1.0e-08: false \n     |g(x)| = 2.13e+05 \n   * Stopped by an increasing objective: false\n   * Reached Maximum Number of Iterations: false\n * Objective Calls: 885092394\n * Gradient Calls: 885092394"
     },
     "metadata": {},
     "execution_count": 8
    }
   ],
   "cell_type": "code",
   "source": [
    "using Optim\n",
    "\n",
    "x0 = θ;\n",
    "lower = vcat([0.0, 0.0], -3ones(10), [0.0]);\n",
    "upper = vcat([2.0, 1.0], 3ones(10), [5.0]);\n",
    "ll(x) = -p(x);\n",
    "\n",
    "inner_optimizer = GradientDescent()\n",
    "\n",
    "res = optimize(ll, lower, upper, x0, Fminbox(inner_optimizer));\n",
    "res"
   ],
   "metadata": {},
   "execution_count": 8
  },
  {
   "outputs": [],
   "cell_type": "markdown",
   "source": [
    "Minimum gives MAP estimate:"
   ],
   "metadata": {}
  },
  {
   "outputs": [
    {
     "output_type": "execute_result",
     "data": {
      "text/plain": "13-element Array{Float64,1}:\n  1.0990724279018136    \n  0.2629112145980903    \n -1.5659551996404486e-13\n  4.6910955661802434e-14\n -3.904296229466099e-14 \n  4.279773064698081e-13 \n  6.697555078089509e-14 \n -3.3247285601867734e-13\n  2.1131500920488918e-13\n -1.9596080577126818e-13\n  4.694558976242896e-13 \n  9.431369293268382e-13 \n  9.388310974199122e-5  "
     },
     "metadata": {},
     "execution_count": 9
    }
   ],
   "cell_type": "code",
   "source": [
    "Optim.minimizer(res)"
   ],
   "metadata": {},
   "execution_count": 9
  },
  {
   "outputs": [],
   "cell_type": "markdown",
   "source": [
    "Write a function to return properly dimensioned transformation."
   ],
   "metadata": {}
  },
  {
   "outputs": [],
   "cell_type": "code",
   "source": [
    "problem_transformation(p::m_12_06d) =\n",
    "  as( Vector, length(θ) )\n",
    "# Wrap the problem with a transformation, then use ForwardDiff for the gradient.\n",
    "P = TransformedLogDensity(problem_transformation(p), p)\n",
    "∇P = LogDensityRejectErrors(ADgradient(:ForwardDiff, P));\n",
    "#∇P = ADgradient(:ForwardDiff, P);"
   ],
   "metadata": {},
   "execution_count": 10
  },
  {
   "outputs": [],
   "cell_type": "markdown",
   "source": [
    "Tune and sample."
   ],
   "metadata": {}
  },
  {
   "outputs": [
    {
     "name": "stdout",
     "output_type": "stream",
     "text": [
      "MCMC, adapting ϵ (75 steps)\n",
      "0.0054 s/step ...done\n",
      "MCMC, adapting ϵ (25 steps)\n",
      "0.0064 s/step ...done\n",
      "MCMC, adapting ϵ (50 steps)\n",
      "0.0061 s/step ...done\n",
      "MCMC, adapting ϵ (100 steps)\n",
      "0.0028 s/step ...done\n",
      "MCMC, adapting ϵ (200 steps)\n",
      "0.002 s/step ...done\n",
      "MCMC, adapting ϵ (400 steps)\n",
      "0.0012 s/step ...done\n",
      "MCMC, adapting ϵ (50 steps)\n",
      "0.0016 s/step ...done\n",
      "MCMC (1000 steps)\n",
      "0.00094 s/step ...done\n"
     ]
    }
   ],
   "cell_type": "code",
   "source": [
    "chain, NUTS_tuned = NUTS_init_tune_mcmc(∇P, 1000);"
   ],
   "metadata": {},
   "execution_count": 11
  },
  {
   "outputs": [],
   "cell_type": "markdown",
   "source": [
    "We use the transformation to obtain the posterior from the chain."
   ],
   "metadata": {}
  },
  {
   "outputs": [
    {
     "output_type": "execute_result",
     "data": {
      "text/plain": "5-element Array{Array{Float64,1},1}:\n [1.3642302969170115, 0.2333151153228049, -0.5152032048456298, -0.24522924855319422, -0.0461566411093301, 0.3533528087673454, 0.05010767951190351, -0.541440441639268, 0.2281522559078383, 0.047260428309055455, 0.38167657871089566, 0.09007293303338929, 0.7154275563260439]        \n [1.1184064653413248, 0.2575161753611441, 0.01693104151124023, 0.16180105861351557, 0.07274953811640811, 0.16337367638364317, -0.04744203586903211, -0.0403426346340567, 0.14773057731708616, -0.21701277827141968, 0.10171857683913672, -0.09735893724763592, 0.27301400174299395]   \n [1.6076155728230748, 0.21252372852369553, -0.16692246445527723, -0.0251776068606131, -0.017744286350968842, 0.06911524805195697, -0.04605253304583832, -0.08959260296669631, 0.02806401016892899, -0.23961137516199732, 0.1065903139631784, 0.09065358006217313, 0.29056347230880286]\n [1.0035683337736914, 0.27439659737416827, -0.20196084907313858, -0.08184286860686514, -0.09753715726809313, 0.33035116104944584, 0.08936640047036606, -0.5474728060961351, 0.06351508481994819, -0.046866567582929036, 0.30443956243346054, -0.3118836642823971, 0.5939216417203562] \n [2.225182140062285, 0.12955846903936447, -0.4096899282330939, 0.18881680430697634, 0.0782595420683018, 0.3803998764838513, 0.08099575005124379, -0.021639875290215695, 0.2713164453622577, -0.14223171494413328, 0.34795691641231924, 0.3879109092910956, 0.46940204509699296]       "
     },
     "metadata": {},
     "execution_count": 12
    }
   ],
   "cell_type": "code",
   "source": [
    "posterior = TransformVariables.transform.(Ref(problem_transformation(p)), get_position.(chain));\n",
    "posterior[1:5]"
   ],
   "metadata": {},
   "execution_count": 12
  },
  {
   "outputs": [],
   "cell_type": "markdown",
   "source": [
    "Extract the parameter posterior means."
   ],
   "metadata": {}
  },
  {
   "outputs": [
    {
     "output_type": "execute_result",
     "data": {
      "text/plain": "0.26118667039771004"
     },
     "metadata": {},
     "execution_count": 13
    }
   ],
   "cell_type": "code",
   "source": [
    "posterior_β = mean(trans(posterior[i]).β for i in 1:length(posterior))\n",
    "posterior_α = mean(trans(posterior[i]).α for i in 1:length(posterior))\n",
    "posterior_σ = mean(trans(posterior[i]).s for i in 1:length(posterior))[1]^2"
   ],
   "metadata": {},
   "execution_count": 13
  },
  {
   "outputs": [],
   "cell_type": "markdown",
   "source": [
    "Effective sample sizes (of untransformed draws)"
   ],
   "metadata": {}
  },
  {
   "outputs": [
    {
     "output_type": "execute_result",
     "data": {
      "text/plain": "1×13 Array{Float64,2}:\n 651.636  659.513  756.322  1000.0  …  808.073  707.056  760.414  246.369"
     },
     "metadata": {},
     "execution_count": 14
    }
   ],
   "cell_type": "code",
   "source": [
    "ess = mapslices(effective_sample_size, get_position_matrix(chain); dims = 1)\n",
    "ess"
   ],
   "metadata": {},
   "execution_count": 14
  },
  {
   "outputs": [],
   "cell_type": "markdown",
   "source": [
    "NUTS-specific statistics"
   ],
   "metadata": {}
  },
  {
   "outputs": [
    {
     "output_type": "execute_result",
     "data": {
      "text/plain": "Hamiltonian Monte Carlo sample of length 1000\n  acceptance rate mean: 0.94, min/25%/median/75%/max: 0.11 0.92 0.97 0.99 1.0\n  termination: AdjacentTurn => 8% DoubledTurn => 92%\n  depth: 2 => 0% 3 => 7% 4 => 92% 5 => 1%\n"
     },
     "metadata": {},
     "execution_count": 15
    }
   ],
   "cell_type": "code",
   "source": [
    "NUTS_statistics(chain)"
   ],
   "metadata": {},
   "execution_count": 15
  },
  {
   "outputs": [],
   "cell_type": "markdown",
   "source": [
    "CmdStan result"
   ],
   "metadata": {}
  },
  {
   "outputs": [],
   "cell_type": "code",
   "source": [
    "m_12_6_result = \"\n",
    "Iterations = 1:1000\n",
    "Thinning interval = 1\n",
    "Chains = 1,2,3,4\n",
    "Samples per chain = 1000\n",
    "\n",
    "Empirical Posterior Estimates:\n",
    "                            Mean                SD               Naive SE             MCSE            ESS\n",
    "            a          1.076167468  0.7704872560 0.01218247319 0.0210530022 1000.000000\n",
    "           bp         0.263056273  0.0823415805 0.00130193470 0.0022645077 1000.000000\n",
    "  a_society.1   -0.191723568  0.2421382537 0.00382854195 0.0060563054 1000.000000\n",
    "  a_society.2    0.054569029  0.2278506876 0.00360263570 0.0051693148 1000.000000\n",
    "  a_society.3   -0.035935050  0.1926364647 0.00304584994 0.0039948433 1000.000000\n",
    "  a_society.4    0.334355037  0.1929971201 0.00305155241 0.0063871707  913.029080\n",
    "  a_society.5    0.049747513  0.1801287716 0.00284808595 0.0043631095 1000.000000\n",
    "  a_society.6   -0.311903245  0.2096126337 0.00331426674 0.0053000536 1000.000000\n",
    "  a_society.7    0.148637507  0.1744680594 0.00275858223 0.0047660246 1000.000000\n",
    "  a_society.8   -0.164567976  0.1821341074 0.00287979309 0.0034297298 1000.000000\n",
    "  a_society.9    0.277066965  0.1758237250 0.00278001719 0.0055844175  991.286501\n",
    " a_society.10   -0.094149204  0.2846206232 0.00450024719 0.0080735022 1000.000000\n",
    "sigma_society    0.310352849  0.1374834682 0.00217380450 0.0057325226  575.187461\n",
    "\";"
   ],
   "metadata": {},
   "execution_count": 16
  },
  {
   "outputs": [],
   "cell_type": "markdown",
   "source": [
    "Show means"
   ],
   "metadata": {}
  },
  {
   "outputs": [
    {
     "output_type": "execute_result",
     "data": {
      "text/plain": "3-element Array{Any,1}:\n  [1.1526552512751642, 0.2553011935767466]                                                                                                                                                                             \n  [-0.1729653273692572, 0.03915919637251105, -0.035605675377336624, 0.30502483084599386, 0.027783015568052682, -0.27845457637397797, 0.136842683567227, -0.15559851884446968, 0.27141151365217836, -0.0762853229507955]\n 0.26118667039771004                                                                                                                                                                                                   "
     },
     "metadata": {},
     "execution_count": 17
    }
   ],
   "cell_type": "code",
   "source": [
    "[posterior_β, posterior_α, posterior_σ]"
   ],
   "metadata": {},
   "execution_count": 17
  },
  {
   "outputs": [],
   "cell_type": "markdown",
   "source": [
    "End of m12.6d1.jl"
   ],
   "metadata": {}
  },
  {
   "outputs": [],
   "cell_type": "markdown",
   "source": [
    "*This notebook was generated using [Literate.jl](https://github.com/fredrikekre/Literate.jl).*"
   ],
   "metadata": {}
  }
 ],
 "nbformat_minor": 3,
 "metadata": {
  "language_info": {
   "file_extension": ".jl",
   "mimetype": "application/julia",
   "name": "julia",
   "version": "1.2.0-DEV.447"
  },
  "kernelspec": {
   "name": "julia-1.2",
   "display_name": "Julia 1.2.0-DEV.447",
   "language": "julia"
  }
 },
 "nbformat": 4
}
