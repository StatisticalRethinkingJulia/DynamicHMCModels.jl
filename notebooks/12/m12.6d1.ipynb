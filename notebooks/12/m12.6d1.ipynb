{
 "cells": [
  {
   "outputs": [
    {
     "output_type": "execute_result",
     "data": {
      "text/plain": "(10, 5)"
     },
     "metadata": {},
     "execution_count": 1
    }
   ],
   "cell_type": "code",
   "source": [
    "using DynamicHMCModels\n",
    "\n",
    "ProjDir = rel_path_d(\"..\", \"scripts\", \"12\")\n",
    "\n",
    "df = CSV.read(rel_path( \"..\", \"data\",  \"Kline.csv\"), delim=';');\n",
    "size(df) # Should be 10x5"
   ],
   "metadata": {},
   "execution_count": 1
  },
  {
   "outputs": [],
   "cell_type": "markdown",
   "source": [
    "New col logpop, set log() for population data"
   ],
   "metadata": {}
  },
  {
   "outputs": [
    {
     "output_type": "execute_result",
     "data": {
      "text/plain": "5×3 DataFrame\n│ Row │ total_tools │ logpop  │ society │\n│     │ \u001b[90mInt64⍰\u001b[39m      │ \u001b[90mFloat64\u001b[39m │ \u001b[90mInt64\u001b[39m   │\n├─────┼─────────────┼─────────┼─────────┤\n│ 1   │ 13          │ 7.00307 │ 1       │\n│ 2   │ 22          │ 7.31322 │ 2       │\n│ 3   │ 24          │ 8.18869 │ 3       │\n│ 4   │ 43          │ 8.47449 │ 4       │\n│ 5   │ 33          │ 8.90924 │ 5       │",
      "text/html": [
       "<table class=\"data-frame\"><thead><tr><th></th><th>total_tools</th><th>logpop</th><th>society</th></tr><tr><th></th><th>Int64⍰</th><th>Float64</th><th>Int64</th></tr></thead><tbody><p>5 rows × 3 columns</p><tr><th>1</th><td>13</td><td>7.00307</td><td>1</td></tr><tr><th>2</th><td>22</td><td>7.31322</td><td>2</td></tr><tr><th>3</th><td>24</td><td>8.18869</td><td>3</td></tr><tr><th>4</th><td>43</td><td>8.47449</td><td>4</td></tr><tr><th>5</th><td>33</td><td>8.90924</td><td>5</td></tr></tbody></table>"
      ]
     },
     "metadata": {},
     "execution_count": 2
    }
   ],
   "cell_type": "code",
   "source": [
    "df[:society] = 1:10;\n",
    "df[:logpop] = map((x) -> log(x), df[:population]);\n",
    "#df[:total_tools] = convert(Vector{Int64}, df[:total_tools])\n",
    "first(df[[:total_tools, :logpop, :society]], 5)"
   ],
   "metadata": {},
   "execution_count": 2
  },
  {
   "outputs": [],
   "cell_type": "markdown",
   "source": [
    "Define problem data structure"
   ],
   "metadata": {}
  },
  {
   "outputs": [],
   "cell_type": "code",
   "source": [
    "struct m_12_06d{TY <: AbstractVector, TX <: AbstractMatrix,\n",
    "  TS <: AbstractVector}\n",
    "    \"Observations (total_tools).\"\n",
    "    y::TY\n",
    "    \"Covariates (logpop)\"\n",
    "    X::TX\n",
    "    \"Society\"\n",
    "    S::TS\n",
    "    \"Number of observations (10)\"\n",
    "    N::Int\n",
    "    \"Number of societies (also 10)\"\n",
    "    N_societies::Int\n",
    "end;"
   ],
   "metadata": {},
   "execution_count": 3
  },
  {
   "outputs": [],
   "cell_type": "markdown",
   "source": [
    "Make the type callable with the parameters *as a single argument*."
   ],
   "metadata": {}
  },
  {
   "outputs": [],
   "cell_type": "code",
   "source": [
    "function (problem::m_12_06d)(θ)\n",
    "    @unpack y, X, S, N, N_societies = problem   # extract the data\n",
    "    @unpack β, α, s = trans(θ)  # β : a, bp, α : a_society, s\n",
    "    σ = s[1]^2\n",
    "    ll = 0.0\n",
    "    ll += logpdf(Cauchy(0, 1), σ) # sigma\n",
    "    ll += sum(logpdf.(Normal(0, σ), α)) # α[1:10]\n",
    "    ll += logpdf.(Normal(0, 10), β[1]) # a\n",
    "    ll += logpdf.(Normal(0, 1), β[2]) # bp\n",
    "    ll += sum(\n",
    "      [loglikelihood(Poisson(exp(α[S[i]] + dot(X[i, :], β))), [y[i]]) for i in 1:N]\n",
    "    )\n",
    "end"
   ],
   "metadata": {},
   "execution_count": 4
  },
  {
   "outputs": [],
   "cell_type": "markdown",
   "source": [
    "Instantiate the model with data and inits."
   ],
   "metadata": {}
  },
  {
   "outputs": [],
   "cell_type": "code",
   "source": [
    "N = size(df, 1)\n",
    "N_societies = length(unique(df[:society]))\n",
    "X = hcat(ones(Int64, N), df[:logpop]);\n",
    "S = df[:society];\n",
    "y = df[:total_tools];\n",
    "γ = (β = [1.0, 0.25], α = rand(Normal(0, 1), N_societies), s = [0.2]);\n",
    "p = m_12_06d(y, X, S, N, N_societies);"
   ],
   "metadata": {},
   "execution_count": 5
  },
  {
   "outputs": [],
   "cell_type": "markdown",
   "source": [
    "Function convert from a single vector of parms to parks NamedTuple"
   ],
   "metadata": {}
  },
  {
   "outputs": [],
   "cell_type": "code",
   "source": [
    "trans = as((β = as(Array, 2), α = as(Array, 10), s = as(Array, 1)));"
   ],
   "metadata": {},
   "execution_count": 6
  },
  {
   "outputs": [],
   "cell_type": "markdown",
   "source": [
    "Define input parameter vector"
   ],
   "metadata": {}
  },
  {
   "outputs": [
    {
     "output_type": "execute_result",
     "data": {
      "text/plain": "-4414.823391947998"
     },
     "metadata": {},
     "execution_count": 7
    }
   ],
   "cell_type": "code",
   "source": [
    "θ = inverse(trans, γ);\n",
    "p(θ)"
   ],
   "metadata": {},
   "execution_count": 7
  },
  {
   "outputs": [],
   "cell_type": "markdown",
   "source": [
    "Maximum_a_posterior"
   ],
   "metadata": {}
  },
  {
   "outputs": [
    {
     "output_type": "execute_result",
     "data": {
      "text/plain": "Results of Optimization Algorithm\n * Algorithm: Fminbox with Gradient Descent\n * Starting Point: [1.0,0.25, ...]\n * Minimizer: [1.0733073546274228,0.2664261997004786, ...]\n * Minimum: -1.353734e+02\n * Iterations: 1000\n * Convergence: false\n   * |x - x'| ≤ 0.0e+00: false \n     |x - x'| = 1.74e-10 \n   * |f(x) - f(x')| ≤ 0.0e+00 |f(x)|: false\n     |f(x) - f(x')| = -3.32e-07 |f(x)|\n   * |g(x)| ≤ 1.0e-08: false \n     |g(x)| = 2.58e+05 \n   * Stopped by an increasing objective: false\n   * Reached Maximum Number of Iterations: false\n * Objective Calls: 128463408\n * Gradient Calls: 128463408"
     },
     "metadata": {},
     "execution_count": 8
    }
   ],
   "cell_type": "code",
   "source": [
    "using Optim\n",
    "\n",
    "x0 = θ;\n",
    "lower = vcat([0.0, 0.0], -3ones(10), [0.0]);\n",
    "upper = vcat([2.0, 1.0], 3ones(10), [5.0]);\n",
    "ll(x) = -p(x);\n",
    "\n",
    "inner_optimizer = GradientDescent()\n",
    "\n",
    "res = optimize(ll, lower, upper, x0, Fminbox(inner_optimizer));\n",
    "res"
   ],
   "metadata": {},
   "execution_count": 8
  },
  {
   "outputs": [],
   "cell_type": "markdown",
   "source": [
    "Minimum gives MAP estimate:"
   ],
   "metadata": {}
  },
  {
   "outputs": [
    {
     "output_type": "execute_result",
     "data": {
      "text/plain": "13-element Array{Float64,1}:\n  1.0733073546274228    \n  0.2664261997004786    \n -3.2660289601103933e-14\n  4.1924195702002746e-14\n  2.2728160135594888e-14\n  1.95148749900423e-13  \n  7.476231543904027e-14 \n -6.806177676366784e-14 \n  1.327539834538126e-13 \n -5.274583408550584e-15 \n  2.5060784578532843e-13\n  2.2670091800172434e-12\n  7.756979159719898e-5  "
     },
     "metadata": {},
     "execution_count": 9
    }
   ],
   "cell_type": "code",
   "source": [
    "Optim.minimizer(res)"
   ],
   "metadata": {},
   "execution_count": 9
  },
  {
   "outputs": [],
   "cell_type": "markdown",
   "source": [
    "Write a function to return properly dimensioned transformation."
   ],
   "metadata": {}
  },
  {
   "outputs": [],
   "cell_type": "code",
   "source": [
    "problem_transformation(p::m_12_06d) =\n",
    "  as( Vector, length(θ) )\n",
    "# Wrap the problem with a transformation, then use ForwardDiff for the gradient.\n",
    "P = TransformedLogDensity(problem_transformation(p), p)\n",
    "∇P = LogDensityRejectErrors(ADgradient(:ForwardDiff, P));\n",
    "#∇P = ADgradient(:ForwardDiff, P);"
   ],
   "metadata": {},
   "execution_count": 10
  },
  {
   "outputs": [],
   "cell_type": "markdown",
   "source": [
    "Tune and sample."
   ],
   "metadata": {}
  },
  {
   "outputs": [
    {
     "name": "stdout",
     "output_type": "stream",
     "text": [
      "MCMC, adapting ϵ (75 steps)\n",
      "0.0052 s/step ...done\n",
      "MCMC, adapting ϵ (25 steps)\n",
      "0.0054 s/step ...done\n",
      "MCMC, adapting ϵ (50 steps)\n",
      "0.0082 s/step ...done\n",
      "MCMC, adapting ϵ (100 steps)\n",
      "0.0034 s/step ...done\n",
      "MCMC, adapting ϵ (200 steps)\n",
      "0.0015 s/step ...done\n",
      "MCMC, adapting ϵ (400 steps)\n",
      "0.00086 s/step ...done\n",
      "MCMC, adapting ϵ (50 steps)\n",
      "0.00082 s/step ...done\n",
      "MCMC (1000 steps)\n",
      "0.00073 s/step ...done\n"
     ]
    }
   ],
   "cell_type": "code",
   "source": [
    "chain, NUTS_tuned = NUTS_init_tune_mcmc(∇P, 1000);"
   ],
   "metadata": {},
   "execution_count": 11
  },
  {
   "outputs": [],
   "cell_type": "markdown",
   "source": [
    "We use the transformation to obtain the posterior from the chain."
   ],
   "metadata": {}
  },
  {
   "outputs": [
    {
     "output_type": "execute_result",
     "data": {
      "text/plain": "5-element Array{Array{Float64,1},1}:\n [0.15652723786107908, 0.3601805261347912, -0.18488983165457992, 0.3258766520363213, 0.12109368209728455, 0.3957213633931597, 0.06908418219624492, -0.0825578554354227, 0.182218031601832, -0.2672074128593706, 0.2122598098962865, -0.37179831644622163, 0.5711393018331508]        \n [0.7848403165172436, 0.29376882282648664, 0.1387070875963687, -0.015130692963375658, 0.13676059668966284, 0.41790213828563527, 0.15498138062961864, -0.24409944161917557, 0.1522430991559138, -0.3804634562687419, 0.22412175815796342, -0.16924379075222928, 0.6324215722527609]   \n [-0.5424760753177695, 0.45830575048688355, -0.14502294923342024, 0.31090200333191365, -0.09526305790329209, 0.40285642613827133, 0.02114204736220831, -0.547320977605547, -0.16866119950733666, -0.27775270415365183, 0.0515139724801193, -0.9662865673598149, 0.6480675997464947]  \n [0.8266534682273761, 0.3008119919984784, -0.11441491697472866, 0.17396458033716117, -0.12470854863680525, 0.5221566277108983, 0.11677768894422183, -0.4423217800010661, -0.00606100978065488, -0.483250340408256, 0.05405872589770008, -0.0858666158889711, 0.5916369086584551]     \n [0.9500450318029021, 0.26997769272865413, -0.06168083050846333, 0.2539352315886753, 0.015398086282373082, 0.49874854575288513, -0.17942787124830992, -0.4536024043427125, 0.033849309800580214, -0.04285379811545599, 0.47709484876644515, -0.23918269869164427, 0.5727187717614337]"
     },
     "metadata": {},
     "execution_count": 12
    }
   ],
   "cell_type": "code",
   "source": [
    "posterior = TransformVariables.transform.(Ref(problem_transformation(p)), get_position.(chain));\n",
    "posterior[1:5]"
   ],
   "metadata": {},
   "execution_count": 12
  },
  {
   "outputs": [],
   "cell_type": "markdown",
   "source": [
    "Extract the parameter posterior means."
   ],
   "metadata": {}
  },
  {
   "outputs": [
    {
     "output_type": "execute_result",
     "data": {
      "text/plain": "0.2892828907567338"
     },
     "metadata": {},
     "execution_count": 13
    }
   ],
   "cell_type": "code",
   "source": [
    "posterior_β = mean(trans(posterior[i]).β for i in 1:length(posterior))\n",
    "posterior_α = mean(trans(posterior[i]).α for i in 1:length(posterior))\n",
    "posterior_σ = mean(trans(posterior[i]).s for i in 1:length(posterior))[1]^2"
   ],
   "metadata": {},
   "execution_count": 13
  },
  {
   "outputs": [],
   "cell_type": "markdown",
   "source": [
    "Effective sample sizes (of untransformed draws)"
   ],
   "metadata": {}
  },
  {
   "outputs": [
    {
     "output_type": "execute_result",
     "data": {
      "text/plain": "1×13 Array{Float64,2}:\n 1000.0  1000.0  990.475  1000.0  1000.0  …  1000.0  1000.0  1000.0  463.613"
     },
     "metadata": {},
     "execution_count": 14
    }
   ],
   "cell_type": "code",
   "source": [
    "ess = mapslices(effective_sample_size, get_position_matrix(chain); dims = 1)\n",
    "ess"
   ],
   "metadata": {},
   "execution_count": 14
  },
  {
   "outputs": [],
   "cell_type": "markdown",
   "source": [
    "NUTS-specific statistics"
   ],
   "metadata": {}
  },
  {
   "outputs": [
    {
     "output_type": "execute_result",
     "data": {
      "text/plain": "Hamiltonian Monte Carlo sample of length 1000\n  acceptance rate mean: 0.9, min/25%/median/75%/max: 0.05 0.86 0.95 0.99 1.0\n  termination: AdjacentTurn => 9% DoubledTurn => 91%\n  depth: 2 => 0% 3 => 16% 4 => 84%\n"
     },
     "metadata": {},
     "execution_count": 15
    }
   ],
   "cell_type": "code",
   "source": [
    "NUTS_statistics(chain)"
   ],
   "metadata": {},
   "execution_count": 15
  },
  {
   "outputs": [],
   "cell_type": "markdown",
   "source": [
    "CmdStan result"
   ],
   "metadata": {}
  },
  {
   "outputs": [],
   "cell_type": "code",
   "source": [
    "m_12_6_result = \"\n",
    "Iterations = 1:1000\n",
    "Thinning interval = 1\n",
    "Chains = 1,2,3,4\n",
    "Samples per chain = 1000\n",
    "\n",
    "Empirical Posterior Estimates:\n",
    "                            Mean                SD               Naive SE             MCSE            ESS\n",
    "            a          1.076167468  0.7704872560 0.01218247319 0.0210530022 1000.000000\n",
    "           bp         0.263056273  0.0823415805 0.00130193470 0.0022645077 1000.000000\n",
    "  a_society.1   -0.191723568  0.2421382537 0.00382854195 0.0060563054 1000.000000\n",
    "  a_society.2    0.054569029  0.2278506876 0.00360263570 0.0051693148 1000.000000\n",
    "  a_society.3   -0.035935050  0.1926364647 0.00304584994 0.0039948433 1000.000000\n",
    "  a_society.4    0.334355037  0.1929971201 0.00305155241 0.0063871707  913.029080\n",
    "  a_society.5    0.049747513  0.1801287716 0.00284808595 0.0043631095 1000.000000\n",
    "  a_society.6   -0.311903245  0.2096126337 0.00331426674 0.0053000536 1000.000000\n",
    "  a_society.7    0.148637507  0.1744680594 0.00275858223 0.0047660246 1000.000000\n",
    "  a_society.8   -0.164567976  0.1821341074 0.00287979309 0.0034297298 1000.000000\n",
    "  a_society.9    0.277066965  0.1758237250 0.00278001719 0.0055844175  991.286501\n",
    " a_society.10   -0.094149204  0.2846206232 0.00450024719 0.0080735022 1000.000000\n",
    "sigma_society    0.310352849  0.1374834682 0.00217380450 0.0057325226  575.187461\n",
    "\";"
   ],
   "metadata": {},
   "execution_count": 16
  },
  {
   "outputs": [],
   "cell_type": "markdown",
   "source": [
    "Show means"
   ],
   "metadata": {}
  },
  {
   "outputs": [
    {
     "output_type": "execute_result",
     "data": {
      "text/plain": "3-element Array{Any,1}:\n  [1.1349726727521237, 0.25720405990787437]                                                                                                                                                                            \n  [-0.20703238521134099, 0.03936912846769978, -0.04210206871654808, 0.32395510769469954, 0.04449599315078086, -0.31314475526530405, 0.14602929458714461, -0.17065437666161976, 0.2758033713874104, -0.0834128873400268]\n 0.2892828907567338                                                                                                                                                                                                    "
     },
     "metadata": {},
     "execution_count": 17
    }
   ],
   "cell_type": "code",
   "source": [
    "[posterior_β, posterior_α, posterior_σ]"
   ],
   "metadata": {},
   "execution_count": 17
  },
  {
   "outputs": [],
   "cell_type": "markdown",
   "source": [
    "End of m12.6d1.jl"
   ],
   "metadata": {}
  },
  {
   "outputs": [],
   "cell_type": "markdown",
   "source": [
    "*This notebook was generated using [Literate.jl](https://github.com/fredrikekre/Literate.jl).*"
   ],
   "metadata": {}
  }
 ],
 "nbformat_minor": 3,
 "metadata": {
  "language_info": {
   "file_extension": ".jl",
   "mimetype": "application/julia",
   "name": "julia",
   "version": "1.2.0-DEV.446"
  },
  "kernelspec": {
   "name": "julia-1.2",
   "display_name": "Julia 1.2.0-DEV.446",
   "language": "julia"
  }
 },
 "nbformat": 4
}
