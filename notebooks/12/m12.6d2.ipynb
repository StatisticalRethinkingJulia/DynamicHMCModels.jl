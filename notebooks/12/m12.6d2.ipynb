{
 "cells": [
  {
   "outputs": [
    {
     "output_type": "execute_result",
     "data": {
      "text/plain": "(10, 5)"
     },
     "metadata": {},
     "execution_count": 1
    }
   ],
   "cell_type": "code",
   "source": [
    "using DynamicHMCModels\n",
    "\n",
    "ProjDir = rel_path_d(\"..\", \"scripts\", \"12\")\n",
    "\n",
    "df = CSV.read(rel_path( \"..\", \"data\",  \"Kline.csv\"), delim=';');\n",
    "size(df) # Should be 10x5"
   ],
   "metadata": {},
   "execution_count": 1
  },
  {
   "outputs": [],
   "cell_type": "markdown",
   "source": [
    "New col logpop, set log() for population data"
   ],
   "metadata": {}
  },
  {
   "outputs": [
    {
     "output_type": "execute_result",
     "data": {
      "text/plain": "5×3 DataFrame\n│ Row │ total_tools │ logpop  │ society │\n│     │ \u001b[90mInt64\u001b[39m       │ \u001b[90mFloat64\u001b[39m │ \u001b[90mInt64\u001b[39m   │\n├─────┼─────────────┼─────────┼─────────┤\n│ 1   │ 13          │ 7.00307 │ 1       │\n│ 2   │ 22          │ 7.31322 │ 2       │\n│ 3   │ 24          │ 8.18869 │ 3       │\n│ 4   │ 43          │ 8.47449 │ 4       │\n│ 5   │ 33          │ 8.90924 │ 5       │",
      "text/html": [
       "<table class=\"data-frame\"><thead><tr><th></th><th>total_tools</th><th>logpop</th><th>society</th></tr><tr><th></th><th>Int64</th><th>Float64</th><th>Int64</th></tr></thead><tbody><p>5 rows × 3 columns</p><tr><th>1</th><td>13</td><td>7.00307</td><td>1</td></tr><tr><th>2</th><td>22</td><td>7.31322</td><td>2</td></tr><tr><th>3</th><td>24</td><td>8.18869</td><td>3</td></tr><tr><th>4</th><td>43</td><td>8.47449</td><td>4</td></tr><tr><th>5</th><td>33</td><td>8.90924</td><td>5</td></tr></tbody></table>"
      ]
     },
     "metadata": {},
     "execution_count": 2
    }
   ],
   "cell_type": "code",
   "source": [
    "df[!, :society] = 1:10;\n",
    "df[!, :logpop] = map((x) -> log(x), df[!, :population]);\n",
    "#df[!, :total_tools] = convert(Vector{Int64}, df[!, :total_tools])\n",
    "first(df[!, [:total_tools, :logpop, :society]], 5)"
   ],
   "metadata": {},
   "execution_count": 2
  },
  {
   "outputs": [],
   "cell_type": "markdown",
   "source": [
    "Define problem data structure"
   ],
   "metadata": {}
  },
  {
   "outputs": [],
   "cell_type": "code",
   "source": [
    "struct m_12_06d{TY <: AbstractVector, TX <: AbstractMatrix,\n",
    "  TS <: AbstractVector}\n",
    "    \"Observations (total_tools).\"\n",
    "    y::TY\n",
    "    \"Covariates (logpop)\"\n",
    "    X::TX\n",
    "    \"Society\"\n",
    "    S::TS\n",
    "    \"Number of observations (10)\"\n",
    "    N::Int\n",
    "    \"Number of societies (also 10)\"\n",
    "    N_societies::Int\n",
    "end;"
   ],
   "metadata": {},
   "execution_count": 3
  },
  {
   "outputs": [],
   "cell_type": "markdown",
   "source": [
    "Make the type callable with the parameters *as a single argument*."
   ],
   "metadata": {}
  },
  {
   "outputs": [],
   "cell_type": "code",
   "source": [
    "function (problem::m_12_06d)(θ)\n",
    "    @unpack y, X, S, N, N_societies = problem   # extract the data\n",
    "    @unpack β, α, s = trans(θ)  # β : a, bp, α : a_society, s\n",
    "    σ = s[1]^2\n",
    "    ll = 0.0\n",
    "    ll += logpdf(Cauchy(0, 1), σ) # sigma\n",
    "    ll += sum(logpdf.(Normal(0, σ), α)) # α[1:10]\n",
    "    ll += logpdf.(Normal(0, 10), β[1]) # a\n",
    "    ll += logpdf.(Normal(0, 1), β[2]) # bp\n",
    "    ll += sum(\n",
    "      [loglikelihood(Poisson(exp(α[S[i]] + dot(X[i, :], β))), [y[i]]) for i in 1:N]\n",
    "    )\n",
    "end"
   ],
   "metadata": {},
   "execution_count": 4
  },
  {
   "outputs": [],
   "cell_type": "markdown",
   "source": [
    "Instantiate the model with data and inits."
   ],
   "metadata": {}
  },
  {
   "outputs": [],
   "cell_type": "code",
   "source": [
    "N = size(df, 1)\n",
    "N_societies = length(unique(df[!, :society]))\n",
    "X = hcat(ones(Int64, N), df[!, :logpop]);\n",
    "S = df[!, :society];\n",
    "y = df[!, :total_tools];\n",
    "γ = (β = [1.0, 0.25], α = rand(Normal(0, 1), N_societies), s = [0.2]);\n",
    "p = m_12_06d(y, X, S, N, N_societies);"
   ],
   "metadata": {},
   "execution_count": 5
  },
  {
   "outputs": [],
   "cell_type": "markdown",
   "source": [
    "Function convert from a single vector of parms to parks NamedTuple"
   ],
   "metadata": {}
  },
  {
   "outputs": [],
   "cell_type": "code",
   "source": [
    "trans = as((β = as(Array, 2), α = as(Array, 10), s = as(Array, 1)));"
   ],
   "metadata": {},
   "execution_count": 6
  },
  {
   "outputs": [],
   "cell_type": "markdown",
   "source": [
    "Define input parameter vector"
   ],
   "metadata": {}
  },
  {
   "outputs": [
    {
     "output_type": "execute_result",
     "data": {
      "text/plain": "-4158.936566437799"
     },
     "metadata": {},
     "execution_count": 7
    }
   ],
   "cell_type": "code",
   "source": [
    "θ = inverse(trans, γ);\n",
    "p(θ)"
   ],
   "metadata": {},
   "execution_count": 7
  },
  {
   "outputs": [],
   "cell_type": "markdown",
   "source": [
    "Maximum_a_posterior"
   ],
   "metadata": {}
  },
  {
   "outputs": [
    {
     "output_type": "execute_result",
     "data": {
      "text/plain": " * Status: failure\n\n * Candidate solution\n    Minimizer: [1.07e+00, 2.66e-01, -3.38e-13,  ...]\n    Minimum:   -1.429975e+02\n\n * Found with\n    Algorithm:     Fminbox with Gradient Descent\n    Initial Point: [1.00e+00, 2.50e-01, -2.84e-01,  ...]\n\n * Convergence measures\n    |x - x'|               = 1.01e-11 ≰ 0.0e+00\n    |x - x'|/|x'|          = 9.12e-12 ≰ 0.0e+00\n    |f(x) - f(x')|         = 2.40e-06 ≰ 0.0e+00\n    |f(x) - f(x')|/|f(x')| = 1.68e-08 ≰ 0.0e+00\n    |g(x)|                 = 4.47e+05 ≰ 1.0e-08\n\n * Work counters\n    Iterations:    1000\n    f(x) calls:    754557212\n    ∇f(x) calls:   754557212\n"
     },
     "metadata": {},
     "execution_count": 8
    }
   ],
   "cell_type": "code",
   "source": [
    "using Optim\n",
    "\n",
    "x0 = θ;\n",
    "lower = vcat([0.0, 0.0], -3ones(10), [0.0]);\n",
    "upper = vcat([2.0, 1.0], 3ones(10), [5.0]);\n",
    "ll(x) = -p(x);\n",
    "\n",
    "inner_optimizer = GradientDescent()\n",
    "\n",
    "res = optimize(ll, lower, upper, x0, Fminbox(inner_optimizer));\n",
    "res"
   ],
   "metadata": {},
   "execution_count": 8
  },
  {
   "outputs": [],
   "cell_type": "markdown",
   "source": [
    "Minimum gives MAP estimate:"
   ],
   "metadata": {}
  },
  {
   "outputs": [
    {
     "output_type": "execute_result",
     "data": {
      "text/plain": "13-element Array{Float64,1}:\n  1.0698724931479604    \n  0.2658419562959115    \n -3.381328344345346e-13 \n  6.423182312971422e-14 \n -1.349966807244842e-13 \n  7.938212520010843e-13 \n  4.053721034092625e-14 \n -7.721224913515355e-13 \n  3.158313271020159e-13 \n -5.422554760912981e-13 \n  7.676419143178036e-13 \n -3.5282745361778868e-12\n  5.299625548047583e-5  "
     },
     "metadata": {},
     "execution_count": 9
    }
   ],
   "cell_type": "code",
   "source": [
    "Optim.minimizer(res)"
   ],
   "metadata": {},
   "execution_count": 9
  },
  {
   "outputs": [],
   "cell_type": "markdown",
   "source": [
    "Write a function to return properly dimensioned transformation."
   ],
   "metadata": {}
  },
  {
   "outputs": [
    {
     "output_type": "execute_result",
     "data": {
      "text/plain": "problem_transformation (generic function with 1 method)"
     },
     "metadata": {},
     "execution_count": 10
    }
   ],
   "cell_type": "code",
   "source": [
    "problem_transformation(p::m_12_06d) =\n",
    "  as( Vector, length(θ) )"
   ],
   "metadata": {},
   "execution_count": 10
  },
  {
   "outputs": [],
   "cell_type": "markdown",
   "source": [
    "Wrap the problem with a transformation, then use ForwardDiff for the gradient."
   ],
   "metadata": {}
  },
  {
   "outputs": [],
   "cell_type": "code",
   "source": [
    "P = TransformedLogDensity(problem_transformation(p), p)\n",
    "∇P = LogDensityRejectErrors(ADgradient(:ForwardDiff, P));\n",
    "#∇P = ADgradient(:ForwardDiff, P);"
   ],
   "metadata": {},
   "execution_count": 11
  },
  {
   "outputs": [],
   "cell_type": "markdown",
   "source": [
    "Tune and sample."
   ],
   "metadata": {}
  },
  {
   "outputs": [
    {
     "name": "stdout",
     "output_type": "stream",
     "text": [
      "MCMC, adapting ϵ (75 steps)\n",
      "0.0057 s/step ...done\n",
      "MCMC, adapting ϵ (25 steps)\n",
      "0.0061 s/step ...done\n",
      "MCMC, adapting ϵ (50 steps)\n",
      "0.0052 s/step ...done\n",
      "MCMC, adapting ϵ (100 steps)\n",
      "0.0024 s/step ...done\n",
      "MCMC, adapting ϵ (200 steps)\n",
      "0.0015 s/step ...done\n",
      "MCMC, adapting ϵ (400 steps)\n",
      "0.00085 s/step ...done\n",
      "MCMC, adapting ϵ (50 steps)\n",
      "0.0015 s/step ...done\n",
      "MCMC (4000 steps)\n",
      "step 1376 (of 4000), 0.00073 s/step\n",
      "step 2741 (of 4000), 0.00073 s/step\n",
      "0.00072 s/step ...done\n"
     ]
    }
   ],
   "cell_type": "code",
   "source": [
    "chain, NUTS_tuned = NUTS_init_tune_mcmc(∇P, 4000);"
   ],
   "metadata": {},
   "execution_count": 12
  },
  {
   "outputs": [],
   "cell_type": "markdown",
   "source": [
    "We use the transformation to obtain the posterior from the chain."
   ],
   "metadata": {}
  },
  {
   "outputs": [
    {
     "output_type": "execute_result",
     "data": {
      "text/plain": "5-element Array{Array{Float64,1},1}:\n [1.1253772383240437, 0.2622669279848795, 0.12220828838470743, -0.1369849997766338, 0.02271722912313025, 0.49454421718002867, 0.15341007499761383, -0.05991801907704529, 0.2384526685667614, -0.32467509184525245, 0.21486652403184658, 0.03631578358564913, -0.3827019937005194]      \n [1.4259718961173498, 0.22738864681711948, -0.15879319565078936, -0.011617306363702652, -0.09403823223438239, 0.18913989177938156, -0.044102485189420025, -0.37557920610303447, 0.048000652553465244, -0.296828840347033, 0.0797573803924331, -0.0813660084647233, -0.5032575715241459]\n [1.4896572470500349, 0.232544582476378, -0.13263337832673855, -0.03320904446541051, -0.15565347332116952, 0.12616334869529966, -0.16879530401467072, -0.32439652378280576, 0.13086403156261034, -0.2740054411023427, 0.18129734000097128, -0.12150760812066619, -0.5089619013242039]  \n [0.2935812564862246, 0.32891430656041887, -0.3570150568598451, 0.2245955372364483, 0.3898509932638105, 0.46697636082484634, 0.11662169252784022, -0.38187818673753215, 0.1028822192158862, 0.05596048996103552, 0.5182588578367701, -0.09269333906589824, -0.5678476488254981]        \n [0.45876599189062295, 0.3214209715834159, -0.49306107270893945, 0.15599430263141906, 0.38610774141389387, 0.39569782733058084, 0.06405276789559705, -0.3305935951425482, 0.16574099685100482, 0.08569572862637582, 0.5136785072378698, -0.16054232211081132, -0.5650065908745067]     "
     },
     "metadata": {},
     "execution_count": 13
    }
   ],
   "cell_type": "code",
   "source": [
    "posterior = TransformVariables.transform.(Ref(problem_transformation(p)),\n",
    "  get_position.(chain));\n",
    "posterior[1:5]"
   ],
   "metadata": {},
   "execution_count": 13
  },
  {
   "outputs": [],
   "cell_type": "markdown",
   "source": [
    "Extract the parameter posterior means."
   ],
   "metadata": {}
  },
  {
   "outputs": [
    {
     "output_type": "execute_result",
     "data": {
      "text/plain": "0.27249165372476997"
     },
     "metadata": {},
     "execution_count": 14
    }
   ],
   "cell_type": "code",
   "source": [
    "posterior_β = mean(trans(posterior[i]).β for i in 1:length(posterior))\n",
    "posterior_α = mean(trans(posterior[i]).α for i in 1:length(posterior))\n",
    "posterior_σ = mean(trans(posterior[i]).s for i in 1:length(posterior))[1]^2"
   ],
   "metadata": {},
   "execution_count": 14
  },
  {
   "outputs": [],
   "cell_type": "markdown",
   "source": [
    "Effective sample sizes (of untransformed draws)"
   ],
   "metadata": {}
  },
  {
   "outputs": [
    {
     "output_type": "execute_result",
     "data": {
      "text/plain": "1×13 Array{Float64,2}:\n 3296.24  3301.37  3971.67  3626.47  …  2827.36  1926.44  3197.35  488.611"
     },
     "metadata": {},
     "execution_count": 15
    }
   ],
   "cell_type": "code",
   "source": [
    "ess = mapslices(effective_sample_size, get_position_matrix(chain); dims = 1)\n",
    "ess"
   ],
   "metadata": {},
   "execution_count": 15
  },
  {
   "outputs": [],
   "cell_type": "markdown",
   "source": [
    "NUTS-specific statistics"
   ],
   "metadata": {}
  },
  {
   "outputs": [
    {
     "output_type": "execute_result",
     "data": {
      "text/plain": "Hamiltonian Monte Carlo sample of length 4000\n  acceptance rate mean: 0.93, min/25%/median/75%/max: 0.0 0.91 0.97 0.99 1.0\n  termination: AdjacentDivergent => 0% AdjacentTurn => 7% DoubledTurn => 93%\n  depth: 0 => 0% 1 => 0% 2 => 1% 3 => 6% 4 => 92% 5 => 1% 6 => 0%\n"
     },
     "metadata": {},
     "execution_count": 16
    }
   ],
   "cell_type": "code",
   "source": [
    "NUTS_statistics(chain)"
   ],
   "metadata": {},
   "execution_count": 16
  },
  {
   "outputs": [],
   "cell_type": "markdown",
   "source": [
    "CmdStan result"
   ],
   "metadata": {}
  },
  {
   "outputs": [],
   "cell_type": "code",
   "source": [
    "m_12_6_result = \"\n",
    "Iterations = 1:1000\n",
    "Thinning interval = 1\n",
    "Chains = 1,2,3,4\n",
    "Samples per chain = 1000\n",
    "\n",
    "Empirical Posterior Estimates:\n",
    "                            Mean                SD               Naive SE             MCSE            ESS\n",
    "            a          1.076167468  0.7704872560 0.01218247319 0.0210530022 1000.000000\n",
    "           bp         0.263056273  0.0823415805 0.00130193470 0.0022645077 1000.000000\n",
    "  a_society.1   -0.191723568  0.2421382537 0.00382854195 0.0060563054 1000.000000\n",
    "  a_society.2    0.054569029  0.2278506876 0.00360263570 0.0051693148 1000.000000\n",
    "  a_society.3   -0.035935050  0.1926364647 0.00304584994 0.0039948433 1000.000000\n",
    "  a_society.4    0.334355037  0.1929971201 0.00305155241 0.0063871707  913.029080\n",
    "  a_society.5    0.049747513  0.1801287716 0.00284808595 0.0043631095 1000.000000\n",
    "  a_society.6   -0.311903245  0.2096126337 0.00331426674 0.0053000536 1000.000000\n",
    "  a_society.7    0.148637507  0.1744680594 0.00275858223 0.0047660246 1000.000000\n",
    "  a_society.8   -0.164567976  0.1821341074 0.00287979309 0.0034297298 1000.000000\n",
    "  a_society.9    0.277066965  0.1758237250 0.00278001719 0.0055844175  991.286501\n",
    " a_society.10   -0.094149204  0.2846206232 0.00450024719 0.0080735022 1000.000000\n",
    "sigma_society    0.310352849  0.1374834682 0.00217380450 0.0057325226  575.187461\n",
    "\";"
   ],
   "metadata": {},
   "execution_count": 17
  },
  {
   "outputs": [],
   "cell_type": "markdown",
   "source": [
    "Show means"
   ],
   "metadata": {}
  },
  {
   "outputs": [
    {
     "output_type": "execute_result",
     "data": {
      "text/plain": "3-element Array{Any,1}:\n  [1.11643807294995, 0.25946232932934726]                                                                                                                                                                               \n  [-0.1897505644554755, 0.040701885090751795, -0.04180146915130906, 0.31265832957357764, 0.036828532743372715, -0.29682419939231225, 0.13967380955792097, -0.16330897270956143, 0.264447984204219, -0.08758409001758367]\n 0.27249165372476997                                                                                                                                                                                                    "
     },
     "metadata": {},
     "execution_count": 18
    }
   ],
   "cell_type": "code",
   "source": [
    "[posterior_β, posterior_α, posterior_σ]"
   ],
   "metadata": {},
   "execution_count": 18
  },
  {
   "outputs": [],
   "cell_type": "markdown",
   "source": [
    "End of m12.6d1.jl"
   ],
   "metadata": {}
  },
  {
   "outputs": [],
   "cell_type": "markdown",
   "source": [
    "*This notebook was generated using [Literate.jl](https://github.com/fredrikekre/Literate.jl).*"
   ],
   "metadata": {}
  }
 ],
 "nbformat_minor": 3,
 "metadata": {
  "language_info": {
   "file_extension": ".jl",
   "mimetype": "application/julia",
   "name": "julia",
   "version": "1.3.0-alpha.8"
  },
  "kernelspec": {
   "name": "julia-1.3",
   "display_name": "Julia 1.3.0-alpha.8",
   "language": "julia"
  }
 },
 "nbformat": 4
}
